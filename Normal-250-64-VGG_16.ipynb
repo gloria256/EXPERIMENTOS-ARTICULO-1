{
  "nbformat": 4,
  "nbformat_minor": 0,
  "metadata": {
    "colab": {
      "name": "VGG-16.ipynb",
      "provenance": [],
      "collapsed_sections": [],
      "machine_shape": "hm",
      "include_colab_link": true
    },
    "kernelspec": {
      "name": "python3",
      "display_name": "Python 3"
    },
    "accelerator": "GPU"
  },
  "cells": [
    {
      "cell_type": "markdown",
      "metadata": {
        "id": "view-in-github",
        "colab_type": "text"
      },
      "source": [
        "<a href=\"https://colab.research.google.com/github/gloria256/EXPERIMENTOS/blob/master/Normal-250-64-VGG_16.ipynb\" target=\"_parent\"><img src=\"https://colab.research.google.com/assets/colab-badge.svg\" alt=\"Open In Colab\"/></a>"
      ]
    },
    {
      "cell_type": "markdown",
      "metadata": {
        "id": "5ftLDsREupDL",
        "colab_type": "text"
      },
      "source": [
        "# **CLASIFICADOR BINARIO USANDO LA RED: VGG16**\n",
        "\n",
        "\n",
        "\n",
        "\n",
        "\n"
      ]
    },
    {
      "cell_type": "markdown",
      "metadata": {
        "id": "lnRyzy7hvA2O",
        "colab_type": "text"
      },
      "source": [
        "## **1. Librerías necesarias y descarga de la función para la curva ROC en Drive.**"
      ]
    },
    {
      "cell_type": "code",
      "metadata": {
        "id": "rbNiIwHFdiWA",
        "colab_type": "code",
        "outputId": "e48590e0-2249-4fa3-e9a0-5ef3713be333",
        "colab": {
          "base_uri": "https://localhost:8080/",
          "height": 34
        }
      },
      "source": [
        "#IMPORTACION DE LIBRERIAS NECESARIAS\n",
        "import pandas as pd\n",
        "import tensorflow_datasets as tfds\n",
        "import tensorflow as tf\n",
        "import matplotlib.pyplot as plt\n",
        "import cv2\n",
        "import numpy as np\n",
        "import os\n",
        "from keras.applications.resnet import preprocess_input, decode_predictions\n",
        "import sklearn\n",
        "\n",
        "# ACCESO A GOOGLE DRIVE\n",
        "import os\n",
        "from pydrive.auth import GoogleAuth\n",
        "from pydrive.drive import GoogleDrive\n",
        "from google.colab import auth\n",
        "from oauth2client.client import GoogleCredentials\n",
        "auth.authenticate_user()\n",
        "gauth = GoogleAuth()\n",
        "gauth.credentials = GoogleCredentials.get_application_default()\n",
        "drive = GoogleDrive(gauth)\n",
        "\n",
        "#ARCHIVO DE FUNCIONES\n",
        "file_id = '1QTJIzZb4xL9_it6AF4qpz6KJGIpprIVD' \n",
        "downloaded = drive.CreateFile({'id': file_id})\n",
        "downloaded.GetContentFile('funciones_people.py') \n",
        "from funciones_people import roc_multiclass, roc_auc_mc\n"
      ],
      "execution_count": 1,
      "outputs": [
        {
          "output_type": "stream",
          "text": [
            "Using TensorFlow backend.\n"
          ],
          "name": "stderr"
        }
      ]
    },
    {
      "cell_type": "markdown",
      "metadata": {
        "id": "hL2cXKJAkLoA",
        "colab_type": "text"
      },
      "source": [
        "## **4. Descargar imágenes de CIFAR-10**\n",
        "\n",
        "consta de 60000 imágenes en color de 32x32 en 10 clases, con 6000 imágenes por clase. Hay 50000 imágenes de entrenamiento y 10000 imágenes de prueba.\n",
        "\n",
        "El conjunto de datos se divide en cinco lotes de entrenamiento y un lote de prueba, cada uno con 10000 imágenes. El lote de prueba contiene exactamente 1000 imágenes seleccionadas al azar de cada clase. \n",
        "\n",
        "$avión\\hspace{1em}automóvil\\hspace{1em}pájaro\\hspace{1em}gato    \n",
        "ciervo\\hspace{1em}perro\\hspace{1em}rana\\hspace{1em}caballo\\hspace{1em}\n",
        "Embarcacion\\hspace{1em}camión$"
      ]
    },
    {
      "cell_type": "markdown",
      "metadata": {
        "id": "-3cxyDsseRk_",
        "colab_type": "text"
      },
      "source": [
        "#### **A:** Funciones, para seleccionar solo las clases: Gato y perro"
      ]
    },
    {
      "cell_type": "code",
      "metadata": {
        "id": "q1eEICWsfQUB",
        "colab_type": "code",
        "colab": {}
      },
      "source": [
        "def obtener_solo_imagenes_Etiqueta(imagen,etiqueta,num_etiqueta):\n",
        "  Gatos_label=np.where(etiqueta== num_etiqueta)\n",
        "  A=np.zeros([len(Gatos_label[0]),32,32,3],dtype=np.uint8)\n",
        "  for c,i in enumerate(Gatos_label[0]): \n",
        "    A[c]=imagen[i]\n",
        "  return A\n",
        "\n",
        "def cambiar_scala_224x224(imagen):\n",
        "  matriz_imagen1=np.zeros([len(imagen),224,224,3],dtype=np.uint8)\n",
        "  for i in range(len(imagen)):\n",
        "    img=imagen[i]\n",
        "    scale_percent = 700 # percent of original size\n",
        "    width = int(img.shape[1] * scale_percent / 100)\n",
        "    height = int(img.shape[0] * scale_percent / 100)\n",
        "    dim = (width, height)\n",
        "    resized = cv2.resize(img, dim, interpolation = cv2.INTER_AREA)\n",
        "    matriz_imagen1[i]=resized\n",
        "  return matriz_imagen1"
      ],
      "execution_count": 0,
      "outputs": []
    },
    {
      "cell_type": "markdown",
      "metadata": {
        "id": "eegBaLz32hzL",
        "colab_type": "text"
      },
      "source": [
        "#### **B:** Descargar de keras datasets CIFAR10 y seleccionar las imagenes de las clases gato y perro del conjunto de **Train** y **Test**\n",
        "\n",
        "\n"
      ]
    },
    {
      "cell_type": "code",
      "metadata": {
        "id": "jogC9oAGzSuu",
        "colab_type": "code",
        "outputId": "58999ccc-544c-4229-c082-9b69e7a24e15",
        "colab": {
          "base_uri": "https://localhost:8080/",
          "height": 70
        }
      },
      "source": [
        "#IMPORTAMOS EL CONJUNTO DE DATOS DE CIFAR10 DONE: Xdata[0][0]-->Train   Xdata[1][0]-->Test  Xdata[0][1]-->Ytrain  Xdata[1][1]-->Ytest\n",
        "import tensorflow as tf\n",
        "from keras.datasets import cifar10\n",
        "\n",
        "Xdata = tf.keras.datasets.cifar10.load_data()\n",
        "Xdata[1][0].shape\n"
      ],
      "execution_count": 3,
      "outputs": [
        {
          "output_type": "stream",
          "text": [
            "Downloading data from https://www.cs.toronto.edu/~kriz/cifar-10-python.tar.gz\n",
            "170500096/170498071 [==============================] - 2s 0us/step\n"
          ],
          "name": "stdout"
        },
        {
          "output_type": "execute_result",
          "data": {
            "text/plain": [
              "(10000, 32, 32, 3)"
            ]
          },
          "metadata": {
            "tags": []
          },
          "execution_count": 3
        }
      ]
    },
    {
      "cell_type": "code",
      "metadata": {
        "id": "aHZBxtVEIRU9",
        "colab_type": "code",
        "outputId": "f64e0ad2-8747-47bc-a248-df5d55a6e0ec",
        "colab": {
          "base_uri": "https://localhost:8080/",
          "height": 265
        }
      },
      "source": [
        "#OBTENEMOS SOLO LAS IMAGENES DE GATO=3 y perro=5 DE TEST DE CIFAR10, SON 1000 IMAGENES DE GATO y 1000 IMAGENES DE PERRO\n",
        "gato_test = obtener_solo_imagenes_Etiqueta(Xdata[1][0],Xdata[1][1],num_etiqueta=3)\n",
        "perro_test = obtener_solo_imagenes_Etiqueta(Xdata[1][0],Xdata[1][1],num_etiqueta=5)\n",
        "\n",
        "#OBTENEMOS SOLO LAS IMAGENES DE GATO=3 y perro=5 DE TRAIN DE CIFAR10, SON 5000 IMAGENES DE GATO y 5000 IMAGENES DE PERRO\n",
        "gato_train = obtener_solo_imagenes_Etiqueta(Xdata[0][0],Xdata[0][1],num_etiqueta=3)\n",
        "perro_train = obtener_solo_imagenes_Etiqueta(Xdata[0][0],Xdata[0][1],num_etiqueta=5)\n",
        "\n",
        "plt.imshow(gato_test[999])\n",
        "plt.show()"
      ],
      "execution_count": 4,
      "outputs": [
        {
          "output_type": "display_data",
          "data": {
            "image/png": "[encoded data removed]",
            "text/plain": [
              "<Figure size 432x288 with 1 Axes>"
            ]
          },
          "metadata": {
            "tags": [],
            "needs_background": "light"
          }
        }
      ]
    },
    {
      "cell_type": "markdown",
      "metadata": {
        "id": "hMWOHRugFe8l",
        "colab_type": "text"
      },
      "source": [
        "## **5. Agrupar conjunto de datos, en uno solo (X)**\n",
        "\n",
        "Gato_test, Conjunto de satos de 1000 imágenes tomadas de CIFAR10 - TEST\n",
        "Gato_train, Conjunto de satos de 5000 imágenes tomadas de CIFAR10 - TRAIN\n",
        "\n",
        "perro_test, Conjunto de satos de 1000 imágenes tomadas de CIFAR10 - TEST\n",
        "perro_train, Conjunto de satos de 5000 imágenes tomadas de CIFAR10 - TRAIN\n",
        "\n",
        "\n",
        "> $X= Cifar10_{gato} + Cifar10_{perro}$\n"
      ]
    },
    {
      "cell_type": "markdown",
      "metadata": {
        "id": "T1tteHSs9YRA",
        "colab_type": "text"
      },
      "source": [
        "####**A:** Unir etiquetas y matrices de cada conjunto para fromar **X** de 2000 imágenes"
      ]
    },
    {
      "cell_type": "code",
      "metadata": {
        "id": "kyfpKkbQVtcH",
        "colab_type": "code",
        "outputId": "c0d3e8b0-cc95-433f-9c9f-aca4f12dd8ce",
        "colab": {
          "base_uri": "https://localhost:8080/",
          "height": 34
        }
      },
      "source": [
        "#UNIR LAS IMAGENES EN UN SOLO CONJUNTO\n",
        "#X = np.concatenate((gato_test[0:500], gato_train[0:500], perro_test[0:500], perro_train[0:500]), axis=0)\n",
        "#X_label=np.concatenate(([1]*500, [1]*500, [0]*500, [0]*500), axis=0)\n",
        "#UNIR ETIQUETAS EN UN SOLO CONJUNTO \n",
        "# 1-->GATO   0-->PERRO\n",
        "\n",
        "Xtrain = np.concatenate((gato_train[0:800], perro_train[0:800]), axis=0)\n",
        "Xtrain_label=np.concatenate(([1]*800,[0]*800), axis=0)\n",
        "Xtest  = np.concatenate((gato_test[0:200], perro_test[0:200]), axis=0)\n",
        "Xtest_label=np.concatenate(([1]*200,[0]*200), axis=0)\n",
        "\n",
        "print(len(Xtrain),len(Xtrain_label),'  y  ',len(Xtest),len(Xtest_label))"
      ],
      "execution_count": 5,
      "outputs": [
        {
          "output_type": "stream",
          "text": [
            "1600 1600   y   400 400\n"
          ],
          "name": "stdout"
        }
      ]
    },
    {
      "cell_type": "markdown",
      "metadata": {
        "id": "tBhSseFp27Z_",
        "colab_type": "text"
      },
      "source": [
        "#### **B:** Cambiar tamaño de 32x32x3, a scala de: 224x224x3 (**Ver función:** cambiar_scala_224x224(X))\n",
        "\n",
        "\n"
      ]
    },
    {
      "cell_type": "code",
      "metadata": {
        "id": "_YxLJAILu3ql",
        "colab_type": "code",
        "outputId": "d028c6ac-5cd7-4565-bfe2-c3234ea0d2c9",
        "colab": {
          "base_uri": "https://localhost:8080/",
          "height": 34
        }
      },
      "source": [
        "import cv2\n",
        "Xtrain=cambiar_scala_224x224(Xtrain)\n",
        "Xtest=cambiar_scala_224x224(Xtest)\n",
        "print(Xtrain.shape,'  ',Xtest.shape)"
      ],
      "execution_count": 6,
      "outputs": [
        {
          "output_type": "stream",
          "text": [
            "(1600, 224, 224, 3)    (400, 224, 224, 3)\n"
          ],
          "name": "stdout"
        }
      ]
    },
    {
      "cell_type": "code",
      "metadata": {
        "id": "p5e8d0PxpMoQ",
        "colab_type": "code",
        "outputId": "c19b5697-ca82-4b0f-d995-fe66fff09fb0",
        "colab": {
          "base_uri": "https://localhost:8080/",
          "height": 281
        }
      },
      "source": [
        "plt.imshow(Xtrain[5])\n",
        "plt.title('clase:%s'%Xtrain_label[5])\n",
        "plt.show()"
      ],
      "execution_count": 7,
      "outputs": [
        {
          "output_type": "display_data",
          "data": {
            "image/png": "[encoded data removed]",
            "text/plain": [
              "<Figure size 432x288 with 1 Axes>"
            ]
          },
          "metadata": {
            "tags": [],
            "needs_background": "light"
          }
        }
      ]
    },
    {
      "cell_type": "markdown",
      "metadata": {
        "id": "V6wmv0oX9tQ0",
        "colab_type": "text"
      },
      "source": [
        "####**C:** Pasar X, a un pandas, en este caso por cuestiones de espacio en memoria, solo se cojen: X[i][0][0][0:3] y se agrega para cada imagen al pandas X_PD con sus respectivas etiquetas X_label.\n",
        "\n",
        "\n"
      ]
    },
    {
      "cell_type": "code",
      "metadata": {
        "id": "WUoZ0rx1Ajop",
        "colab_type": "code",
        "colab": {}
      },
      "source": [
        "#ARMAR PANDAS CON SOLO 5 DATOS DE CADA UNA DE LAS 12000 IMAGENES PARA PODER PARTICIONAR EL CONJUNTO Y PODER SACAR YTRAIN Y YTEST\n",
        "Xtrain_PD=np.zeros([len(Xtrain),3])\n",
        "Xtest_PD=np.zeros([len(Xtest),3])\n",
        "\n",
        "for i in range(len(Xtrain)):\n",
        "  Xtrain_PD[i]=Xtrain[i][0][0][0:3]\n",
        "\n",
        "for i in range(len(Xtest)):\n",
        "  Xtest_PD[i]=Xtest[i][0][0][0:3]\n"
      ],
      "execution_count": 0,
      "outputs": []
    },
    {
      "cell_type": "code",
      "metadata": {
        "id": "mpoM4c89GilL",
        "colab_type": "code",
        "colab": {}
      },
      "source": [
        "#ARMAR PANDAS DE TODAS LAS IMAGENNES, SE BARAJAN Y SE DEJAN LOS INDICES SIN REINICIAR, PARA LUEGO ENCONTRAR LA IMAGEN QUE LE PERTENECE A CADA ETIQUETA.\n",
        "Xtrain_PD=pd.DataFrame(Xtrain_PD)\n",
        "Xtrain_PD[\"label\"]=Xtrain_label    \n",
        "Xtrain_PD = Xtrain_PD.sample(frac=1)#.reset_index(drop=True) #frac=1significa devolver todas las filas (en orden aleatorio).\n",
        "\n",
        "Xtest_PD=pd.DataFrame(Xtest_PD)\n",
        "Xtest_PD[\"label\"]=Xtest_label    \n",
        "Xtest_PD = Xtest_PD.sample(frac=1)"
      ],
      "execution_count": 0,
      "outputs": []
    },
    {
      "cell_type": "markdown",
      "metadata": {
        "id": "EjdPZOFN-P9d",
        "colab_type": "text"
      },
      "source": [
        "####**C:** Se particiona el conjuto de X_PD en Xtrain y Xtest, con 80%, 20% respectivamente y se sacan los Ytrain, Ytest por aparte."
      ]
    },
    {
      "cell_type": "code",
      "metadata": {
        "id": "qRFhRdcE9qj_",
        "colab_type": "code",
        "outputId": "2d435454-6f5f-4249-b4c4-db17668fe0e9",
        "colab": {
          "base_uri": "https://localhost:8080/",
          "height": 34
        }
      },
      "source": [
        "#PARTICIONAR EL CONJUNTO DE XDATA EN XTRAIN Y XTEST\n",
        "#from sklearn.model_selection import train_test_split\n",
        "#Xtrain, Xtest = train_test_split(X_PD,test_size=0.2)\n",
        "\n",
        "col_sal=\"label\"\n",
        "Ytrain = Xtrain_PD[col_sal]\n",
        "Xtrain_PD.drop(columns=col_sal,inplace=True)\n",
        "Ytest = Xtest_PD[col_sal]\n",
        "Xtest_PD.drop(columns=col_sal,inplace=True)\n",
        "\n",
        "print(len(Ytrain),len(Ytest))"
      ],
      "execution_count": 10,
      "outputs": [
        {
          "output_type": "stream",
          "text": [
            "1600 400\n"
          ],
          "name": "stdout"
        }
      ]
    },
    {
      "cell_type": "markdown",
      "metadata": {
        "id": "4FlAT9CE-ogZ",
        "colab_type": "text"
      },
      "source": [
        "####**D:** Del pandas **X_PD** creado, se saca Ytrain, luego aquí,se sacan sus indices y se relacionan con la matrix de datos unidos **X** para armar el array **XTRAIN** que es el que va a la entrada de la red neuronal VGG-16."
      ]
    },
    {
      "cell_type": "code",
      "metadata": {
        "id": "xNSoYUIj70QB",
        "colab_type": "code",
        "outputId": "e0d42dc8-3f8f-4fc9-a9ca-d0cb55990953",
        "colab": {
          "base_uri": "https://localhost:8080/",
          "height": 34
        }
      },
      "source": [
        "#SE ARMA EL CONJUNTO XTRAIN FINAL, A PARTIR DE LOS INDICES DE LAS ETIQUETAS.\n",
        "\n",
        "def relacion_indices_etiquetas_con_XTRAIN(X,Y):\n",
        "  A=np.zeros([len(Y),224,224,3],dtype=np.uint8)\n",
        "  B=[]\n",
        "  for c,i in enumerate(Y.index):\n",
        "    A[c]=X[i]\n",
        "    B.append(Y[i])\n",
        "  return A,np.array(B)\n",
        "\n",
        "\n",
        "XTRAIN,YTRAIN = relacion_indices_etiquetas_con_XTRAIN(Xtrain,Ytrain)\n",
        "XTEST,YTEST = relacion_indices_etiquetas_con_XTRAIN(Xtest,Ytest)\n",
        "print('xtrain: ',XTRAIN.shape,YTRAIN.shape,'  xtest: ',XTEST.shape,YTEST.shape)\n",
        "\n",
        "#c = np.all(np.array(YTRAIN) == np.array(Ytrain))\n",
        "#Ytrain.index"
      ],
      "execution_count": 11,
      "outputs": [
        {
          "output_type": "stream",
          "text": [
            "xtrain:  (1600, 224, 224, 3) (1600,)   xtest:  (400, 224, 224, 3) (400,)\n"
          ],
          "name": "stdout"
        }
      ]
    },
    {
      "cell_type": "code",
      "metadata": {
        "id": "M-lxgxSTfm7u",
        "colab_type": "code",
        "outputId": "62213e46-61e7-4069-9d0d-bfa3b2be5d35",
        "colab": {
          "base_uri": "https://localhost:8080/",
          "height": 34
        }
      },
      "source": [
        "#LAS PASAMOS A TENSOR, NO HAYNECESIDAD DE QUE YTRAIN SEA UN TENSOR.\n",
        "XTRAIN=tf.constant(XTRAIN)\n",
        "YTRAIN=tf.constant(YTRAIN)\n",
        "\n",
        "XTEST=tf.constant(XTEST)\n",
        "YTEST=tf.constant(YTEST)\n",
        "print(type(XTRAIN))"
      ],
      "execution_count": 12,
      "outputs": [
        {
          "output_type": "stream",
          "text": [
            "<class 'tensorflow.python.framework.ops.EagerTensor'>\n"
          ],
          "name": "stdout"
        }
      ]
    },
    {
      "cell_type": "code",
      "metadata": {
        "id": "NqVmpVA5-KRM",
        "colab_type": "code",
        "outputId": "6cb9627c-a573-41a0-8255-7a2cb9a14929",
        "colab": {
          "base_uri": "https://localhost:8080/",
          "height": 281
        }
      },
      "source": [
        "plt.imshow(XTRAIN[5])\n",
        "plt.title('clase:%s'%YTRAIN[5])\n",
        "plt.show()\n"
      ],
      "execution_count": 13,
      "outputs": [
        {
          "output_type": "display_data",
          "data": {
            "image/png": "[encoded data removed]",
            "text/plain": [
              "<Figure size 432x288 with 1 Axes>"
            ]
          },
          "metadata": {
            "tags": [],
            "needs_background": "light"
          }
        }
      ]
    },
    {
      "cell_type": "markdown",
      "metadata": {
        "id": "QajCSoSIeCEm",
        "colab_type": "text"
      },
      "source": [
        "##**6. Importar el modelo de la VGG-16 y configurar el último bloque.**\n",
        "\n",
        "### Dejar la ultima capa y agregar la capa densa de salida, para que tenga 1 salida.  "
      ]
    },
    {
      "cell_type": "code",
      "metadata": {
        "id": "tf0CXg9BN5aH",
        "colab_type": "code",
        "outputId": "b4f84f8e-358f-4369-9460-3276dc1b530e",
        "colab": {
          "base_uri": "https://localhost:8080/",
          "height": 1000
        }
      },
      "source": [
        "import tensorflow as tf\n",
        "\n",
        "model_VGG16 = tf.keras.applications.vgg16.VGG16(weights='imagenet')#,include_top=False)\n",
        "model_VGG16 = tf.keras.models.Model(inputs=model_VGG16.input, outputs=model_VGG16.layers[-3].output)\n",
        "\n",
        "#X  =  tf.keras.layers.Dropout(0.2)(model_VGG16.output)\n",
        "X  =  tf.keras.layers.Dense(4096,activation='relu',name='fc2' )(model_VGG16.output)\n",
        "#X1  =  tf.keras.layers.Dense(4096,activation='relu',name='fc2' )(X)\n",
        "#X3=tf.keras.layers.dot([X1, X], axes=1, normalize=True)#PROBAR CON TRUE\n",
        "#X  =  tf.keras.layers.Dropout(0.2)(X)\n",
        "output = tf.keras.layers.Dense(1, activation=\"sigmoid\", name='salida')(X)\n",
        "model = tf.keras.models.Model(inputs=model_VGG16.input, outputs=output)\n",
        "\n",
        "\n",
        "model.summary()"
      ],
      "execution_count": 14,
      "outputs": [
        {
          "output_type": "stream",
          "text": [
            "Downloading data from https://storage.googleapis.com/tensorflow/keras-applications/vgg16/vgg16_weights_tf_dim_ordering_tf_kernels.h5\n",
            "553467904/553467096 [==============================] - 7s 0us/step\n",
            "Model: \"model_1\"\n",
            "_________________________________________________________________\n",
            "Layer (type)                 Output Shape              Param #   \n",
            "=================================================================\n",
            "input_1 (InputLayer)         [(None, 224, 224, 3)]     0         \n",
            "_________________________________________________________________\n",
            "block1_conv1 (Conv2D)        (None, 224, 224, 64)      1792      \n",
            "_________________________________________________________________\n",
            "block1_conv2 (Conv2D)        (None, 224, 224, 64)      36928     \n",
            "_________________________________________________________________\n",
            "block1_pool (MaxPooling2D)   (None, 112, 112, 64)      0         \n",
            "_________________________________________________________________\n",
            "block2_conv1 (Conv2D)        (None, 112, 112, 128)     73856     \n",
            "_________________________________________________________________\n",
            "block2_conv2 (Conv2D)        (None, 112, 112, 128)     147584    \n",
            "_________________________________________________________________\n",
            "block2_pool (MaxPooling2D)   (None, 56, 56, 128)       0         \n",
            "_________________________________________________________________\n",
            "block3_conv1 (Conv2D)        (None, 56, 56, 256)       295168    \n",
            "_________________________________________________________________\n",
            "block3_conv2 (Conv2D)        (None, 56, 56, 256)       590080    \n",
            "_________________________________________________________________\n",
            "block3_conv3 (Conv2D)        (None, 56, 56, 256)       590080    \n",
            "_________________________________________________________________\n",
            "block3_pool (MaxPooling2D)   (None, 28, 28, 256)       0         \n",
            "_________________________________________________________________\n",
            "block4_conv1 (Conv2D)        (None, 28, 28, 512)       1180160   \n",
            "_________________________________________________________________\n",
            "block4_conv2 (Conv2D)        (None, 28, 28, 512)       2359808   \n",
            "_________________________________________________________________\n",
            "block4_conv3 (Conv2D)        (None, 28, 28, 512)       2359808   \n",
            "_________________________________________________________________\n",
            "block4_pool (MaxPooling2D)   (None, 14, 14, 512)       0         \n",
            "_________________________________________________________________\n",
            "block5_conv1 (Conv2D)        (None, 14, 14, 512)       2359808   \n",
            "_________________________________________________________________\n",
            "block5_conv2 (Conv2D)        (None, 14, 14, 512)       2359808   \n",
            "_________________________________________________________________\n",
            "block5_conv3 (Conv2D)        (None, 14, 14, 512)       2359808   \n",
            "_________________________________________________________________\n",
            "block5_pool (MaxPooling2D)   (None, 7, 7, 512)         0         \n",
            "_________________________________________________________________\n",
            "flatten (Flatten)            (None, 25088)             0         \n",
            "_________________________________________________________________\n",
            "fc1 (Dense)                  (None, 4096)              102764544 \n",
            "_________________________________________________________________\n",
            "fc2 (Dense)                  (None, 4096)              16781312  \n",
            "_________________________________________________________________\n",
            "salida (Dense)               (None, 1)                 4097      \n",
            "=================================================================\n",
            "Total params: 134,264,641\n",
            "Trainable params: 134,264,641\n",
            "Non-trainable params: 0\n",
            "_________________________________________________________________\n"
          ],
          "name": "stdout"
        }
      ]
    },
    {
      "cell_type": "code",
      "metadata": {
        "id": "7fGtZsYu191T",
        "colab_type": "code",
        "colab": {}
      },
      "source": [
        "#SE CONGELAN LOS PESOS DE TODAS LAS CAPAS MENOS DE LAS cuatro ULTIMAS CAPAS\n",
        "for layer in model.layers[:-3]:\n",
        "  layer.trainable=False"
      ],
      "execution_count": 0,
      "outputs": []
    },
    {
      "cell_type": "code",
      "metadata": {
        "id": "oa5ctNvRTWuQ",
        "colab_type": "code",
        "outputId": "bd8371dc-310b-4aa1-9172-d343be0ddfbb",
        "colab": {
          "base_uri": "https://localhost:8080/",
          "height": 425
        }
      },
      "source": [
        "#SE VERIFICA QUE LAS CUATRO ULTIMAS CAPAS ESTE EN TRUE Y LAS DEMÁS EN FALSE\n",
        "for layer in model.layers:\n",
        "  layer, layer.trainable\n",
        "  print(layer, layer.trainable)"
      ],
      "execution_count": 16,
      "outputs": [
        {
          "output_type": "stream",
          "text": [
            "<tensorflow.python.keras.engine.input_layer.InputLayer object at 0x7f6b70066da0> False\n",
            "<tensorflow.python.keras.layers.convolutional.Conv2D object at 0x7f6b9ff78898> False\n",
            "<tensorflow.python.keras.layers.convolutional.Conv2D object at 0x7f6b83b19940> False\n",
            "<tensorflow.python.keras.layers.pooling.MaxPooling2D object at 0x7f6b70074cf8> False\n",
            "<tensorflow.python.keras.layers.convolutional.Conv2D object at 0x7f6b2604eac8> False\n",
            "<tensorflow.python.keras.layers.convolutional.Conv2D object at 0x7f6b260614e0> False\n",
            "<tensorflow.python.keras.layers.pooling.MaxPooling2D object at 0x7f6b260683c8> False\n",
            "<tensorflow.python.keras.layers.convolutional.Conv2D object at 0x7f6b26068278> False\n",
            "<tensorflow.python.keras.layers.convolutional.Conv2D object at 0x7f6b2606f5c0> False\n",
            "<tensorflow.python.keras.layers.convolutional.Conv2D object at 0x7f6b26077780> False\n",
            "<tensorflow.python.keras.layers.pooling.MaxPooling2D object at 0x7f6b0f7be6a0> False\n",
            "<tensorflow.python.keras.layers.convolutional.Conv2D object at 0x7f6b0f7be518> False\n",
            "<tensorflow.python.keras.layers.convolutional.Conv2D object at 0x7f6b0f7c5860> False\n",
            "<tensorflow.python.keras.layers.convolutional.Conv2D object at 0x7f6b0f7cda20> False\n",
            "<tensorflow.python.keras.layers.pooling.MaxPooling2D object at 0x7f6b0f7d3940> False\n",
            "<tensorflow.python.keras.layers.convolutional.Conv2D object at 0x7f6b0f7d37b8> False\n",
            "<tensorflow.python.keras.layers.convolutional.Conv2D object at 0x7f6b0f7dbb00> False\n",
            "<tensorflow.python.keras.layers.convolutional.Conv2D object at 0x7f6b0f7e4278> False\n",
            "<tensorflow.python.keras.layers.pooling.MaxPooling2D object at 0x7f6b0f7ec898> False\n",
            "<tensorflow.python.keras.layers.core.Flatten object at 0x7f6b0f7ecf98> False\n",
            "<tensorflow.python.keras.layers.core.Dense object at 0x7f6b0f7f0f28> True\n",
            "<tensorflow.python.keras.layers.core.Dense object at 0x7f6b0f7a0668> True\n",
            "<tensorflow.python.keras.layers.core.Dense object at 0x7f6b0f7a0b70> True\n"
          ],
          "name": "stdout"
        }
      ]
    },
    {
      "cell_type": "markdown",
      "metadata": {
        "id": "jEGBQQ8j7o1r",
        "colab_type": "text"
      },
      "source": [
        "##**6. Definir el optimizador para la funcion de costo, así como la funcion de pérdida y las metricas de evaluación del odelo a través de la compilacion del modelo.**\n",
        "\n",
        "Loss $\\hspace{1em} \\rightarrow \\hspace{1em}$ $-ylog(x)\\hat{y} + (1-y)log(1-\\hat{y}) $ \n"
      ]
    },
    {
      "cell_type": "code",
      "metadata": {
        "id": "n0VAt8V_1OvU",
        "colab_type": "code",
        "colab": {}
      },
      "source": [
        "#DEFINIR OPTIMIZADOR, FUNCIONES DE PERIDA Y METRICAS\n",
        "#optimizer = tf.keras.optimizers.SGD(learning_rate=0.001, momentum=0.9)\n",
        "optimizer = tf.keras.optimizers.Adam(learning_rate=0.001)#, beta_1=0.9, beta_2=0.999, epsilon=1e-07)\n",
        "#loss='mean_squared_logariic_errorthm'\n",
        "model.compile(loss='binary_crossentropy', optimizer=optimizer, metrics=['mse','mae','accuracy','Recall','Precision'])#,"
      ],
      "execution_count": 0,
      "outputs": []
    },
    {
      "cell_type": "markdown",
      "metadata": {
        "id": "7UUX2Kpy7Ya4",
        "colab_type": "text"
      },
      "source": [
        "##**7. Entrenar el modelo con XTRAIN como un array de 4 dimensiones.**\n",
        "\n",
        "---\n",
        "\n",
        "\n"
      ]
    },
    {
      "cell_type": "code",
      "metadata": {
        "id": "gegszIDZE3C0",
        "colab_type": "code",
        "outputId": "d83a1624-084e-4b45-9495-7c7604bc43f7",
        "colab": {
          "base_uri": "https://localhost:8080/",
          "height": 34
        }
      },
      "source": [
        "print(len(XTRAIN),len(YTRAIN))\n"
      ],
      "execution_count": 18,
      "outputs": [
        {
          "output_type": "stream",
          "text": [
            "1600 1600\n"
          ],
          "name": "stdout"
        }
      ]
    },
    {
      "cell_type": "code",
      "metadata": {
        "id": "WHXivSHN9b5_",
        "colab_type": "code",
        "outputId": "3e99a8ea-0590-4938-fe32-337f45097f5b",
        "colab": {
          "base_uri": "https://localhost:8080/",
          "height": 1000
        }
      },
      "source": [
        "#ENTRENAR EL MODELO CREADO \n",
        "history=model.fit(XTRAIN,YTRAIN,epochs=250,batch_size=64)               "
      ],
      "execution_count": 19,
      "outputs": [
        {
          "output_type": "stream",
          "text": [
            "Epoch 1/250\n",
            "WARNING:tensorflow:From /usr/local/lib/python3.6/dist-packages/tensorflow/python/ops/resource_variable_ops.py:1817: calling BaseResourceVariable.__init__ (from tensorflow.python.ops.resource_variable_ops) with constraint is deprecated and will be removed in a future version.\n",
            "Instructions for updating:\n",
            "If using Keras pass *_constraint arguments to layers.\n",
            "25/25 [==============================] - 4s 151ms/step - loss: 11.5800 - mse: 0.3955 - mae: 0.4627 - accuracy: 0.5437 - recall: 0.5075 - precision: 0.5472\n",
            "Epoch 2/250\n",
            "25/25 [==============================] - 4s 150ms/step - loss: 0.4768 - mse: 0.1546 - mae: 0.2931 - accuracy: 0.7750 - recall: 0.7887 - precision: 0.7676\n",
            "Epoch 3/250\n",
            "25/25 [==============================] - 4s 150ms/step - loss: 0.2198 - mse: 0.0673 - mae: 0.1410 - accuracy: 0.9112 - recall: 0.9050 - precision: 0.9165\n",
            "Epoch 4/250\n",
            "25/25 [==============================] - 4s 151ms/step - loss: 0.0743 - mse: 0.0206 - mae: 0.0484 - accuracy: 0.9731 - recall: 0.9762 - precision: 0.9702\n",
            "Epoch 5/250\n",
            "25/25 [==============================] - 4s 151ms/step - loss: 0.0363 - mse: 0.0102 - mae: 0.0230 - accuracy: 0.9862 - recall: 0.9837 - precision: 0.9887\n",
            "Epoch 6/250\n",
            "25/25 [==============================] - 4s 150ms/step - loss: 0.0248 - mse: 0.0071 - mae: 0.0154 - accuracy: 0.9900 - recall: 0.9900 - precision: 0.9900\n",
            "Epoch 7/250\n",
            "25/25 [==============================] - 4s 150ms/step - loss: 0.0205 - mse: 0.0062 - mae: 0.0130 - accuracy: 0.9906 - recall: 0.9900 - precision: 0.9912\n",
            "Epoch 8/250\n",
            "25/25 [==============================] - 4s 150ms/step - loss: 0.1205 - mse: 0.0326 - mae: 0.0536 - accuracy: 0.9581 - recall: 0.9613 - precision: 0.9553\n",
            "Epoch 9/250\n",
            "25/25 [==============================] - 4s 150ms/step - loss: 0.0456 - mse: 0.0124 - mae: 0.0245 - accuracy: 0.9837 - recall: 0.9875 - precision: 0.9801\n",
            "Epoch 10/250\n",
            "25/25 [==============================] - 4s 150ms/step - loss: 0.0155 - mse: 0.0037 - mae: 0.0091 - accuracy: 0.9962 - recall: 0.9950 - precision: 0.9975\n",
            "Epoch 11/250\n",
            "25/25 [==============================] - 4s 151ms/step - loss: 0.0145 - mse: 0.0030 - mae: 0.0067 - accuracy: 0.9962 - recall: 0.9962 - precision: 0.9962\n",
            "Epoch 12/250\n",
            "25/25 [==============================] - 4s 151ms/step - loss: 0.0546 - mse: 0.0126 - mae: 0.0212 - accuracy: 0.9844 - recall: 0.9850 - precision: 0.9838\n",
            "Epoch 13/250\n",
            "25/25 [==============================] - 4s 150ms/step - loss: 0.0162 - mse: 0.0042 - mae: 0.0089 - accuracy: 0.9944 - recall: 0.9962 - precision: 0.9925\n",
            "Epoch 14/250\n",
            "25/25 [==============================] - 4s 150ms/step - loss: 0.0133 - mse: 0.0034 - mae: 0.0082 - accuracy: 0.9962 - recall: 0.9950 - precision: 0.9975\n",
            "Epoch 15/250\n",
            "25/25 [==============================] - 4s 151ms/step - loss: 0.0096 - mse: 0.0028 - mae: 0.0055 - accuracy: 0.9962 - recall: 0.9975 - precision: 0.9950\n",
            "Epoch 16/250\n",
            "25/25 [==============================] - 4s 150ms/step - loss: 0.0428 - mse: 0.0082 - mae: 0.0126 - accuracy: 0.9912 - recall: 0.9925 - precision: 0.9900\n",
            "Epoch 17/250\n",
            "25/25 [==============================] - 4s 150ms/step - loss: 0.0774 - mse: 0.0210 - mae: 0.0305 - accuracy: 0.9706 - recall: 0.9725 - precision: 0.9689\n",
            "Epoch 18/250\n",
            "25/25 [==============================] - 4s 150ms/step - loss: 0.0603 - mse: 0.0122 - mae: 0.0200 - accuracy: 0.9844 - recall: 0.9837 - precision: 0.9850\n",
            "Epoch 19/250\n",
            "25/25 [==============================] - 4s 150ms/step - loss: 0.0340 - mse: 0.0072 - mae: 0.0125 - accuracy: 0.9900 - recall: 0.9875 - precision: 0.9925\n",
            "Epoch 20/250\n",
            "25/25 [==============================] - 4s 150ms/step - loss: 0.0138 - mse: 0.0037 - mae: 0.0087 - accuracy: 0.9956 - recall: 0.9962 - precision: 0.9950\n",
            "Epoch 21/250\n",
            "25/25 [==============================] - 4s 150ms/step - loss: 0.0111 - mse: 0.0028 - mae: 0.0048 - accuracy: 0.9962 - recall: 0.9950 - precision: 0.9975\n",
            "Epoch 22/250\n",
            "25/25 [==============================] - 4s 150ms/step - loss: 0.0270 - mse: 0.0056 - mae: 0.0086 - accuracy: 0.9931 - recall: 0.9962 - precision: 0.9901\n",
            "Epoch 23/250\n",
            "25/25 [==============================] - 4s 150ms/step - loss: 0.0424 - mse: 0.0087 - mae: 0.0136 - accuracy: 0.9900 - recall: 0.9900 - precision: 0.9900\n",
            "Epoch 24/250\n",
            "25/25 [==============================] - 4s 150ms/step - loss: 0.0290 - mse: 0.0084 - mae: 0.0150 - accuracy: 0.9887 - recall: 0.9875 - precision: 0.9900\n",
            "Epoch 25/250\n",
            "25/25 [==============================] - 4s 150ms/step - loss: 0.0255 - mse: 0.0055 - mae: 0.0083 - accuracy: 0.9937 - recall: 0.9937 - precision: 0.9937\n",
            "Epoch 26/250\n",
            "25/25 [==============================] - 4s 151ms/step - loss: 0.0199 - mse: 0.0057 - mae: 0.0099 - accuracy: 0.9931 - recall: 0.9937 - precision: 0.9925\n",
            "Epoch 27/250\n",
            "25/25 [==============================] - 4s 151ms/step - loss: 0.0093 - mse: 0.0023 - mae: 0.0040 - accuracy: 0.9975 - recall: 0.9987 - precision: 0.9963\n",
            "Epoch 28/250\n",
            "25/25 [==============================] - 4s 150ms/step - loss: 0.0091 - mse: 0.0024 - mae: 0.0044 - accuracy: 0.9962 - recall: 0.9962 - precision: 0.9962\n",
            "Epoch 29/250\n",
            "25/25 [==============================] - 4s 150ms/step - loss: 0.0240 - mse: 0.0059 - mae: 0.0097 - accuracy: 0.9944 - recall: 0.9937 - precision: 0.9950\n",
            "Epoch 30/250\n",
            "25/25 [==============================] - 4s 150ms/step - loss: 0.0140 - mse: 0.0044 - mae: 0.0070 - accuracy: 0.9950 - recall: 0.9962 - precision: 0.9938\n",
            "Epoch 31/250\n",
            "25/25 [==============================] - 4s 150ms/step - loss: 0.0189 - mse: 0.0048 - mae: 0.0081 - accuracy: 0.9937 - recall: 0.9925 - precision: 0.9950\n",
            "Epoch 32/250\n",
            "25/25 [==============================] - 4s 150ms/step - loss: 0.0044 - mse: 0.0011 - mae: 0.0028 - accuracy: 0.9987 - recall: 0.9987 - precision: 0.9987\n",
            "Epoch 33/250\n",
            "25/25 [==============================] - 4s 150ms/step - loss: 2.0443e-04 - mse: 5.7223e-06 - mae: 2.0147e-04 - accuracy: 1.0000 - recall: 1.0000 - precision: 1.0000\n",
            "Epoch 34/250\n",
            "25/25 [==============================] - 4s 150ms/step - loss: 4.2194e-05 - mse: 7.9955e-08 - mae: 4.2153e-05 - accuracy: 1.0000 - recall: 1.0000 - precision: 1.0000\n",
            "Epoch 35/250\n",
            "25/25 [==============================] - 4s 150ms/step - loss: 3.0541e-05 - mse: 3.9641e-08 - mae: 3.0521e-05 - accuracy: 1.0000 - recall: 1.0000 - precision: 1.0000\n",
            "Epoch 36/250\n",
            "25/25 [==============================] - 4s 150ms/step - loss: 2.3427e-05 - mse: 2.0742e-08 - mae: 2.3416e-05 - accuracy: 1.0000 - recall: 1.0000 - precision: 1.0000\n",
            "Epoch 37/250\n",
            "25/25 [==============================] - 4s 151ms/step - loss: 2.0561e-05 - mse: 1.5916e-08 - mae: 2.0552e-05 - accuracy: 1.0000 - recall: 1.0000 - precision: 1.0000\n",
            "Epoch 38/250\n",
            "25/25 [==============================] - 4s 150ms/step - loss: 1.8627e-05 - mse: 1.2710e-08 - mae: 1.8619e-05 - accuracy: 1.0000 - recall: 1.0000 - precision: 1.0000\n",
            "Epoch 39/250\n",
            "25/25 [==============================] - 4s 150ms/step - loss: 1.5626e-05 - mse: 9.0531e-09 - mae: 1.5621e-05 - accuracy: 1.0000 - recall: 1.0000 - precision: 1.0000\n",
            "Epoch 40/250\n",
            "25/25 [==============================] - 4s 150ms/step - loss: 1.3942e-05 - mse: 7.1853e-09 - mae: 1.3938e-05 - accuracy: 1.0000 - recall: 1.0000 - precision: 1.0000\n",
            "Epoch 41/250\n",
            "25/25 [==============================] - 4s 150ms/step - loss: 1.2842e-05 - mse: 6.2319e-09 - mae: 1.2838e-05 - accuracy: 1.0000 - recall: 1.0000 - precision: 1.0000\n",
            "Epoch 42/250\n",
            "25/25 [==============================] - 4s 150ms/step - loss: 1.1811e-05 - mse: 5.3430e-09 - mae: 1.1807e-05 - accuracy: 1.0000 - recall: 1.0000 - precision: 1.0000\n",
            "Epoch 43/250\n",
            "25/25 [==============================] - 4s 150ms/step - loss: 1.0754e-05 - mse: 4.5494e-09 - mae: 1.0751e-05 - accuracy: 1.0000 - recall: 1.0000 - precision: 1.0000\n",
            "Epoch 44/250\n",
            "25/25 [==============================] - 4s 150ms/step - loss: 9.3041e-06 - mse: 3.7066e-09 - mae: 9.3013e-06 - accuracy: 1.0000 - recall: 1.0000 - precision: 1.0000\n",
            "Epoch 45/250\n",
            "25/25 [==============================] - 4s 150ms/step - loss: 8.3856e-06 - mse: 3.2680e-09 - mae: 8.3830e-06 - accuracy: 1.0000 - recall: 1.0000 - precision: 1.0000\n",
            "Epoch 46/250\n",
            "25/25 [==============================] - 4s 150ms/step - loss: 7.5502e-06 - mse: 2.9135e-09 - mae: 7.5480e-06 - accuracy: 1.0000 - recall: 1.0000 - precision: 1.0000\n",
            "Epoch 47/250\n",
            "25/25 [==============================] - 4s 150ms/step - loss: 6.7207e-06 - mse: 2.4108e-09 - mae: 6.7190e-06 - accuracy: 1.0000 - recall: 1.0000 - precision: 1.0000\n",
            "Epoch 48/250\n",
            "25/25 [==============================] - 4s 150ms/step - loss: 5.5209e-06 - mse: 1.6859e-09 - mae: 5.5187e-06 - accuracy: 1.0000 - recall: 1.0000 - precision: 1.0000\n",
            "Epoch 49/250\n",
            "25/25 [==============================] - 4s 150ms/step - loss: 4.6957e-06 - mse: 1.4262e-09 - mae: 4.6948e-06 - accuracy: 1.0000 - recall: 1.0000 - precision: 1.0000\n",
            "Epoch 50/250\n",
            "25/25 [==============================] - 4s 150ms/step - loss: 3.4275e-06 - mse: 7.5649e-10 - mae: 3.4261e-06 - accuracy: 1.0000 - recall: 1.0000 - precision: 1.0000\n",
            "Epoch 51/250\n",
            "25/25 [==============================] - 4s 150ms/step - loss: 2.6046e-06 - mse: 5.3148e-10 - mae: 2.6031e-06 - accuracy: 1.0000 - recall: 1.0000 - precision: 1.0000\n",
            "Epoch 52/250\n",
            "25/25 [==============================] - 4s 150ms/step - loss: 2.1708e-06 - mse: 4.3219e-10 - mae: 2.1700e-06 - accuracy: 1.0000 - recall: 1.0000 - precision: 1.0000\n",
            "Epoch 53/250\n",
            "25/25 [==============================] - 4s 150ms/step - loss: 1.7439e-06 - mse: 2.7180e-10 - mae: 1.7432e-06 - accuracy: 1.0000 - recall: 1.0000 - precision: 1.0000\n",
            "Epoch 54/250\n",
            "25/25 [==============================] - 4s 150ms/step - loss: 1.2819e-06 - mse: 1.2541e-10 - mae: 1.2815e-06 - accuracy: 1.0000 - recall: 1.0000 - precision: 1.0000\n",
            "Epoch 55/250\n",
            "25/25 [==============================] - 4s 150ms/step - loss: 9.9948e-07 - mse: 7.3517e-11 - mae: 9.9897e-07 - accuracy: 1.0000 - recall: 1.0000 - precision: 1.0000\n",
            "Epoch 56/250\n",
            "25/25 [==============================] - 4s 150ms/step - loss: 8.9230e-07 - mse: 5.2161e-11 - mae: 8.9138e-07 - accuracy: 1.0000 - recall: 1.0000 - precision: 1.0000\n",
            "Epoch 57/250\n",
            "25/25 [==============================] - 4s 150ms/step - loss: 7.7007e-07 - mse: 4.2876e-11 - mae: 7.6911e-07 - accuracy: 1.0000 - recall: 1.0000 - precision: 1.0000\n",
            "Epoch 58/250\n",
            "25/25 [==============================] - 4s 150ms/step - loss: 6.8059e-07 - mse: 3.2818e-11 - mae: 6.7910e-07 - accuracy: 1.0000 - recall: 1.0000 - precision: 1.0000\n",
            "Epoch 59/250\n",
            "25/25 [==============================] - 4s 150ms/step - loss: 6.0867e-07 - mse: 2.5126e-11 - mae: 6.0801e-07 - accuracy: 1.0000 - recall: 1.0000 - precision: 1.0000\n",
            "Epoch 60/250\n",
            "25/25 [==============================] - 4s 150ms/step - loss: 5.5332e-07 - mse: 2.1409e-11 - mae: 5.5211e-07 - accuracy: 1.0000 - recall: 1.0000 - precision: 1.0000\n",
            "Epoch 61/250\n",
            "25/25 [==============================] - 4s 150ms/step - loss: 5.0721e-07 - mse: 1.8524e-11 - mae: 5.0621e-07 - accuracy: 1.0000 - recall: 1.0000 - precision: 1.0000\n",
            "Epoch 62/250\n",
            "25/25 [==============================] - 4s 151ms/step - loss: 4.6522e-07 - mse: 1.4610e-11 - mae: 4.6389e-07 - accuracy: 1.0000 - recall: 1.0000 - precision: 1.0000\n",
            "Epoch 63/250\n",
            "25/25 [==============================] - 4s 150ms/step - loss: 4.3136e-07 - mse: 1.2850e-11 - mae: 4.3068e-07 - accuracy: 1.0000 - recall: 1.0000 - precision: 1.0000\n",
            "Epoch 64/250\n",
            "25/25 [==============================] - 4s 150ms/step - loss: 4.0081e-07 - mse: 1.0376e-11 - mae: 3.9998e-07 - accuracy: 1.0000 - recall: 1.0000 - precision: 1.0000\n",
            "Epoch 65/250\n",
            "25/25 [==============================] - 4s 150ms/step - loss: 3.6417e-07 - mse: 8.6659e-12 - mae: 3.6363e-07 - accuracy: 1.0000 - recall: 1.0000 - precision: 1.0000\n",
            "Epoch 66/250\n",
            "25/25 [==============================] - 4s 150ms/step - loss: 3.4613e-07 - mse: 8.6822e-12 - mae: 3.4531e-07 - accuracy: 1.0000 - recall: 1.0000 - precision: 1.0000\n",
            "Epoch 67/250\n",
            "25/25 [==============================] - 4s 150ms/step - loss: 3.2194e-07 - mse: 7.0060e-12 - mae: 3.2114e-07 - accuracy: 1.0000 - recall: 1.0000 - precision: 1.0000\n",
            "Epoch 68/250\n",
            "25/25 [==============================] - 4s 150ms/step - loss: 3.0220e-07 - mse: 6.1383e-12 - mae: 3.0112e-07 - accuracy: 1.0000 - recall: 1.0000 - precision: 1.0000\n",
            "Epoch 69/250\n",
            "25/25 [==============================] - 4s 150ms/step - loss: 2.8179e-07 - mse: 5.4181e-12 - mae: 2.8090e-07 - accuracy: 1.0000 - recall: 1.0000 - precision: 1.0000\n",
            "Epoch 70/250\n",
            "25/25 [==============================] - 4s 150ms/step - loss: 2.6587e-07 - mse: 4.7852e-12 - mae: 2.6501e-07 - accuracy: 1.0000 - recall: 1.0000 - precision: 1.0000\n",
            "Epoch 71/250\n",
            "25/25 [==============================] - 4s 150ms/step - loss: 2.5109e-07 - mse: 4.1432e-12 - mae: 2.5019e-07 - accuracy: 1.0000 - recall: 1.0000 - precision: 1.0000\n",
            "Epoch 72/250\n",
            "25/25 [==============================] - 4s 150ms/step - loss: 2.3614e-07 - mse: 3.6547e-12 - mae: 2.3505e-07 - accuracy: 1.0000 - recall: 1.0000 - precision: 1.0000\n",
            "Epoch 73/250\n",
            "25/25 [==============================] - 4s 150ms/step - loss: 2.2757e-07 - mse: 3.6030e-12 - mae: 2.2675e-07 - accuracy: 1.0000 - recall: 1.0000 - precision: 1.0000\n",
            "Epoch 74/250\n",
            "25/25 [==============================] - 4s 150ms/step - loss: 2.1458e-07 - mse: 2.7381e-12 - mae: 2.1408e-07 - accuracy: 1.0000 - recall: 1.0000 - precision: 1.0000\n",
            "Epoch 75/250\n",
            "25/25 [==============================] - 4s 150ms/step - loss: 1.9921e-07 - mse: 2.4345e-12 - mae: 1.9851e-07 - accuracy: 1.0000 - recall: 1.0000 - precision: 1.0000\n",
            "Epoch 76/250\n",
            "25/25 [==============================] - 4s 150ms/step - loss: 2.0188e-07 - mse: 2.9278e-12 - mae: 2.0111e-07 - accuracy: 1.0000 - recall: 1.0000 - precision: 1.0000\n",
            "Epoch 77/250\n",
            "25/25 [==============================] - 4s 150ms/step - loss: 1.8627e-07 - mse: 2.0346e-12 - mae: 1.8560e-07 - accuracy: 1.0000 - recall: 1.0000 - precision: 1.0000\n",
            "Epoch 78/250\n",
            "25/25 [==============================] - 4s 150ms/step - loss: 1.7214e-07 - mse: 1.7804e-12 - mae: 1.7151e-07 - accuracy: 1.0000 - recall: 1.0000 - precision: 1.0000\n",
            "Epoch 79/250\n",
            "25/25 [==============================] - 4s 150ms/step - loss: 1.6396e-07 - mse: 1.6146e-12 - mae: 1.6343e-07 - accuracy: 1.0000 - recall: 1.0000 - precision: 1.0000\n",
            "Epoch 80/250\n",
            "25/25 [==============================] - 4s 150ms/step - loss: 1.5727e-07 - mse: 1.5540e-12 - mae: 1.5645e-07 - accuracy: 1.0000 - recall: 1.0000 - precision: 1.0000\n",
            "Epoch 81/250\n",
            "25/25 [==============================] - 4s 150ms/step - loss: 1.5192e-07 - mse: 1.3842e-12 - mae: 1.5135e-07 - accuracy: 1.0000 - recall: 1.0000 - precision: 1.0000\n",
            "Epoch 82/250\n",
            "25/25 [==============================] - 4s 150ms/step - loss: 1.4440e-07 - mse: 1.2494e-12 - mae: 1.4403e-07 - accuracy: 1.0000 - recall: 1.0000 - precision: 1.0000\n",
            "Epoch 83/250\n",
            "25/25 [==============================] - 4s 150ms/step - loss: 1.3742e-07 - mse: 1.1208e-12 - mae: 1.3700e-07 - accuracy: 1.0000 - recall: 1.0000 - precision: 1.0000\n",
            "Epoch 84/250\n",
            "25/25 [==============================] - 4s 151ms/step - loss: 1.3259e-07 - mse: 1.0836e-12 - mae: 1.3214e-07 - accuracy: 1.0000 - recall: 1.0000 - precision: 1.0000\n",
            "Epoch 85/250\n",
            "25/25 [==============================] - 4s 151ms/step - loss: 1.2677e-07 - mse: 9.5206e-13 - mae: 1.2616e-07 - accuracy: 1.0000 - recall: 1.0000 - precision: 1.0000\n",
            "Epoch 86/250\n",
            "25/25 [==============================] - 4s 150ms/step - loss: 1.2291e-07 - mse: 8.4563e-13 - mae: 1.2238e-07 - accuracy: 1.0000 - recall: 1.0000 - precision: 1.0000\n",
            "Epoch 87/250\n",
            "25/25 [==============================] - 4s 150ms/step - loss: 1.1662e-07 - mse: 7.9223e-13 - mae: 1.1602e-07 - accuracy: 1.0000 - recall: 1.0000 - precision: 1.0000\n",
            "Epoch 88/250\n",
            "25/25 [==============================] - 4s 150ms/step - loss: 1.1331e-07 - mse: 7.6029e-13 - mae: 1.1278e-07 - accuracy: 1.0000 - recall: 1.0000 - precision: 1.0000\n",
            "Epoch 89/250\n",
            "25/25 [==============================] - 4s 150ms/step - loss: 1.0957e-07 - mse: 6.9761e-13 - mae: 1.0913e-07 - accuracy: 1.0000 - recall: 1.0000 - precision: 1.0000\n",
            "Epoch 90/250\n",
            "25/25 [==============================] - 4s 151ms/step - loss: 1.0527e-07 - mse: 6.1597e-13 - mae: 1.0436e-07 - accuracy: 1.0000 - recall: 1.0000 - precision: 1.0000\n",
            "Epoch 91/250\n",
            "25/25 [==============================] - 4s 150ms/step - loss: 1.0126e-07 - mse: 5.7732e-13 - mae: 1.0030e-07 - accuracy: 1.0000 - recall: 1.0000 - precision: 1.0000\n",
            "Epoch 92/250\n",
            "25/25 [==============================] - 4s 150ms/step - loss: 9.8216e-08 - mse: 5.6186e-13 - mae: 9.7681e-08 - accuracy: 1.0000 - recall: 1.0000 - precision: 1.0000\n",
            "Epoch 93/250\n",
            "25/25 [==============================] - 4s 150ms/step - loss: 9.5571e-08 - mse: 4.9951e-13 - mae: 9.5117e-08 - accuracy: 1.0000 - recall: 1.0000 - precision: 1.0000\n",
            "Epoch 94/250\n",
            "25/25 [==============================] - 4s 150ms/step - loss: 9.2443e-08 - mse: 4.7196e-13 - mae: 9.1400e-08 - accuracy: 1.0000 - recall: 1.0000 - precision: 1.0000\n",
            "Epoch 95/250\n",
            "25/25 [==============================] - 4s 150ms/step - loss: 9.0581e-08 - mse: 5.1219e-13 - mae: 8.9931e-08 - accuracy: 1.0000 - recall: 1.0000 - precision: 1.0000\n",
            "Epoch 96/250\n",
            "25/25 [==============================] - 4s 150ms/step - loss: 8.5768e-08 - mse: 4.0579e-13 - mae: 8.4513e-08 - accuracy: 1.0000 - recall: 1.0000 - precision: 1.0000\n",
            "Epoch 97/250\n",
            "25/25 [==============================] - 4s 150ms/step - loss: 8.3654e-08 - mse: 3.9920e-13 - mae: 8.2694e-08 - accuracy: 1.0000 - recall: 1.0000 - precision: 1.0000\n",
            "Epoch 98/250\n",
            "25/25 [==============================] - 4s 150ms/step - loss: 8.1117e-08 - mse: 3.6674e-13 - mae: 8.0147e-08 - accuracy: 1.0000 - recall: 1.0000 - precision: 1.0000\n",
            "Epoch 99/250\n",
            "25/25 [==============================] - 4s 150ms/step - loss: 7.8382e-08 - mse: 3.2885e-13 - mae: 7.7444e-08 - accuracy: 1.0000 - recall: 1.0000 - precision: 1.0000\n",
            "Epoch 100/250\n",
            "25/25 [==============================] - 4s 150ms/step - loss: 7.6137e-08 - mse: 3.2150e-13 - mae: 7.4875e-08 - accuracy: 1.0000 - recall: 1.0000 - precision: 1.0000\n",
            "Epoch 101/250\n",
            "25/25 [==============================] - 4s 150ms/step - loss: 7.4784e-08 - mse: 3.1427e-13 - mae: 7.3715e-08 - accuracy: 1.0000 - recall: 1.0000 - precision: 1.0000\n",
            "Epoch 102/250\n",
            "25/25 [==============================] - 4s 150ms/step - loss: 7.2104e-08 - mse: 2.7812e-13 - mae: 7.1523e-08 - accuracy: 1.0000 - recall: 1.0000 - precision: 1.0000\n",
            "Epoch 103/250\n",
            "25/25 [==============================] - 4s 150ms/step - loss: 6.9713e-08 - mse: 2.5575e-13 - mae: 6.8727e-08 - accuracy: 1.0000 - recall: 1.0000 - precision: 1.0000\n",
            "Epoch 104/250\n",
            "25/25 [==============================] - 4s 150ms/step - loss: 6.9250e-08 - mse: 2.7625e-13 - mae: 6.8070e-08 - accuracy: 1.0000 - recall: 1.0000 - precision: 1.0000\n",
            "Epoch 105/250\n",
            "25/25 [==============================] - 4s 150ms/step - loss: 6.5899e-08 - mse: 2.2927e-13 - mae: 6.5011e-08 - accuracy: 1.0000 - recall: 1.0000 - precision: 1.0000\n",
            "Epoch 106/250\n",
            "25/25 [==============================] - 4s 150ms/step - loss: 6.5091e-08 - mse: 2.3370e-13 - mae: 6.3862e-08 - accuracy: 1.0000 - recall: 1.0000 - precision: 1.0000\n",
            "Epoch 107/250\n",
            "25/25 [==============================] - 4s 150ms/step - loss: 6.2173e-08 - mse: 2.0251e-13 - mae: 6.1187e-08 - accuracy: 1.0000 - recall: 1.0000 - precision: 1.0000\n",
            "Epoch 108/250\n",
            "25/25 [==============================] - 4s 150ms/step - loss: 6.0782e-08 - mse: 1.8809e-13 - mae: 5.9868e-08 - accuracy: 1.0000 - recall: 1.0000 - precision: 1.0000\n",
            "Epoch 109/250\n",
            "25/25 [==============================] - 4s 150ms/step - loss: 5.9706e-08 - mse: 1.9247e-13 - mae: 5.8635e-08 - accuracy: 1.0000 - recall: 1.0000 - precision: 1.0000\n",
            "Epoch 110/250\n",
            "25/25 [==============================] - 4s 150ms/step - loss: 5.8127e-08 - mse: 1.7696e-13 - mae: 5.7080e-08 - accuracy: 1.0000 - recall: 1.0000 - precision: 1.0000\n",
            "Epoch 111/250\n",
            "25/25 [==============================] - 4s 150ms/step - loss: 5.7660e-08 - mse: 1.8087e-13 - mae: 5.6592e-08 - accuracy: 1.0000 - recall: 1.0000 - precision: 1.0000\n",
            "Epoch 112/250\n",
            "25/25 [==============================] - 4s 150ms/step - loss: 5.5551e-08 - mse: 1.5496e-13 - mae: 5.4637e-08 - accuracy: 1.0000 - recall: 1.0000 - precision: 1.0000\n",
            "Epoch 113/250\n",
            "25/25 [==============================] - 4s 150ms/step - loss: 5.3960e-08 - mse: 1.4784e-13 - mae: 5.2916e-08 - accuracy: 1.0000 - recall: 1.0000 - precision: 1.0000\n",
            "Epoch 114/250\n",
            "25/25 [==============================] - 4s 150ms/step - loss: 5.3562e-08 - mse: 1.5807e-13 - mae: 5.2688e-08 - accuracy: 1.0000 - recall: 1.0000 - precision: 1.0000\n",
            "Epoch 115/250\n",
            "25/25 [==============================] - 4s 150ms/step - loss: 5.1945e-08 - mse: 1.3614e-13 - mae: 5.0868e-08 - accuracy: 1.0000 - recall: 1.0000 - precision: 1.0000\n",
            "Epoch 116/250\n",
            "25/25 [==============================] - 4s 150ms/step - loss: 5.0834e-08 - mse: 1.3280e-13 - mae: 5.0006e-08 - accuracy: 1.0000 - recall: 1.0000 - precision: 1.0000\n",
            "Epoch 117/250\n",
            "25/25 [==============================] - 4s 150ms/step - loss: 4.8853e-08 - mse: 1.2022e-13 - mae: 4.7972e-08 - accuracy: 1.0000 - recall: 1.0000 - precision: 1.0000\n",
            "Epoch 118/250\n",
            "25/25 [==============================] - 4s 150ms/step - loss: 4.7969e-08 - mse: 1.1632e-13 - mae: 4.6963e-08 - accuracy: 1.0000 - recall: 1.0000 - precision: 1.0000\n",
            "Epoch 119/250\n",
            "25/25 [==============================] - 4s 150ms/step - loss: 4.6963e-08 - mse: 1.0961e-13 - mae: 4.5963e-08 - accuracy: 1.0000 - recall: 1.0000 - precision: 1.0000\n",
            "Epoch 120/250\n",
            "25/25 [==============================] - 4s 150ms/step - loss: 4.6987e-08 - mse: 1.1900e-13 - mae: 4.6046e-08 - accuracy: 1.0000 - recall: 1.0000 - precision: 1.0000\n",
            "Epoch 121/250\n",
            "25/25 [==============================] - 4s 150ms/step - loss: 4.4804e-08 - mse: 9.9228e-14 - mae: 4.4037e-08 - accuracy: 1.0000 - recall: 1.0000 - precision: 1.0000\n",
            "Epoch 122/250\n",
            "25/25 [==============================] - 4s 150ms/step - loss: 4.5170e-08 - mse: 1.0050e-13 - mae: 4.4691e-08 - accuracy: 1.0000 - recall: 1.0000 - precision: 1.0000\n",
            "Epoch 123/250\n",
            "25/25 [==============================] - 4s 150ms/step - loss: 4.2887e-08 - mse: 9.1452e-14 - mae: 4.2222e-08 - accuracy: 1.0000 - recall: 1.0000 - precision: 1.0000\n",
            "Epoch 124/250\n",
            "25/25 [==============================] - 4s 150ms/step - loss: 4.2842e-08 - mse: 9.6593e-14 - mae: 4.1944e-08 - accuracy: 1.0000 - recall: 1.0000 - precision: 1.0000\n",
            "Epoch 125/250\n",
            "25/25 [==============================] - 4s 149ms/step - loss: 4.1418e-08 - mse: 8.6654e-14 - mae: 4.0713e-08 - accuracy: 1.0000 - recall: 1.0000 - precision: 1.0000\n",
            "Epoch 126/250\n",
            "25/25 [==============================] - 4s 150ms/step - loss: 4.0673e-08 - mse: 8.0180e-14 - mae: 4.0337e-08 - accuracy: 1.0000 - recall: 1.0000 - precision: 1.0000\n",
            "Epoch 127/250\n",
            "25/25 [==============================] - 4s 150ms/step - loss: 3.9662e-08 - mse: 7.5301e-14 - mae: 3.9220e-08 - accuracy: 1.0000 - recall: 1.0000 - precision: 1.0000\n",
            "Epoch 128/250\n",
            "25/25 [==============================] - 4s 150ms/step - loss: 3.9193e-08 - mse: 7.5297e-14 - mae: 3.8769e-08 - accuracy: 1.0000 - recall: 1.0000 - precision: 1.0000\n",
            "Epoch 129/250\n",
            "25/25 [==============================] - 4s 150ms/step - loss: 3.8129e-08 - mse: 7.2164e-14 - mae: 3.7747e-08 - accuracy: 1.0000 - recall: 1.0000 - precision: 1.0000\n",
            "Epoch 130/250\n",
            "25/25 [==============================] - 4s 150ms/step - loss: 3.7820e-08 - mse: 7.2009e-14 - mae: 3.7199e-08 - accuracy: 1.0000 - recall: 1.0000 - precision: 1.0000\n",
            "Epoch 131/250\n",
            "25/25 [==============================] - 4s 150ms/step - loss: 3.7025e-08 - mse: 6.6255e-14 - mae: 3.6949e-08 - accuracy: 1.0000 - recall: 1.0000 - precision: 1.0000\n",
            "Epoch 132/250\n",
            "25/25 [==============================] - 4s 150ms/step - loss: 3.6553e-08 - mse: 6.5544e-14 - mae: 3.6053e-08 - accuracy: 1.0000 - recall: 1.0000 - precision: 1.0000\n",
            "Epoch 133/250\n",
            "25/25 [==============================] - 4s 150ms/step - loss: 3.5367e-08 - mse: 6.0796e-14 - mae: 3.4844e-08 - accuracy: 1.0000 - recall: 1.0000 - precision: 1.0000\n",
            "Epoch 134/250\n",
            "25/25 [==============================] - 4s 150ms/step - loss: 3.4812e-08 - mse: 5.9224e-14 - mae: 3.4250e-08 - accuracy: 1.0000 - recall: 1.0000 - precision: 1.0000\n",
            "Epoch 135/250\n",
            "25/25 [==============================] - 4s 150ms/step - loss: 3.4057e-08 - mse: 5.6083e-14 - mae: 3.3502e-08 - accuracy: 1.0000 - recall: 1.0000 - precision: 1.0000\n",
            "Epoch 136/250\n",
            "25/25 [==============================] - 4s 150ms/step - loss: 3.3413e-08 - mse: 5.2632e-14 - mae: 3.2732e-08 - accuracy: 1.0000 - recall: 1.0000 - precision: 1.0000\n",
            "Epoch 137/250\n",
            "25/25 [==============================] - 4s 149ms/step - loss: 3.3359e-08 - mse: 5.6302e-14 - mae: 3.2894e-08 - accuracy: 1.0000 - recall: 1.0000 - precision: 1.0000\n",
            "Epoch 138/250\n",
            "25/25 [==============================] - 4s 150ms/step - loss: 3.2237e-08 - mse: 4.9440e-14 - mae: 3.1683e-08 - accuracy: 1.0000 - recall: 1.0000 - precision: 1.0000\n",
            "Epoch 139/250\n",
            "25/25 [==============================] - 4s 150ms/step - loss: 3.1496e-08 - mse: 4.7626e-14 - mae: 3.0908e-08 - accuracy: 1.0000 - recall: 1.0000 - precision: 1.0000\n",
            "Epoch 140/250\n",
            "25/25 [==============================] - 4s 150ms/step - loss: 3.1078e-08 - mse: 4.5475e-14 - mae: 3.0414e-08 - accuracy: 1.0000 - recall: 1.0000 - precision: 1.0000\n",
            "Epoch 141/250\n",
            "25/25 [==============================] - 4s 150ms/step - loss: 3.0749e-08 - mse: 4.5778e-14 - mae: 3.0215e-08 - accuracy: 1.0000 - recall: 1.0000 - precision: 1.0000\n",
            "Epoch 142/250\n",
            "25/25 [==============================] - 4s 150ms/step - loss: 3.0148e-08 - mse: 4.3739e-14 - mae: 2.9597e-08 - accuracy: 1.0000 - recall: 1.0000 - precision: 1.0000\n",
            "Epoch 143/250\n",
            "25/25 [==============================] - 4s 150ms/step - loss: 2.9545e-08 - mse: 4.1860e-14 - mae: 2.8918e-08 - accuracy: 1.0000 - recall: 1.0000 - precision: 1.0000\n",
            "Epoch 144/250\n",
            "25/25 [==============================] - 4s 150ms/step - loss: 2.9097e-08 - mse: 4.0443e-14 - mae: 2.8653e-08 - accuracy: 1.0000 - recall: 1.0000 - precision: 1.0000\n",
            "Epoch 145/250\n",
            "25/25 [==============================] - 4s 150ms/step - loss: 2.8747e-08 - mse: 3.9441e-14 - mae: 2.8278e-08 - accuracy: 1.0000 - recall: 1.0000 - precision: 1.0000\n",
            "Epoch 146/250\n",
            "25/25 [==============================] - 4s 150ms/step - loss: 2.8091e-08 - mse: 3.7544e-14 - mae: 2.7641e-08 - accuracy: 1.0000 - recall: 1.0000 - precision: 1.0000\n",
            "Epoch 147/250\n",
            "25/25 [==============================] - 4s 150ms/step - loss: 2.7627e-08 - mse: 3.5960e-14 - mae: 2.7082e-08 - accuracy: 1.0000 - recall: 1.0000 - precision: 1.0000\n",
            "Epoch 148/250\n",
            "25/25 [==============================] - 4s 150ms/step - loss: 2.7429e-08 - mse: 3.5184e-14 - mae: 2.6919e-08 - accuracy: 1.0000 - recall: 1.0000 - precision: 1.0000\n",
            "Epoch 149/250\n",
            "25/25 [==============================] - 4s 150ms/step - loss: 2.6756e-08 - mse: 3.4586e-14 - mae: 2.6367e-08 - accuracy: 1.0000 - recall: 1.0000 - precision: 1.0000\n",
            "Epoch 150/250\n",
            "25/25 [==============================] - 4s 150ms/step - loss: 2.6433e-08 - mse: 3.3945e-14 - mae: 2.6064e-08 - accuracy: 1.0000 - recall: 1.0000 - precision: 1.0000\n",
            "Epoch 151/250\n",
            "25/25 [==============================] - 4s 150ms/step - loss: 2.5784e-08 - mse: 3.1372e-14 - mae: 2.5575e-08 - accuracy: 1.0000 - recall: 1.0000 - precision: 1.0000\n",
            "Epoch 152/250\n",
            "25/25 [==============================] - 4s 150ms/step - loss: 2.5590e-08 - mse: 3.1157e-14 - mae: 2.5104e-08 - accuracy: 1.0000 - recall: 1.0000 - precision: 1.0000\n",
            "Epoch 153/250\n",
            "25/25 [==============================] - 4s 150ms/step - loss: 2.4965e-08 - mse: 2.8773e-14 - mae: 2.4458e-08 - accuracy: 1.0000 - recall: 1.0000 - precision: 1.0000\n",
            "Epoch 154/250\n",
            "25/25 [==============================] - 4s 150ms/step - loss: 2.4687e-08 - mse: 2.8398e-14 - mae: 2.4295e-08 - accuracy: 1.0000 - recall: 1.0000 - precision: 1.0000\n",
            "Epoch 155/250\n",
            "25/25 [==============================] - 4s 150ms/step - loss: 2.4236e-08 - mse: 2.7355e-14 - mae: 2.3793e-08 - accuracy: 1.0000 - recall: 1.0000 - precision: 1.0000\n",
            "Epoch 156/250\n",
            "25/25 [==============================] - 4s 150ms/step - loss: 2.3862e-08 - mse: 2.6257e-14 - mae: 2.3335e-08 - accuracy: 1.0000 - recall: 1.0000 - precision: 1.0000\n",
            "Epoch 157/250\n",
            "25/25 [==============================] - 4s 150ms/step - loss: 2.3543e-08 - mse: 2.5964e-14 - mae: 2.3019e-08 - accuracy: 1.0000 - recall: 1.0000 - precision: 1.0000\n",
            "Epoch 158/250\n",
            "25/25 [==============================] - 4s 150ms/step - loss: 2.3036e-08 - mse: 2.4412e-14 - mae: 2.2476e-08 - accuracy: 1.0000 - recall: 1.0000 - precision: 1.0000\n",
            "Epoch 159/250\n",
            "25/25 [==============================] - 4s 150ms/step - loss: 2.2872e-08 - mse: 2.3857e-14 - mae: 2.2214e-08 - accuracy: 1.0000 - recall: 1.0000 - precision: 1.0000\n",
            "Epoch 160/250\n",
            "25/25 [==============================] - 4s 150ms/step - loss: 2.2228e-08 - mse: 2.1909e-14 - mae: 2.1512e-08 - accuracy: 1.0000 - recall: 1.0000 - precision: 1.0000\n",
            "Epoch 161/250\n",
            "25/25 [==============================] - 4s 150ms/step - loss: 2.2126e-08 - mse: 2.2724e-14 - mae: 2.1485e-08 - accuracy: 1.0000 - recall: 1.0000 - precision: 1.0000\n",
            "Epoch 162/250\n",
            "25/25 [==============================] - 4s 150ms/step - loss: 2.1672e-08 - mse: 2.1575e-14 - mae: 2.1092e-08 - accuracy: 1.0000 - recall: 1.0000 - precision: 1.0000\n",
            "Epoch 163/250\n",
            "25/25 [==============================] - 4s 151ms/step - loss: 2.1229e-08 - mse: 2.0473e-14 - mae: 2.0585e-08 - accuracy: 1.0000 - recall: 1.0000 - precision: 1.0000\n",
            "Epoch 164/250\n",
            "25/25 [==============================] - 4s 151ms/step - loss: 2.0938e-08 - mse: 1.9986e-14 - mae: 2.0341e-08 - accuracy: 1.0000 - recall: 1.0000 - precision: 1.0000\n",
            "Epoch 165/250\n",
            "25/25 [==============================] - 4s 151ms/step - loss: 2.0577e-08 - mse: 1.8930e-14 - mae: 1.9881e-08 - accuracy: 1.0000 - recall: 1.0000 - precision: 1.0000\n",
            "Epoch 166/250\n",
            "25/25 [==============================] - 4s 150ms/step - loss: 2.0274e-08 - mse: 1.8585e-14 - mae: 1.9578e-08 - accuracy: 1.0000 - recall: 1.0000 - precision: 1.0000\n",
            "Epoch 167/250\n",
            "25/25 [==============================] - 4s 150ms/step - loss: 2.0024e-08 - mse: 1.8045e-14 - mae: 1.9342e-08 - accuracy: 1.0000 - recall: 1.0000 - precision: 1.0000\n",
            "Epoch 168/250\n",
            "25/25 [==============================] - 4s 151ms/step - loss: 1.9684e-08 - mse: 1.7239e-14 - mae: 1.9120e-08 - accuracy: 1.0000 - recall: 1.0000 - precision: 1.0000\n",
            "Epoch 169/250\n",
            "25/25 [==============================] - 4s 150ms/step - loss: 1.9274e-08 - mse: 1.6617e-14 - mae: 1.8759e-08 - accuracy: 1.0000 - recall: 1.0000 - precision: 1.0000\n",
            "Epoch 170/250\n",
            "25/25 [==============================] - 4s 150ms/step - loss: 1.9062e-08 - mse: 1.6216e-14 - mae: 1.8672e-08 - accuracy: 1.0000 - recall: 1.0000 - precision: 1.0000\n",
            "Epoch 171/250\n",
            "25/25 [==============================] - 4s 151ms/step - loss: 1.8762e-08 - mse: 1.5843e-14 - mae: 1.8320e-08 - accuracy: 1.0000 - recall: 1.0000 - precision: 1.0000\n",
            "Epoch 172/250\n",
            "25/25 [==============================] - 4s 150ms/step - loss: 1.8703e-08 - mse: 1.6346e-14 - mae: 1.8108e-08 - accuracy: 1.0000 - recall: 1.0000 - precision: 1.0000\n",
            "Epoch 173/250\n",
            "25/25 [==============================] - 4s 150ms/step - loss: 1.8209e-08 - mse: 1.4790e-14 - mae: 1.7769e-08 - accuracy: 1.0000 - recall: 1.0000 - precision: 1.0000\n",
            "Epoch 174/250\n",
            "25/25 [==============================] - 4s 150ms/step - loss: 1.8062e-08 - mse: 1.4543e-14 - mae: 1.7436e-08 - accuracy: 1.0000 - recall: 1.0000 - precision: 1.0000\n",
            "Epoch 175/250\n",
            "25/25 [==============================] - 4s 150ms/step - loss: 1.7595e-08 - mse: 1.3196e-14 - mae: 1.6847e-08 - accuracy: 1.0000 - recall: 1.0000 - precision: 1.0000\n",
            "Epoch 176/250\n",
            "25/25 [==============================] - 4s 150ms/step - loss: 1.7485e-08 - mse: 1.3852e-14 - mae: 1.6837e-08 - accuracy: 1.0000 - recall: 1.0000 - precision: 1.0000\n",
            "Epoch 177/250\n",
            "25/25 [==============================] - 4s 150ms/step - loss: 1.7200e-08 - mse: 1.2941e-14 - mae: 1.6611e-08 - accuracy: 1.0000 - recall: 1.0000 - precision: 1.0000\n",
            "Epoch 178/250\n",
            "25/25 [==============================] - 4s 150ms/step - loss: 1.6841e-08 - mse: 1.2355e-14 - mae: 1.6263e-08 - accuracy: 1.0000 - recall: 1.0000 - precision: 1.0000\n",
            "Epoch 179/250\n",
            "25/25 [==============================] - 4s 150ms/step - loss: 1.6642e-08 - mse: 1.1914e-14 - mae: 1.5972e-08 - accuracy: 1.0000 - recall: 1.0000 - precision: 1.0000\n",
            "Epoch 180/250\n",
            "25/25 [==============================] - 4s 150ms/step - loss: 1.6445e-08 - mse: 1.1857e-14 - mae: 1.5798e-08 - accuracy: 1.0000 - recall: 1.0000 - precision: 1.0000\n",
            "Epoch 181/250\n",
            "25/25 [==============================] - 4s 150ms/step - loss: 1.6140e-08 - mse: 1.1130e-14 - mae: 1.5494e-08 - accuracy: 1.0000 - recall: 1.0000 - precision: 1.0000\n",
            "Epoch 182/250\n",
            "25/25 [==============================] - 4s 150ms/step - loss: 1.5930e-08 - mse: 1.0957e-14 - mae: 1.5395e-08 - accuracy: 1.0000 - recall: 1.0000 - precision: 1.0000\n",
            "Epoch 183/250\n",
            "25/25 [==============================] - 4s 150ms/step - loss: 1.5809e-08 - mse: 1.0843e-14 - mae: 1.5272e-08 - accuracy: 1.0000 - recall: 1.0000 - precision: 1.0000\n",
            "Epoch 184/250\n",
            "25/25 [==============================] - 4s 150ms/step - loss: 1.5551e-08 - mse: 1.0227e-14 - mae: 1.4937e-08 - accuracy: 1.0000 - recall: 1.0000 - precision: 1.0000\n",
            "Epoch 185/250\n",
            "25/25 [==============================] - 4s 150ms/step - loss: 1.5268e-08 - mse: 9.8428e-15 - mae: 1.4557e-08 - accuracy: 1.0000 - recall: 1.0000 - precision: 1.0000\n",
            "Epoch 186/250\n",
            "25/25 [==============================] - 4s 150ms/step - loss: 1.5031e-08 - mse: 9.8546e-15 - mae: 1.4461e-08 - accuracy: 1.0000 - recall: 1.0000 - precision: 1.0000\n",
            "Epoch 187/250\n",
            "25/25 [==============================] - 4s 150ms/step - loss: 1.4823e-08 - mse: 9.3674e-15 - mae: 1.4236e-08 - accuracy: 1.0000 - recall: 1.0000 - precision: 1.0000\n",
            "Epoch 188/250\n",
            "25/25 [==============================] - 4s 150ms/step - loss: 1.4694e-08 - mse: 9.3637e-15 - mae: 1.4213e-08 - accuracy: 1.0000 - recall: 1.0000 - precision: 1.0000\n",
            "Epoch 189/250\n",
            "25/25 [==============================] - 4s 150ms/step - loss: 1.4416e-08 - mse: 8.8226e-15 - mae: 1.3803e-08 - accuracy: 1.0000 - recall: 1.0000 - precision: 1.0000\n",
            "Epoch 190/250\n",
            "25/25 [==============================] - 4s 150ms/step - loss: 1.4192e-08 - mse: 8.8347e-15 - mae: 1.3817e-08 - accuracy: 1.0000 - recall: 1.0000 - precision: 1.0000\n",
            "Epoch 191/250\n",
            "25/25 [==============================] - 4s 150ms/step - loss: 1.4182e-08 - mse: 8.5672e-15 - mae: 1.3595e-08 - accuracy: 1.0000 - recall: 1.0000 - precision: 1.0000\n",
            "Epoch 192/250\n",
            "25/25 [==============================] - 4s 150ms/step - loss: 1.3862e-08 - mse: 8.2691e-15 - mae: 1.3454e-08 - accuracy: 1.0000 - recall: 1.0000 - precision: 1.0000\n",
            "Epoch 193/250\n",
            "25/25 [==============================] - 4s 150ms/step - loss: 1.3657e-08 - mse: 8.0190e-15 - mae: 1.3303e-08 - accuracy: 1.0000 - recall: 1.0000 - precision: 1.0000\n",
            "Epoch 194/250\n",
            "25/25 [==============================] - 4s 150ms/step - loss: 1.3575e-08 - mse: 8.0843e-15 - mae: 1.3270e-08 - accuracy: 1.0000 - recall: 1.0000 - precision: 1.0000\n",
            "Epoch 195/250\n",
            "25/25 [==============================] - 4s 150ms/step - loss: 1.3287e-08 - mse: 7.4894e-15 - mae: 1.2781e-08 - accuracy: 1.0000 - recall: 1.0000 - precision: 1.0000\n",
            "Epoch 196/250\n",
            "25/25 [==============================] - 4s 150ms/step - loss: 1.3108e-08 - mse: 7.5003e-15 - mae: 1.2852e-08 - accuracy: 1.0000 - recall: 1.0000 - precision: 1.0000\n",
            "Epoch 197/250\n",
            "25/25 [==============================] - 4s 150ms/step - loss: 1.2926e-08 - mse: 7.3029e-15 - mae: 1.2666e-08 - accuracy: 1.0000 - recall: 1.0000 - precision: 1.0000\n",
            "Epoch 198/250\n",
            "25/25 [==============================] - 4s 150ms/step - loss: 1.2764e-08 - mse: 6.9784e-15 - mae: 1.2447e-08 - accuracy: 1.0000 - recall: 1.0000 - precision: 1.0000\n",
            "Epoch 199/250\n",
            "25/25 [==============================] - 4s 150ms/step - loss: 1.2675e-08 - mse: 6.7714e-15 - mae: 1.2279e-08 - accuracy: 1.0000 - recall: 1.0000 - precision: 1.0000\n",
            "Epoch 200/250\n",
            "25/25 [==============================] - 4s 150ms/step - loss: 1.2504e-08 - mse: 6.7963e-15 - mae: 1.2136e-08 - accuracy: 1.0000 - recall: 1.0000 - precision: 1.0000\n",
            "Epoch 201/250\n",
            "25/25 [==============================] - 4s 150ms/step - loss: 1.2304e-08 - mse: 6.5746e-15 - mae: 1.1976e-08 - accuracy: 1.0000 - recall: 1.0000 - precision: 1.0000\n",
            "Epoch 202/250\n",
            "25/25 [==============================] - 4s 150ms/step - loss: 1.2152e-08 - mse: 6.2383e-15 - mae: 1.1864e-08 - accuracy: 1.0000 - recall: 1.0000 - precision: 1.0000\n",
            "Epoch 203/250\n",
            "25/25 [==============================] - 4s 150ms/step - loss: 1.2096e-08 - mse: 6.3326e-15 - mae: 1.1832e-08 - accuracy: 1.0000 - recall: 1.0000 - precision: 1.0000\n",
            "Epoch 204/250\n",
            "25/25 [==============================] - 4s 150ms/step - loss: 1.1788e-08 - mse: 5.9304e-15 - mae: 1.1584e-08 - accuracy: 1.0000 - recall: 1.0000 - precision: 1.0000\n",
            "Epoch 205/250\n",
            "25/25 [==============================] - 4s 150ms/step - loss: 1.1694e-08 - mse: 5.7600e-15 - mae: 1.1355e-08 - accuracy: 1.0000 - recall: 1.0000 - precision: 1.0000\n",
            "Epoch 206/250\n",
            "25/25 [==============================] - 4s 150ms/step - loss: 1.1534e-08 - mse: 5.6653e-15 - mae: 1.1187e-08 - accuracy: 1.0000 - recall: 1.0000 - precision: 1.0000\n",
            "Epoch 207/250\n",
            "25/25 [==============================] - 4s 150ms/step - loss: 1.1374e-08 - mse: 5.3630e-15 - mae: 1.1028e-08 - accuracy: 1.0000 - recall: 1.0000 - precision: 1.0000\n",
            "Epoch 208/250\n",
            "25/25 [==============================] - 4s 150ms/step - loss: 1.1205e-08 - mse: 5.2897e-15 - mae: 1.0989e-08 - accuracy: 1.0000 - recall: 1.0000 - precision: 1.0000\n",
            "Epoch 209/250\n",
            "25/25 [==============================] - 4s 150ms/step - loss: 1.1183e-08 - mse: 5.5595e-15 - mae: 1.1016e-08 - accuracy: 1.0000 - recall: 1.0000 - precision: 1.0000\n",
            "Epoch 210/250\n",
            "25/25 [==============================] - 4s 150ms/step - loss: 1.0960e-08 - mse: 4.9446e-15 - mae: 1.0579e-08 - accuracy: 1.0000 - recall: 1.0000 - precision: 1.0000\n",
            "Epoch 211/250\n",
            "25/25 [==============================] - 4s 150ms/step - loss: 1.0847e-08 - mse: 5.0372e-15 - mae: 1.0576e-08 - accuracy: 1.0000 - recall: 1.0000 - precision: 1.0000\n",
            "Epoch 212/250\n",
            "25/25 [==============================] - 4s 150ms/step - loss: 1.0710e-08 - mse: 4.8360e-15 - mae: 1.0445e-08 - accuracy: 1.0000 - recall: 1.0000 - precision: 1.0000\n",
            "Epoch 213/250\n",
            "25/25 [==============================] - 4s 150ms/step - loss: 1.0555e-08 - mse: 4.7561e-15 - mae: 1.0261e-08 - accuracy: 1.0000 - recall: 1.0000 - precision: 1.0000\n",
            "Epoch 214/250\n",
            "25/25 [==============================] - 4s 150ms/step - loss: 1.0471e-08 - mse: 4.6114e-15 - mae: 1.0288e-08 - accuracy: 1.0000 - recall: 1.0000 - precision: 1.0000\n",
            "Epoch 215/250\n",
            "25/25 [==============================] - 4s 150ms/step - loss: 1.0344e-08 - mse: 4.4905e-15 - mae: 9.9883e-09 - accuracy: 1.0000 - recall: 1.0000 - precision: 1.0000\n",
            "Epoch 216/250\n",
            "25/25 [==============================] - 4s 150ms/step - loss: 1.0153e-08 - mse: 4.3322e-15 - mae: 9.8939e-09 - accuracy: 1.0000 - recall: 1.0000 - precision: 1.0000\n",
            "Epoch 217/250\n",
            "25/25 [==============================] - 4s 150ms/step - loss: 1.0044e-08 - mse: 4.2417e-15 - mae: 9.8500e-09 - accuracy: 1.0000 - recall: 1.0000 - precision: 1.0000\n",
            "Epoch 218/250\n",
            "25/25 [==============================] - 4s 150ms/step - loss: 9.8628e-09 - mse: 4.0518e-15 - mae: 9.6473e-09 - accuracy: 1.0000 - recall: 1.0000 - precision: 1.0000\n",
            "Epoch 219/250\n",
            "25/25 [==============================] - 4s 150ms/step - loss: 9.7897e-09 - mse: 4.0000e-15 - mae: 9.5622e-09 - accuracy: 1.0000 - recall: 1.0000 - precision: 1.0000\n",
            "Epoch 220/250\n",
            "25/25 [==============================] - 4s 150ms/step - loss: 9.6725e-09 - mse: 3.9259e-15 - mae: 9.4206e-09 - accuracy: 1.0000 - recall: 1.0000 - precision: 1.0000\n",
            "Epoch 221/250\n",
            "25/25 [==============================] - 4s 150ms/step - loss: 9.5226e-09 - mse: 3.7812e-15 - mae: 9.2211e-09 - accuracy: 1.0000 - recall: 1.0000 - precision: 1.0000\n",
            "Epoch 222/250\n",
            "25/25 [==============================] - 4s 150ms/step - loss: 9.3968e-09 - mse: 3.7456e-15 - mae: 9.1305e-09 - accuracy: 1.0000 - recall: 1.0000 - precision: 1.0000\n",
            "Epoch 223/250\n",
            "25/25 [==============================] - 4s 149ms/step - loss: 9.2759e-09 - mse: 3.5749e-15 - mae: 8.9583e-09 - accuracy: 1.0000 - recall: 1.0000 - precision: 1.0000\n",
            "Epoch 224/250\n",
            "25/25 [==============================] - 4s 150ms/step - loss: 9.1507e-09 - mse: 3.6464e-15 - mae: 8.9606e-09 - accuracy: 1.0000 - recall: 1.0000 - precision: 1.0000\n",
            "Epoch 225/250\n",
            "25/25 [==============================] - 4s 150ms/step - loss: 9.1053e-09 - mse: 3.5889e-15 - mae: 8.8965e-09 - accuracy: 1.0000 - recall: 1.0000 - precision: 1.0000\n",
            "Epoch 226/250\n",
            "25/25 [==============================] - 4s 150ms/step - loss: 8.9371e-09 - mse: 3.3872e-15 - mae: 8.6005e-09 - accuracy: 1.0000 - recall: 1.0000 - precision: 1.0000\n",
            "Epoch 227/250\n",
            "25/25 [==============================] - 4s 150ms/step - loss: 8.8059e-09 - mse: 3.1922e-15 - mae: 8.4424e-09 - accuracy: 1.0000 - recall: 1.0000 - precision: 1.0000\n",
            "Epoch 228/250\n",
            "25/25 [==============================] - 4s 150ms/step - loss: 8.6791e-09 - mse: 3.0899e-15 - mae: 8.2988e-09 - accuracy: 1.0000 - recall: 1.0000 - precision: 1.0000\n",
            "Epoch 229/250\n",
            "25/25 [==============================] - 4s 150ms/step - loss: 8.5773e-09 - mse: 3.0198e-15 - mae: 8.1909e-09 - accuracy: 1.0000 - recall: 1.0000 - precision: 1.0000\n",
            "Epoch 230/250\n",
            "25/25 [==============================] - 4s 150ms/step - loss: 8.4879e-09 - mse: 2.9433e-15 - mae: 8.1388e-09 - accuracy: 1.0000 - recall: 1.0000 - precision: 1.0000\n",
            "Epoch 231/250\n",
            "25/25 [==============================] - 4s 150ms/step - loss: 8.3462e-09 - mse: 2.9641e-15 - mae: 8.0858e-09 - accuracy: 1.0000 - recall: 1.0000 - precision: 1.0000\n",
            "Epoch 232/250\n",
            "25/25 [==============================] - 4s 150ms/step - loss: 8.2614e-09 - mse: 2.8132e-15 - mae: 7.9248e-09 - accuracy: 1.0000 - recall: 1.0000 - precision: 1.0000\n",
            "Epoch 233/250\n",
            "25/25 [==============================] - 4s 150ms/step - loss: 8.1333e-09 - mse: 2.7019e-15 - mae: 7.7699e-09 - accuracy: 1.0000 - recall: 1.0000 - precision: 1.0000\n",
            "Epoch 234/250\n",
            "25/25 [==============================] - 4s 150ms/step - loss: 8.0357e-09 - mse: 2.5950e-15 - mae: 7.6689e-09 - accuracy: 1.0000 - recall: 1.0000 - precision: 1.0000\n",
            "Epoch 235/250\n",
            "25/25 [==============================] - 4s 150ms/step - loss: 7.9340e-09 - mse: 2.5781e-15 - mae: 7.6579e-09 - accuracy: 1.0000 - recall: 1.0000 - precision: 1.0000\n",
            "Epoch 236/250\n",
            "25/25 [==============================] - 4s 150ms/step - loss: 7.8303e-09 - mse: 2.4776e-15 - mae: 7.5046e-09 - accuracy: 1.0000 - recall: 1.0000 - precision: 1.0000\n",
            "Epoch 237/250\n",
            "25/25 [==============================] - 4s 150ms/step - loss: 7.7634e-09 - mse: 2.4670e-15 - mae: 7.4776e-09 - accuracy: 1.0000 - recall: 1.0000 - precision: 1.0000\n",
            "Epoch 238/250\n",
            "25/25 [==============================] - 4s 150ms/step - loss: 7.6596e-09 - mse: 2.4626e-15 - mae: 7.3552e-09 - accuracy: 1.0000 - recall: 1.0000 - precision: 1.0000\n",
            "Epoch 239/250\n",
            "25/25 [==============================] - 4s 150ms/step - loss: 7.5497e-09 - mse: 2.3422e-15 - mae: 7.2465e-09 - accuracy: 1.0000 - recall: 1.0000 - precision: 1.0000\n",
            "Epoch 240/250\n",
            "25/25 [==============================] - 4s 150ms/step - loss: 7.4615e-09 - mse: 2.2653e-15 - mae: 7.1295e-09 - accuracy: 1.0000 - recall: 1.0000 - precision: 1.0000\n",
            "Epoch 241/250\n",
            "25/25 [==============================] - 4s 150ms/step - loss: 7.3621e-09 - mse: 2.2202e-15 - mae: 7.1115e-09 - accuracy: 1.0000 - recall: 1.0000 - precision: 1.0000\n",
            "Epoch 242/250\n",
            "25/25 [==============================] - 4s 150ms/step - loss: 7.2832e-09 - mse: 2.1554e-15 - mae: 6.9775e-09 - accuracy: 1.0000 - recall: 1.0000 - precision: 1.0000\n",
            "Epoch 243/250\n",
            "25/25 [==============================] - 4s 150ms/step - loss: 7.2381e-09 - mse: 2.1144e-15 - mae: 6.9092e-09 - accuracy: 1.0000 - recall: 1.0000 - precision: 1.0000\n",
            "Epoch 244/250\n",
            "25/25 [==============================] - 4s 151ms/step - loss: 7.0942e-09 - mse: 2.0378e-15 - mae: 6.7019e-09 - accuracy: 1.0000 - recall: 1.0000 - precision: 1.0000\n",
            "Epoch 245/250\n",
            "25/25 [==============================] - 4s 150ms/step - loss: 7.0015e-09 - mse: 1.8555e-15 - mae: 6.4316e-09 - accuracy: 1.0000 - recall: 1.0000 - precision: 1.0000\n",
            "Epoch 246/250\n",
            "25/25 [==============================] - 4s 151ms/step - loss: 6.9429e-09 - mse: 1.9296e-15 - mae: 6.4529e-09 - accuracy: 1.0000 - recall: 1.0000 - precision: 1.0000\n",
            "Epoch 247/250\n",
            "25/25 [==============================] - 4s 150ms/step - loss: 6.8309e-09 - mse: 1.7511e-15 - mae: 6.1874e-09 - accuracy: 1.0000 - recall: 1.0000 - precision: 1.0000\n",
            "Epoch 248/250\n",
            "25/25 [==============================] - 4s 150ms/step - loss: 6.7557e-09 - mse: 1.7492e-15 - mae: 6.1885e-09 - accuracy: 1.0000 - recall: 1.0000 - precision: 1.0000\n",
            "Epoch 249/250\n",
            "25/25 [==============================] - 4s 150ms/step - loss: 6.6600e-09 - mse: 1.6690e-15 - mae: 6.0130e-09 - accuracy: 1.0000 - recall: 1.0000 - precision: 1.0000\n",
            "Epoch 250/250\n",
            "25/25 [==============================] - 4s 150ms/step - loss: 6.5683e-09 - mse: 1.6671e-15 - mae: 6.0100e-09 - accuracy: 1.0000 - recall: 1.0000 - precision: 1.0000\n"
          ],
          "name": "stdout"
        }
      ]
    },
    {
      "cell_type": "markdown",
      "metadata": {
        "id": "-CkMlUhY7WRU",
        "colab_type": "text"
      },
      "source": [
        "##**8. Generar gráfica de: loss(pérdida) y accuracy(acierto) en cada época realizada.**"
      ]
    },
    {
      "cell_type": "code",
      "metadata": {
        "id": "PwSQTQbUoe14",
        "colab_type": "code",
        "outputId": "886ff98d-509d-473f-9dc1-04533422331e",
        "colab": {
          "base_uri": "https://localhost:8080/",
          "height": 377
        }
      },
      "source": [
        "import pandas as pd\n",
        "\n",
        "pd.DataFrame(history.history).plot(figsize=(8, 6))\n",
        "plt.grid(True)\n",
        "plt.gca().set_ylim(0, 1)\n",
        "\n",
        "plt.show()"
      ],
      "execution_count": 20,
      "outputs": [
        {
          "output_type": "display_data",
          "data": {
            "image/png": "[encoded data removed]",
            "text/plain": [
              "<Figure size 576x432 with 1 Axes>"
            ]
          },
          "metadata": {
            "tags": [],
            "needs_background": "light"
          }
        }
      ]
    },
    {
      "cell_type": "markdown",
      "metadata": {
        "id": "axoYkzoOANpI",
        "colab_type": "text"
      },
      "source": [
        "##**9. Predecir con el modelo, la clasificación de cada imagen del conjunto de Test**"
      ]
    },
    {
      "cell_type": "code",
      "metadata": {
        "id": "F2_13iEblUh6",
        "colab_type": "code",
        "colab": {}
      },
      "source": [
        "#SE EVALÚA EL MODELO\n",
        "\n",
        "Valores=(model.predict(XTEST))\n",
        "#Valores"
      ],
      "execution_count": 0,
      "outputs": []
    },
    {
      "cell_type": "code",
      "metadata": {
        "id": "w6t9lnP3lglW",
        "colab_type": "code",
        "outputId": "2a31dcca-c022-4a7f-ab72-9209c2c35236",
        "colab": {
          "base_uri": "https://localhost:8080/",
          "height": 34
        }
      },
      "source": [
        "#Valores_label=np.argmax(Valores, axis=1)\n",
        "#Valores_label\n",
        "Valores_label=np.around(Valores)\n",
        "Valores_label.shape\n"
      ],
      "execution_count": 22,
      "outputs": [
        {
          "output_type": "execute_result",
          "data": {
            "text/plain": [
              "(400, 1)"
            ]
          },
          "metadata": {
            "tags": []
          },
          "execution_count": 22
        }
      ]
    },
    {
      "cell_type": "markdown",
      "metadata": {
        "id": "EhL8DHRdDG_v",
        "colab_type": "text"
      },
      "source": [
        "##**10. Sacar métricas de evaluación, para mirar el rendimiento del modelo.**"
      ]
    },
    {
      "cell_type": "markdown",
      "metadata": {
        "id": "UCkpLdoUDSHP",
        "colab_type": "text"
      },
      "source": [
        "> **A. Matriz de confusión simple.**"
      ]
    },
    {
      "cell_type": "code",
      "metadata": {
        "id": "3sU-M00HmyWR",
        "colab_type": "code",
        "outputId": "489310b9-7759-4643-e617-8205a12fdfe5",
        "colab": {
          "base_uri": "https://localhost:8080/",
          "height": 70
        }
      },
      "source": [
        "from sklearn.metrics import confusion_matrix, accuracy_score\n",
        "\n",
        "#YTEST=YTEST.reshape(len(Ytest),1)\n",
        "\n",
        "acc = accuracy_score(YTEST,Valores_label)\n",
        "print('acierto: ',acc)\n",
        "cm=confusion_matrix(YTEST,Valores_label)\n",
        "cm"
      ],
      "execution_count": 23,
      "outputs": [
        {
          "output_type": "stream",
          "text": [
            "acierto:  0.7325\n"
          ],
          "name": "stdout"
        },
        {
          "output_type": "execute_result",
          "data": {
            "text/plain": [
              "array([[144,  56],\n",
              "       [ 51, 149]])"
            ]
          },
          "metadata": {
            "tags": []
          },
          "execution_count": 23
        }
      ]
    },
    {
      "cell_type": "markdown",
      "metadata": {
        "id": "rEBXCc4TDjCE",
        "colab_type": "text"
      },
      "source": [
        "\n",
        ">**B. Matriz de confusión, con porcentjes de acierto.**"
      ]
    },
    {
      "cell_type": "code",
      "metadata": {
        "id": "EejIKKgBDjlP",
        "colab_type": "code",
        "outputId": "d1e39975-52d8-485f-858e-a3a6ed669a38",
        "colab": {
          "base_uri": "https://localhost:8080/",
          "height": 365
        }
      },
      "source": [
        "from sklearn.utils.multiclass import unique_labels\n",
        "\n",
        "\n",
        "def plot_confusion_matrix(matrix,Ytest,Valores_label,acc,Valores2):\n",
        "    fig = plt.figure(figsize=(5,5))\n",
        "    ax = fig.add_subplot(111)\n",
        "    cmap=plt.cm.Blues\n",
        "    matrix = 100*matrix.astype('float') / cm.sum(axis=1)[:, np.newaxis]\n",
        "    cax = ax.matshow(matrix, interpolation='nearest', cmap=cmap)\n",
        "    fig.colorbar(cax)\n",
        "    classes = unique_labels(Ytest,Valores_label)\n",
        "    classes1= Valores2\n",
        "    ax.set(xticks=np.arange(matrix.shape[1]),\n",
        "           yticks=np.arange(matrix.shape[0]),\n",
        "           xticklabels=classes1, yticklabels=classes1,\n",
        "           title='ACC = %.1f %%' % (100*acc),\n",
        "           ylabel='True label',\n",
        "           xlabel='Predicted label')\n",
        "    fmt = '.1f'\n",
        "    thresh = matrix.max() / 2.\n",
        "    for i in range(matrix.shape[0]):\n",
        "        for j in range(matrix.shape[1]):\n",
        "            ax.text(j, i, format(matrix[i, j], fmt),\n",
        "                    ha=\"center\", va=\"center\",\n",
        "                    color=\"black\",fontsize=12)\n",
        "    fig.tight_layout()\n",
        "\n",
        "#Valores_label_texto=convertir_salida_texto(Valores_label)\n",
        "plot_confusion_matrix(cm,YTEST,Valores_label,acc,Valores2=[\"Perro\",\"Gato\"])\n",
        "\n"
      ],
      "execution_count": 24,
      "outputs": [
        {
          "output_type": "display_data",
          "data": {
            "image/png": "[encoded data removed]",
            "text/plain": [
              "<Figure size 360x360 with 2 Axes>"
            ]
          },
          "metadata": {
            "tags": [],
            "needs_background": "light"
          }
        }
      ]
    },
    {
      "cell_type": "markdown",
      "metadata": {
        "id": "IZk9eJ4YDwed",
        "colab_type": "text"
      },
      "source": [
        "\n",
        "> **C. Reporte de algunas métricas: Precisión, recall, F1 y Support, para el umbral de clasificación 0,5(por defecto usado por keras).**\n"
      ]
    },
    {
      "cell_type": "code",
      "metadata": {
        "id": "W88lTS1WDxsY",
        "colab_type": "code",
        "outputId": "e42d2cb7-ba0e-43a7-92f6-2ca5b76cfe63",
        "colab": {
          "base_uri": "https://localhost:8080/",
          "height": 176
        }
      },
      "source": [
        "from sklearn.metrics import classification_report\n",
        "\n",
        "target_names = ['Perro','Gato']\n",
        "cr=classification_report(YTEST, Valores_label,labels=range(len(target_names)),target_names=target_names)\n",
        "print(cr) "
      ],
      "execution_count": 25,
      "outputs": [
        {
          "output_type": "stream",
          "text": [
            "              precision    recall  f1-score   support\n",
            "\n",
            "       Perro       0.74      0.72      0.73       200\n",
            "        Gato       0.73      0.74      0.74       200\n",
            "\n",
            "    accuracy                           0.73       400\n",
            "   macro avg       0.73      0.73      0.73       400\n",
            "weighted avg       0.73      0.73      0.73       400\n",
            "\n"
          ],
          "name": "stdout"
        }
      ]
    },
    {
      "cell_type": "markdown",
      "metadata": {
        "id": "ilniZmtTD39E",
        "colab_type": "text"
      },
      "source": [
        ">**D. Curva ROC, para cada clase, variando los umbrales de decisión(Thresold) o, en este caso con la probabilidad de que pertenezca a una de las salidas.**"
      ]
    },
    {
      "cell_type": "code",
      "metadata": {
        "id": "6HRo5uaTml1w",
        "colab_type": "code",
        "outputId": "936c42ce-79b7-44e9-d710-e434137a40ee",
        "colab": {
          "base_uri": "https://localhost:8080/",
          "height": 404
        }
      },
      "source": [
        "from sklearn.preprocessing import label_binarize\n",
        "from sklearn.metrics import roc_curve, auc\n",
        "\n",
        "\n",
        "\n",
        "Ytest_Bin= label_binarize(YTEST, classes=[0,1])\n",
        "Valores_Bin= label_binarize(Valores_label, classes=[0,1])\n",
        "roc_auc, fpr, tpr, n_classes = roc_multiclass(Ytest_Bin,Valores_Bin,colum=1)\n",
        "roc_auc_mc(roc_auc,fpr,tpr,n_classes,'ROC curve ')\n",
        "\n"
      ],
      "execution_count": 26,
      "outputs": [
        {
          "output_type": "display_data",
          "data": {
            "image/png": "[encoded data removed]",
            "text/plain": [
              "<Figure size 432x432 with 1 Axes>"
            ]
          },
          "metadata": {
            "tags": [],
            "needs_background": "light"
          }
        }
      ]
    },
    {
      "cell_type": "code",
      "metadata": {
        "id": "Xe4ek79vGG-B",
        "colab_type": "code",
        "outputId": "0c0f8c48-11d6-45a6-f2b7-206825e34bf8",
        "colab": {
          "base_uri": "https://localhost:8080/",
          "height": 141
        }
      },
      "source": [
        "#GRAFICAR LAS PRIMERAS 10 IMAGENES\n",
        "tam=10\n",
        "index=0\n",
        "plt.figure(figsize=(tam*2, 12))\n",
        "for i in range(1,tam):\n",
        "  index += 1\n",
        "  plt.subplot((tam//10), 10, index)\n",
        "  plt.imshow(XTEST[i-1])\n",
        "  plt.title(\"Class: {}\".format(Valores_label[i-1]))\n",
        "  plt.axis(\"off\")\n",
        "plt.show() "
      ],
      "execution_count": 27,
      "outputs": [
        {
          "output_type": "display_data",
          "data": {
            "image/png": "[encoded data removed]",
            "text/plain": [
              "<Figure size 1440x864 with 9 Axes>"
            ]
          },
          "metadata": {
            "tags": [],
            "needs_background": "light"
          }
        }
      ]
    },
    {
      "cell_type": "code",
      "metadata": {
        "id": "63fO56hV4j8i",
        "colab_type": "code",
        "colab": {}
      },
      "source": [
        ""
      ],
      "execution_count": 0,
      "outputs": []
    }
  ]
}