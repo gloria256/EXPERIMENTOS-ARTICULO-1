{
  "nbformat": 4,
  "nbformat_minor": 0,
  "metadata": {
    "colab": {
      "name": "Resnet50.ipynb",
      "provenance": [],
      "collapsed_sections": [],
      "machine_shape": "hm",
      "include_colab_link": true
    },
    "kernelspec": {
      "name": "python3",
      "display_name": "Python 3"
    },
    "accelerator": "GPU"
  },
  "cells": [
    {
      "cell_type": "markdown",
      "metadata": {
        "id": "view-in-github",
        "colab_type": "text"
      },
      "source": [
        "<a href=\"https://colab.research.google.com/github/gloria256/EXPERIMENTOS/blob/master/Normal--250-64-Resnet50.ipynb\" target=\"_parent\"><img src=\"https://colab.research.google.com/assets/colab-badge.svg\" alt=\"Open In Colab\"/></a>"
      ]
    },
    {
      "cell_type": "markdown",
      "metadata": {
        "id": "5ftLDsREupDL",
        "colab_type": "text"
      },
      "source": [
        "# **CLASIFICADOR BINARIO USANDO LA RED: RESNET50**\n",
        "\n",
        "\n",
        "\n",
        "\n",
        "\n"
      ]
    },
    {
      "cell_type": "markdown",
      "metadata": {
        "id": "lnRyzy7hvA2O",
        "colab_type": "text"
      },
      "source": [
        "## **1. Librerías necesarias y descarga de la función para graficar la curva ROC.**\n"
      ]
    },
    {
      "cell_type": "code",
      "metadata": {
        "id": "rbNiIwHFdiWA",
        "colab_type": "code",
        "outputId": "e431c4fb-ccea-4088-9094-73d42ccb1eaf",
        "colab": {
          "base_uri": "https://localhost:8080/",
          "height": 34
        }
      },
      "source": [
        "#IMPORTACION DE LIBRERIAS NECESARIAS\n",
        "import pandas as pd\n",
        "import tensorflow_datasets as tfds\n",
        "import tensorflow as tf\n",
        "import matplotlib.pyplot as plt\n",
        "import cv2\n",
        "import numpy as np\n",
        "import os\n",
        "from keras.applications.resnet import preprocess_input, decode_predictions\n",
        "import sklearn\n",
        "\n",
        "# ACCESO A GOOGLE DRIVE\n",
        "import os\n",
        "from pydrive.auth import GoogleAuth\n",
        "from pydrive.drive import GoogleDrive\n",
        "from google.colab import auth\n",
        "from oauth2client.client import GoogleCredentials\n",
        "auth.authenticate_user()\n",
        "gauth = GoogleAuth()\n",
        "gauth.credentials = GoogleCredentials.get_application_default()\n",
        "drive = GoogleDrive(gauth)\n",
        "\n",
        "#ARCHIVO DE FUNCIONES\n",
        "file_id = '1QTJIzZb4xL9_it6AF4qpz6KJGIpprIVD' \n",
        "downloaded = drive.CreateFile({'id': file_id})\n",
        "downloaded.GetContentFile('funciones_people.py') \n",
        "from funciones_people import roc_multiclass, roc_auc_mc\n"
      ],
      "execution_count": 1,
      "outputs": [
        {
          "output_type": "stream",
          "text": [
            "Using TensorFlow backend.\n"
          ],
          "name": "stderr"
        }
      ]
    },
    {
      "cell_type": "markdown",
      "metadata": {
        "id": "hL2cXKJAkLoA",
        "colab_type": "text"
      },
      "source": [
        "## **4. Descargar imágenes de CIFAR-10**\n",
        "\n",
        "consta de 60000 imágenes en color de 32x32 en 10 clases, con 6000 imágenes por clase. Hay 50000 imágenes de entrenamiento y 10000 imágenes de prueba.\n",
        "\n",
        "El conjunto de datos se divide en cinco lotes de entrenamiento y un lote de prueba, cada uno con 10000 imágenes. El lote de prueba contiene exactamente 1000 imágenes seleccionadas al azar de cada clase. \n",
        "\n",
        "$avión\\hspace{1em}automóvil\\hspace{1em}pájaro\\hspace{1em}gato    \n",
        "ciervo\\hspace{1em}perro\\hspace{1em}rana\\hspace{1em}caballo\\hspace{1em}\n",
        "Embarcacion\\hspace{1em}camión$"
      ]
    },
    {
      "cell_type": "markdown",
      "metadata": {
        "id": "-3cxyDsseRk_",
        "colab_type": "text"
      },
      "source": [
        "#### **A:** Funciones, para seleccionar solo las clases: Gato y perro"
      ]
    },
    {
      "cell_type": "code",
      "metadata": {
        "id": "q1eEICWsfQUB",
        "colab_type": "code",
        "colab": {}
      },
      "source": [
        "def obtener_solo_imagenes_Etiqueta(imagen,etiqueta,num_etiqueta):\n",
        "  Gatos_label=np.where(etiqueta== num_etiqueta)\n",
        "  A=np.zeros([len(Gatos_label[0]),32,32,3],dtype=np.uint8)\n",
        "  for c,i in enumerate(Gatos_label[0]): \n",
        "    A[c]=imagen[i]\n",
        "  return A\n",
        "\n",
        "def cambiar_scala_224x224(imagen):\n",
        "  matriz_imagen1=np.zeros([len(imagen),224,224,3],dtype=np.uint8)\n",
        "  for i in range(len(imagen)):\n",
        "    img=imagen[i]\n",
        "    scale_percent = 700 # percent of original size\n",
        "    width = int(img.shape[1] * scale_percent / 100)\n",
        "    height = int(img.shape[0] * scale_percent / 100)\n",
        "    dim = (width, height)\n",
        "    resized = cv2.resize(img, dim, interpolation = cv2.INTER_AREA)\n",
        "    matriz_imagen1[i]=resized\n",
        "  return matriz_imagen1"
      ],
      "execution_count": 0,
      "outputs": []
    },
    {
      "cell_type": "markdown",
      "metadata": {
        "id": "eegBaLz32hzL",
        "colab_type": "text"
      },
      "source": [
        "#### **B:** Descargar de keras datasets CIFAR10 y seleccionar las imagenes de las clases gato y perro del conjunto de **Train** y **Test**\n",
        "\n",
        "\n"
      ]
    },
    {
      "cell_type": "code",
      "metadata": {
        "id": "jogC9oAGzSuu",
        "colab_type": "code",
        "outputId": "ea02306a-8038-4b95-ed86-e17b00e3ac66",
        "colab": {
          "base_uri": "https://localhost:8080/",
          "height": 70
        }
      },
      "source": [
        "#IMPORTAMOS EL CONJUNTO DE DATOS DE CIFAR10 DONE: Xdata[0][0]-->Train   Xdata[1][0]-->Test  Xdata[0][1]-->Ytrain  Xdata[1][1]-->Ytest\n",
        "import tensorflow as tf\n",
        "from keras.datasets import cifar10\n",
        "\n",
        "Xdata = tf.keras.datasets.cifar10.load_data()\n",
        "Xdata[1][0].shape\n"
      ],
      "execution_count": 3,
      "outputs": [
        {
          "output_type": "stream",
          "text": [
            "Downloading data from https://www.cs.toronto.edu/~kriz/cifar-10-python.tar.gz\n",
            "170500096/170498071 [==============================] - 6s 0us/step\n"
          ],
          "name": "stdout"
        },
        {
          "output_type": "execute_result",
          "data": {
            "text/plain": [
              "(10000, 32, 32, 3)"
            ]
          },
          "metadata": {
            "tags": []
          },
          "execution_count": 3
        }
      ]
    },
    {
      "cell_type": "code",
      "metadata": {
        "id": "aHZBxtVEIRU9",
        "colab_type": "code",
        "outputId": "1b2ce599-ab4b-465d-8561-957cc39ecb57",
        "colab": {
          "base_uri": "https://localhost:8080/",
          "height": 265
        }
      },
      "source": [
        "#OBTENEMOS SOLO LAS IMAGENES DE GATO=3 y perro=5 DE TEST DE CIFAR10, SON 1000 IMAGENES DE GATO y 1000 IMAGENES DE PERRO\n",
        "gato_test = obtener_solo_imagenes_Etiqueta(Xdata[1][0],Xdata[1][1],num_etiqueta=3)\n",
        "perro_test = obtener_solo_imagenes_Etiqueta(Xdata[1][0],Xdata[1][1],num_etiqueta=5)\n",
        "\n",
        "#OBTENEMOS SOLO LAS IMAGENES DE GATO=3 y perro=5 DE TRAIN DE CIFAR10, SON 5000 IMAGENES DE GATO y 5000 IMAGENES DE PERRO\n",
        "gato_train = obtener_solo_imagenes_Etiqueta(Xdata[0][0],Xdata[0][1],num_etiqueta=3)\n",
        "perro_train = obtener_solo_imagenes_Etiqueta(Xdata[0][0],Xdata[0][1],num_etiqueta=5)\n",
        "\n",
        "plt.imshow(gato_test[999])\n",
        "plt.show()"
      ],
      "execution_count": 4,
      "outputs": [
        {
          "output_type": "display_data",
          "data": {
            "image/png": "[encoded data removed]",
            "text/plain": [
              "<Figure size 432x288 with 1 Axes>"
            ]
          },
          "metadata": {
            "tags": [],
            "needs_background": "light"
          }
        }
      ]
    },
    {
      "cell_type": "markdown",
      "metadata": {
        "id": "hMWOHRugFe8l",
        "colab_type": "text"
      },
      "source": [
        "## **5. Agrupar conjunto de datos, en uno solo (X)**\n",
        "\n",
        "Gato_test, Conjunto de satos de 1000 imágenes tomadas de CIFAR10 - TEST\n",
        "Gato_train, Conjunto de satos de 5000 imágenes tomadas de CIFAR10 - TRAIN\n",
        "\n",
        "perro_test, Conjunto de satos de 1000 imágenes tomadas de CIFAR10 - TEST\n",
        "perro_train, Conjunto de satos de 5000 imágenes tomadas de CIFAR10 - TRAIN\n",
        "\n",
        "\n",
        "> $X= Cifar10_{gato} + Cifar10_{perro}$\n"
      ]
    },
    {
      "cell_type": "markdown",
      "metadata": {
        "id": "T1tteHSs9YRA",
        "colab_type": "text"
      },
      "source": [
        "####**A:** Unir etiquetas y matrices de cada conjunto para fromar **X** de 2000 imágenes"
      ]
    },
    {
      "cell_type": "code",
      "metadata": {
        "id": "kyfpKkbQVtcH",
        "colab_type": "code",
        "outputId": "916dcb1f-1cce-4cd7-9f99-50e7ea165868",
        "colab": {
          "base_uri": "https://localhost:8080/",
          "height": 34
        }
      },
      "source": [
        "#UNIR LAS IMAGENES EN UN SOLO CONJUNTO\n",
        "#X = np.concatenate((gato_test[0:500], gato_train[0:500], perro_test[0:500], perro_train[0:500]), axis=0)\n",
        "#X_label=np.concatenate(([1]*500, [1]*500, [0]*500, [0]*500), axis=0)\n",
        "#UNIR ETIQUETAS EN UN SOLO CONJUNTO \n",
        "# 1-->GATO   0-->PERRO\n",
        "\n",
        "Xtrain = np.concatenate((gato_train[0:800], perro_train[0:800]), axis=0)\n",
        "Xtrain_label=np.concatenate(([1]*800,[0]*800), axis=0)\n",
        "Xtest  = np.concatenate((gato_test[0:200], perro_test[0:200]), axis=0)\n",
        "Xtest_label=np.concatenate(([1]*200,[0]*200), axis=0)\n",
        "\n",
        "print(len(Xtrain),len(Xtrain_label),'  y  ',len(Xtest),len(Xtest_label))"
      ],
      "execution_count": 5,
      "outputs": [
        {
          "output_type": "stream",
          "text": [
            "1600 1600   y   400 400\n"
          ],
          "name": "stdout"
        }
      ]
    },
    {
      "cell_type": "markdown",
      "metadata": {
        "id": "tBhSseFp27Z_",
        "colab_type": "text"
      },
      "source": [
        "#### **B:** Cambiar tamaño de 32x32x3, a scala de: 224x224x3 (**Ver función:** cambiar_scala_224x224(X))\n",
        "\n",
        "\n"
      ]
    },
    {
      "cell_type": "code",
      "metadata": {
        "id": "_YxLJAILu3ql",
        "colab_type": "code",
        "outputId": "58c0ea0a-25b7-47cf-d705-bc2ac81fdf3a",
        "colab": {
          "base_uri": "https://localhost:8080/",
          "height": 34
        }
      },
      "source": [
        "import cv2\n",
        "Xtrain=cambiar_scala_224x224(Xtrain)\n",
        "Xtest=cambiar_scala_224x224(Xtest)\n",
        "print(Xtrain.shape,'  ',Xtest.shape)"
      ],
      "execution_count": 6,
      "outputs": [
        {
          "output_type": "stream",
          "text": [
            "(1600, 224, 224, 3)    (400, 224, 224, 3)\n"
          ],
          "name": "stdout"
        }
      ]
    },
    {
      "cell_type": "code",
      "metadata": {
        "id": "p5e8d0PxpMoQ",
        "colab_type": "code",
        "outputId": "d99e6676-ee85-4bd9-8548-cfc5fee64a59",
        "colab": {
          "base_uri": "https://localhost:8080/",
          "height": 281
        }
      },
      "source": [
        "plt.imshow(Xtrain[5])\n",
        "plt.title('clase:%s'%Xtrain_label[5])\n",
        "plt.show()"
      ],
      "execution_count": 7,
      "outputs": [
        {
          "output_type": "display_data",
          "data": {
            "image/png": "[encoded data removed]",
            "text/plain": [
              "<Figure size 432x288 with 1 Axes>"
            ]
          },
          "metadata": {
            "tags": [],
            "needs_background": "light"
          }
        }
      ]
    },
    {
      "cell_type": "markdown",
      "metadata": {
        "id": "V6wmv0oX9tQ0",
        "colab_type": "text"
      },
      "source": [
        "####**C:** Pasar X, a un pandas, en este caso por cuestiones de espacio en memoria, solo se cojen: X[i][0][0][0:3] y se agrega para cada imagen al pandas X_PD con sus respectivas etiquetas X_label.\n",
        "\n",
        "\n"
      ]
    },
    {
      "cell_type": "code",
      "metadata": {
        "id": "WUoZ0rx1Ajop",
        "colab_type": "code",
        "colab": {}
      },
      "source": [
        "#ARMAR PANDAS CON SOLO 5 DATOS DE CADA UNA DE LAS 1600 IMAGENES PARA PODER PARTICIONAR EL CONJUNTO Y PODER SACAR YTRAIN Y YTEST\n",
        "Xtrain_PD=np.zeros([len(Xtrain),3])\n",
        "Xtest_PD=np.zeros([len(Xtest),3])\n",
        "\n",
        "for i in range(len(Xtrain)):\n",
        "  Xtrain_PD[i]=Xtrain[i][0][0][0:3]\n",
        "\n",
        "for i in range(len(Xtest)):\n",
        "  Xtest_PD[i]=Xtest[i][0][0][0:3]\n"
      ],
      "execution_count": 0,
      "outputs": []
    },
    {
      "cell_type": "code",
      "metadata": {
        "id": "mpoM4c89GilL",
        "colab_type": "code",
        "colab": {}
      },
      "source": [
        "#ARMAR PANDAS DE TODAS LAS IMAGENNES, SE BARAJAN Y SE DEJAN LOS INDICES SIN REINICIAR, PARA LUEGO ENCONTRAR LA IMAGEN QUE LE PERTENECE A CADA ETIQUETA.\n",
        "Xtrain_PD=pd.DataFrame(Xtrain_PD)\n",
        "Xtrain_PD[\"label\"]=Xtrain_label    \n",
        "Xtrain_PD = Xtrain_PD.sample(frac=1)#.reset_index(drop=True) #frac=1significa devolver todas las filas (en orden aleatorio).\n",
        "\n",
        "Xtest_PD=pd.DataFrame(Xtest_PD)\n",
        "Xtest_PD[\"label\"]=Xtest_label    \n",
        "Xtest_PD = Xtest_PD.sample(frac=1)"
      ],
      "execution_count": 0,
      "outputs": []
    },
    {
      "cell_type": "markdown",
      "metadata": {
        "id": "EjdPZOFN-P9d",
        "colab_type": "text"
      },
      "source": [
        "####**C:** Se particiona el conjuto de X_PD en Xtrain y Xtest, con 80%, 20% respectivamente y se sacan los Ytrain, Ytest por aparte."
      ]
    },
    {
      "cell_type": "code",
      "metadata": {
        "id": "qRFhRdcE9qj_",
        "colab_type": "code",
        "outputId": "e293659e-277b-4f03-cfe1-8e0be85c0507",
        "colab": {
          "base_uri": "https://localhost:8080/",
          "height": 34
        }
      },
      "source": [
        "#PARTICIONAR EL CONJUNTO DE XDATA EN XTRAIN Y XTEST\n",
        "#from sklearn.model_selection import train_test_split\n",
        "#Xtrain, Xtest = train_test_split(X_PD,test_size=0.2)\n",
        "\n",
        "col_sal=\"label\"\n",
        "Ytrain = Xtrain_PD[col_sal]\n",
        "Xtrain_PD.drop(columns=col_sal,inplace=True)\n",
        "Ytest = Xtest_PD[col_sal]\n",
        "Xtest_PD.drop(columns=col_sal,inplace=True)\n",
        "\n",
        "print(len(Ytrain),len(Ytest))"
      ],
      "execution_count": 10,
      "outputs": [
        {
          "output_type": "stream",
          "text": [
            "1600 400\n"
          ],
          "name": "stdout"
        }
      ]
    },
    {
      "cell_type": "markdown",
      "metadata": {
        "id": "4FlAT9CE-ogZ",
        "colab_type": "text"
      },
      "source": [
        "####**D:** Del pandas **X_PD** creado, se saca Ytrain, luego aquí,se sacan sus indices y se relacionan con la matrix de datos unidos **X** para armar el array **XTRAIN** que es el que va a la entrada de la red neuronal VGG-16."
      ]
    },
    {
      "cell_type": "code",
      "metadata": {
        "id": "xNSoYUIj70QB",
        "colab_type": "code",
        "outputId": "8f377a58-6596-4c87-b36a-8ca2a34afd7d",
        "colab": {
          "base_uri": "https://localhost:8080/",
          "height": 34
        }
      },
      "source": [
        "#SE ARMA EL CONJUNTO XTRAIN FINAL, A PARTIR DE LOS INDICES DE LAS ETIQUETAS.\n",
        "\n",
        "def relacion_indices_etiquetas_con_XTRAIN(X,Y):\n",
        "  A=np.zeros([len(Y),224,224,3],dtype=np.uint8)\n",
        "  B=[]\n",
        "  for c,i in enumerate(Y.index):\n",
        "    A[c]=X[i]\n",
        "    B.append(Y[i])\n",
        "  return A,np.array(B)\n",
        "\n",
        "\n",
        "XTRAIN,YTRAIN = relacion_indices_etiquetas_con_XTRAIN(Xtrain,Ytrain)\n",
        "XTEST,YTEST = relacion_indices_etiquetas_con_XTRAIN(Xtest,Ytest)\n",
        "print('xtrain: ',XTRAIN.shape,YTRAIN.shape,'  xtest: ',XTEST.shape,YTEST.shape)\n",
        "\n",
        "#c = np.all(np.array(YTRAIN) == np.array(Ytrain))\n",
        "#Ytrain.index"
      ],
      "execution_count": 11,
      "outputs": [
        {
          "output_type": "stream",
          "text": [
            "xtrain:  (1600, 224, 224, 3) (1600,)   xtest:  (400, 224, 224, 3) (400,)\n"
          ],
          "name": "stdout"
        }
      ]
    },
    {
      "cell_type": "code",
      "metadata": {
        "id": "M-lxgxSTfm7u",
        "colab_type": "code",
        "outputId": "8d8aac43-73de-492e-dacb-4e700ed3dbb3",
        "colab": {
          "base_uri": "https://localhost:8080/",
          "height": 34
        }
      },
      "source": [
        "#LAS PASAMOS A TENSOR, NO HAYNECESIDAD DE QUE YTRAIN SEA UN TENSOR.\n",
        "XTRAIN=tf.constant(XTRAIN)\n",
        "YTRAIN=tf.constant(YTRAIN)\n",
        "\n",
        "XTEST=tf.constant(XTEST)\n",
        "YTEST=tf.constant(YTEST)\n",
        "\n",
        "print(type(XTRAIN))"
      ],
      "execution_count": 12,
      "outputs": [
        {
          "output_type": "stream",
          "text": [
            "<class 'tensorflow.python.framework.ops.EagerTensor'>\n"
          ],
          "name": "stdout"
        }
      ]
    },
    {
      "cell_type": "code",
      "metadata": {
        "id": "NqVmpVA5-KRM",
        "colab_type": "code",
        "outputId": "9a3283b8-c551-4ee0-c77a-011782be5f2c",
        "colab": {
          "base_uri": "https://localhost:8080/",
          "height": 281
        }
      },
      "source": [
        "plt.imshow(XTRAIN[5])\n",
        "plt.title('clase:%s'%YTRAIN[5])\n",
        "plt.show()\n"
      ],
      "execution_count": 13,
      "outputs": [
        {
          "output_type": "display_data",
          "data": {
            "image/png": "[encoded data removed]",
            "text/plain": [
              "<Figure size 432x288 with 1 Axes>"
            ]
          },
          "metadata": {
            "tags": [],
            "needs_background": "light"
          }
        }
      ]
    },
    {
      "cell_type": "markdown",
      "metadata": {
        "id": "QajCSoSIeCEm",
        "colab_type": "text"
      },
      "source": [
        "##**6. Importar el modelo de la ResNet50 y configurar el último bloque.**\n",
        "\n",
        "### Dejar la ultima capa y agregar la capa densa de salida, para que tenga 1 salida.  "
      ]
    },
    {
      "cell_type": "code",
      "metadata": {
        "id": "tf0CXg9BN5aH",
        "colab_type": "code",
        "outputId": "f53fc1f2-5d02-4f32-8553-72976073eee8",
        "colab": {
          "base_uri": "https://localhost:8080/",
          "height": 1000
        }
      },
      "source": [
        "import tensorflow as tf\n",
        "\n",
        "model = tf.keras.applications.ResNet50(weights='imagenet')#,include_top=False)\n",
        "\n",
        "#X =  tf.keras.layers.Dropout(0.2)(model.output)\n",
        "output = tf.keras.layers.Dense(1, activation=\"sigmoid\", name='salida')(model.output)\n",
        "model = tf.keras.models.Model(inputs=model.input, outputs=output)\n",
        "\n",
        "model.summary()\n",
        "#tf.keras.utils.plot_model(model_GoogleNet,show_shapes=True, show_layer_names=True)"
      ],
      "execution_count": 14,
      "outputs": [
        {
          "output_type": "stream",
          "text": [
            "Downloading data from https://storage.googleapis.com/tensorflow/keras-applications/resnet/resnet50_weights_tf_dim_ordering_tf_kernels.h5\n",
            "102973440/102967424 [==============================] - 1s 0us/step\n",
            "Model: \"model\"\n",
            "__________________________________________________________________________________________________\n",
            "Layer (type)                    Output Shape         Param #     Connected to                     \n",
            "==================================================================================================\n",
            "input_1 (InputLayer)            [(None, 224, 224, 3) 0                                            \n",
            "__________________________________________________________________________________________________\n",
            "conv1_pad (ZeroPadding2D)       (None, 230, 230, 3)  0           input_1[0][0]                    \n",
            "__________________________________________________________________________________________________\n",
            "conv1_conv (Conv2D)             (None, 112, 112, 64) 9472        conv1_pad[0][0]                  \n",
            "__________________________________________________________________________________________________\n",
            "conv1_bn (BatchNormalization)   (None, 112, 112, 64) 256         conv1_conv[0][0]                 \n",
            "__________________________________________________________________________________________________\n",
            "conv1_relu (Activation)         (None, 112, 112, 64) 0           conv1_bn[0][0]                   \n",
            "__________________________________________________________________________________________________\n",
            "pool1_pad (ZeroPadding2D)       (None, 114, 114, 64) 0           conv1_relu[0][0]                 \n",
            "__________________________________________________________________________________________________\n",
            "pool1_pool (MaxPooling2D)       (None, 56, 56, 64)   0           pool1_pad[0][0]                  \n",
            "__________________________________________________________________________________________________\n",
            "conv2_block1_1_conv (Conv2D)    (None, 56, 56, 64)   4160        pool1_pool[0][0]                 \n",
            "__________________________________________________________________________________________________\n",
            "conv2_block1_1_bn (BatchNormali (None, 56, 56, 64)   256         conv2_block1_1_conv[0][0]        \n",
            "__________________________________________________________________________________________________\n",
            "conv2_block1_1_relu (Activation (None, 56, 56, 64)   0           conv2_block1_1_bn[0][0]          \n",
            "__________________________________________________________________________________________________\n",
            "conv2_block1_2_conv (Conv2D)    (None, 56, 56, 64)   36928       conv2_block1_1_relu[0][0]        \n",
            "__________________________________________________________________________________________________\n",
            "conv2_block1_2_bn (BatchNormali (None, 56, 56, 64)   256         conv2_block1_2_conv[0][0]        \n",
            "__________________________________________________________________________________________________\n",
            "conv2_block1_2_relu (Activation (None, 56, 56, 64)   0           conv2_block1_2_bn[0][0]          \n",
            "__________________________________________________________________________________________________\n",
            "conv2_block1_0_conv (Conv2D)    (None, 56, 56, 256)  16640       pool1_pool[0][0]                 \n",
            "__________________________________________________________________________________________________\n",
            "conv2_block1_3_conv (Conv2D)    (None, 56, 56, 256)  16640       conv2_block1_2_relu[0][0]        \n",
            "__________________________________________________________________________________________________\n",
            "conv2_block1_0_bn (BatchNormali (None, 56, 56, 256)  1024        conv2_block1_0_conv[0][0]        \n",
            "__________________________________________________________________________________________________\n",
            "conv2_block1_3_bn (BatchNormali (None, 56, 56, 256)  1024        conv2_block1_3_conv[0][0]        \n",
            "__________________________________________________________________________________________________\n",
            "conv2_block1_add (Add)          (None, 56, 56, 256)  0           conv2_block1_0_bn[0][0]          \n",
            "                                                                 conv2_block1_3_bn[0][0]          \n",
            "__________________________________________________________________________________________________\n",
            "conv2_block1_out (Activation)   (None, 56, 56, 256)  0           conv2_block1_add[0][0]           \n",
            "__________________________________________________________________________________________________\n",
            "conv2_block2_1_conv (Conv2D)    (None, 56, 56, 64)   16448       conv2_block1_out[0][0]           \n",
            "__________________________________________________________________________________________________\n",
            "conv2_block2_1_bn (BatchNormali (None, 56, 56, 64)   256         conv2_block2_1_conv[0][0]        \n",
            "__________________________________________________________________________________________________\n",
            "conv2_block2_1_relu (Activation (None, 56, 56, 64)   0           conv2_block2_1_bn[0][0]          \n",
            "__________________________________________________________________________________________________\n",
            "conv2_block2_2_conv (Conv2D)    (None, 56, 56, 64)   36928       conv2_block2_1_relu[0][0]        \n",
            "__________________________________________________________________________________________________\n",
            "conv2_block2_2_bn (BatchNormali (None, 56, 56, 64)   256         conv2_block2_2_conv[0][0]        \n",
            "__________________________________________________________________________________________________\n",
            "conv2_block2_2_relu (Activation (None, 56, 56, 64)   0           conv2_block2_2_bn[0][0]          \n",
            "__________________________________________________________________________________________________\n",
            "conv2_block2_3_conv (Conv2D)    (None, 56, 56, 256)  16640       conv2_block2_2_relu[0][0]        \n",
            "__________________________________________________________________________________________________\n",
            "conv2_block2_3_bn (BatchNormali (None, 56, 56, 256)  1024        conv2_block2_3_conv[0][0]        \n",
            "__________________________________________________________________________________________________\n",
            "conv2_block2_add (Add)          (None, 56, 56, 256)  0           conv2_block1_out[0][0]           \n",
            "                                                                 conv2_block2_3_bn[0][0]          \n",
            "__________________________________________________________________________________________________\n",
            "conv2_block2_out (Activation)   (None, 56, 56, 256)  0           conv2_block2_add[0][0]           \n",
            "__________________________________________________________________________________________________\n",
            "conv2_block3_1_conv (Conv2D)    (None, 56, 56, 64)   16448       conv2_block2_out[0][0]           \n",
            "__________________________________________________________________________________________________\n",
            "conv2_block3_1_bn (BatchNormali (None, 56, 56, 64)   256         conv2_block3_1_conv[0][0]        \n",
            "__________________________________________________________________________________________________\n",
            "conv2_block3_1_relu (Activation (None, 56, 56, 64)   0           conv2_block3_1_bn[0][0]          \n",
            "__________________________________________________________________________________________________\n",
            "conv2_block3_2_conv (Conv2D)    (None, 56, 56, 64)   36928       conv2_block3_1_relu[0][0]        \n",
            "__________________________________________________________________________________________________\n",
            "conv2_block3_2_bn (BatchNormali (None, 56, 56, 64)   256         conv2_block3_2_conv[0][0]        \n",
            "__________________________________________________________________________________________________\n",
            "conv2_block3_2_relu (Activation (None, 56, 56, 64)   0           conv2_block3_2_bn[0][0]          \n",
            "__________________________________________________________________________________________________\n",
            "conv2_block3_3_conv (Conv2D)    (None, 56, 56, 256)  16640       conv2_block3_2_relu[0][0]        \n",
            "__________________________________________________________________________________________________\n",
            "conv2_block3_3_bn (BatchNormali (None, 56, 56, 256)  1024        conv2_block3_3_conv[0][0]        \n",
            "__________________________________________________________________________________________________\n",
            "conv2_block3_add (Add)          (None, 56, 56, 256)  0           conv2_block2_out[0][0]           \n",
            "                                                                 conv2_block3_3_bn[0][0]          \n",
            "__________________________________________________________________________________________________\n",
            "conv2_block3_out (Activation)   (None, 56, 56, 256)  0           conv2_block3_add[0][0]           \n",
            "__________________________________________________________________________________________________\n",
            "conv3_block1_1_conv (Conv2D)    (None, 28, 28, 128)  32896       conv2_block3_out[0][0]           \n",
            "__________________________________________________________________________________________________\n",
            "conv3_block1_1_bn (BatchNormali (None, 28, 28, 128)  512         conv3_block1_1_conv[0][0]        \n",
            "__________________________________________________________________________________________________\n",
            "conv3_block1_1_relu (Activation (None, 28, 28, 128)  0           conv3_block1_1_bn[0][0]          \n",
            "__________________________________________________________________________________________________\n",
            "conv3_block1_2_conv (Conv2D)    (None, 28, 28, 128)  147584      conv3_block1_1_relu[0][0]        \n",
            "__________________________________________________________________________________________________\n",
            "conv3_block1_2_bn (BatchNormali (None, 28, 28, 128)  512         conv3_block1_2_conv[0][0]        \n",
            "__________________________________________________________________________________________________\n",
            "conv3_block1_2_relu (Activation (None, 28, 28, 128)  0           conv3_block1_2_bn[0][0]          \n",
            "__________________________________________________________________________________________________\n",
            "conv3_block1_0_conv (Conv2D)    (None, 28, 28, 512)  131584      conv2_block3_out[0][0]           \n",
            "__________________________________________________________________________________________________\n",
            "conv3_block1_3_conv (Conv2D)    (None, 28, 28, 512)  66048       conv3_block1_2_relu[0][0]        \n",
            "__________________________________________________________________________________________________\n",
            "conv3_block1_0_bn (BatchNormali (None, 28, 28, 512)  2048        conv3_block1_0_conv[0][0]        \n",
            "__________________________________________________________________________________________________\n",
            "conv3_block1_3_bn (BatchNormali (None, 28, 28, 512)  2048        conv3_block1_3_conv[0][0]        \n",
            "__________________________________________________________________________________________________\n",
            "conv3_block1_add (Add)          (None, 28, 28, 512)  0           conv3_block1_0_bn[0][0]          \n",
            "                                                                 conv3_block1_3_bn[0][0]          \n",
            "__________________________________________________________________________________________________\n",
            "conv3_block1_out (Activation)   (None, 28, 28, 512)  0           conv3_block1_add[0][0]           \n",
            "__________________________________________________________________________________________________\n",
            "conv3_block2_1_conv (Conv2D)    (None, 28, 28, 128)  65664       conv3_block1_out[0][0]           \n",
            "__________________________________________________________________________________________________\n",
            "conv3_block2_1_bn (BatchNormali (None, 28, 28, 128)  512         conv3_block2_1_conv[0][0]        \n",
            "__________________________________________________________________________________________________\n",
            "conv3_block2_1_relu (Activation (None, 28, 28, 128)  0           conv3_block2_1_bn[0][0]          \n",
            "__________________________________________________________________________________________________\n",
            "conv3_block2_2_conv (Conv2D)    (None, 28, 28, 128)  147584      conv3_block2_1_relu[0][0]        \n",
            "__________________________________________________________________________________________________\n",
            "conv3_block2_2_bn (BatchNormali (None, 28, 28, 128)  512         conv3_block2_2_conv[0][0]        \n",
            "__________________________________________________________________________________________________\n",
            "conv3_block2_2_relu (Activation (None, 28, 28, 128)  0           conv3_block2_2_bn[0][0]          \n",
            "__________________________________________________________________________________________________\n",
            "conv3_block2_3_conv (Conv2D)    (None, 28, 28, 512)  66048       conv3_block2_2_relu[0][0]        \n",
            "__________________________________________________________________________________________________\n",
            "conv3_block2_3_bn (BatchNormali (None, 28, 28, 512)  2048        conv3_block2_3_conv[0][0]        \n",
            "__________________________________________________________________________________________________\n",
            "conv3_block2_add (Add)          (None, 28, 28, 512)  0           conv3_block1_out[0][0]           \n",
            "                                                                 conv3_block2_3_bn[0][0]          \n",
            "__________________________________________________________________________________________________\n",
            "conv3_block2_out (Activation)   (None, 28, 28, 512)  0           conv3_block2_add[0][0]           \n",
            "__________________________________________________________________________________________________\n",
            "conv3_block3_1_conv (Conv2D)    (None, 28, 28, 128)  65664       conv3_block2_out[0][0]           \n",
            "__________________________________________________________________________________________________\n",
            "conv3_block3_1_bn (BatchNormali (None, 28, 28, 128)  512         conv3_block3_1_conv[0][0]        \n",
            "__________________________________________________________________________________________________\n",
            "conv3_block3_1_relu (Activation (None, 28, 28, 128)  0           conv3_block3_1_bn[0][0]          \n",
            "__________________________________________________________________________________________________\n",
            "conv3_block3_2_conv (Conv2D)    (None, 28, 28, 128)  147584      conv3_block3_1_relu[0][0]        \n",
            "__________________________________________________________________________________________________\n",
            "conv3_block3_2_bn (BatchNormali (None, 28, 28, 128)  512         conv3_block3_2_conv[0][0]        \n",
            "__________________________________________________________________________________________________\n",
            "conv3_block3_2_relu (Activation (None, 28, 28, 128)  0           conv3_block3_2_bn[0][0]          \n",
            "__________________________________________________________________________________________________\n",
            "conv3_block3_3_conv (Conv2D)    (None, 28, 28, 512)  66048       conv3_block3_2_relu[0][0]        \n",
            "__________________________________________________________________________________________________\n",
            "conv3_block3_3_bn (BatchNormali (None, 28, 28, 512)  2048        conv3_block3_3_conv[0][0]        \n",
            "__________________________________________________________________________________________________\n",
            "conv3_block3_add (Add)          (None, 28, 28, 512)  0           conv3_block2_out[0][0]           \n",
            "                                                                 conv3_block3_3_bn[0][0]          \n",
            "__________________________________________________________________________________________________\n",
            "conv3_block3_out (Activation)   (None, 28, 28, 512)  0           conv3_block3_add[0][0]           \n",
            "__________________________________________________________________________________________________\n",
            "conv3_block4_1_conv (Conv2D)    (None, 28, 28, 128)  65664       conv3_block3_out[0][0]           \n",
            "__________________________________________________________________________________________________\n",
            "conv3_block4_1_bn (BatchNormali (None, 28, 28, 128)  512         conv3_block4_1_conv[0][0]        \n",
            "__________________________________________________________________________________________________\n",
            "conv3_block4_1_relu (Activation (None, 28, 28, 128)  0           conv3_block4_1_bn[0][0]          \n",
            "__________________________________________________________________________________________________\n",
            "conv3_block4_2_conv (Conv2D)    (None, 28, 28, 128)  147584      conv3_block4_1_relu[0][0]        \n",
            "__________________________________________________________________________________________________\n",
            "conv3_block4_2_bn (BatchNormali (None, 28, 28, 128)  512         conv3_block4_2_conv[0][0]        \n",
            "__________________________________________________________________________________________________\n",
            "conv3_block4_2_relu (Activation (None, 28, 28, 128)  0           conv3_block4_2_bn[0][0]          \n",
            "__________________________________________________________________________________________________\n",
            "conv3_block4_3_conv (Conv2D)    (None, 28, 28, 512)  66048       conv3_block4_2_relu[0][0]        \n",
            "__________________________________________________________________________________________________\n",
            "conv3_block4_3_bn (BatchNormali (None, 28, 28, 512)  2048        conv3_block4_3_conv[0][0]        \n",
            "__________________________________________________________________________________________________\n",
            "conv3_block4_add (Add)          (None, 28, 28, 512)  0           conv3_block3_out[0][0]           \n",
            "                                                                 conv3_block4_3_bn[0][0]          \n",
            "__________________________________________________________________________________________________\n",
            "conv3_block4_out (Activation)   (None, 28, 28, 512)  0           conv3_block4_add[0][0]           \n",
            "__________________________________________________________________________________________________\n",
            "conv4_block1_1_conv (Conv2D)    (None, 14, 14, 256)  131328      conv3_block4_out[0][0]           \n",
            "__________________________________________________________________________________________________\n",
            "conv4_block1_1_bn (BatchNormali (None, 14, 14, 256)  1024        conv4_block1_1_conv[0][0]        \n",
            "__________________________________________________________________________________________________\n",
            "conv4_block1_1_relu (Activation (None, 14, 14, 256)  0           conv4_block1_1_bn[0][0]          \n",
            "__________________________________________________________________________________________________\n",
            "conv4_block1_2_conv (Conv2D)    (None, 14, 14, 256)  590080      conv4_block1_1_relu[0][0]        \n",
            "__________________________________________________________________________________________________\n",
            "conv4_block1_2_bn (BatchNormali (None, 14, 14, 256)  1024        conv4_block1_2_conv[0][0]        \n",
            "__________________________________________________________________________________________________\n",
            "conv4_block1_2_relu (Activation (None, 14, 14, 256)  0           conv4_block1_2_bn[0][0]          \n",
            "__________________________________________________________________________________________________\n",
            "conv4_block1_0_conv (Conv2D)    (None, 14, 14, 1024) 525312      conv3_block4_out[0][0]           \n",
            "__________________________________________________________________________________________________\n",
            "conv4_block1_3_conv (Conv2D)    (None, 14, 14, 1024) 263168      conv4_block1_2_relu[0][0]        \n",
            "__________________________________________________________________________________________________\n",
            "conv4_block1_0_bn (BatchNormali (None, 14, 14, 1024) 4096        conv4_block1_0_conv[0][0]        \n",
            "__________________________________________________________________________________________________\n",
            "conv4_block1_3_bn (BatchNormali (None, 14, 14, 1024) 4096        conv4_block1_3_conv[0][0]        \n",
            "__________________________________________________________________________________________________\n",
            "conv4_block1_add (Add)          (None, 14, 14, 1024) 0           conv4_block1_0_bn[0][0]          \n",
            "                                                                 conv4_block1_3_bn[0][0]          \n",
            "__________________________________________________________________________________________________\n",
            "conv4_block1_out (Activation)   (None, 14, 14, 1024) 0           conv4_block1_add[0][0]           \n",
            "__________________________________________________________________________________________________\n",
            "conv4_block2_1_conv (Conv2D)    (None, 14, 14, 256)  262400      conv4_block1_out[0][0]           \n",
            "__________________________________________________________________________________________________\n",
            "conv4_block2_1_bn (BatchNormali (None, 14, 14, 256)  1024        conv4_block2_1_conv[0][0]        \n",
            "__________________________________________________________________________________________________\n",
            "conv4_block2_1_relu (Activation (None, 14, 14, 256)  0           conv4_block2_1_bn[0][0]          \n",
            "__________________________________________________________________________________________________\n",
            "conv4_block2_2_conv (Conv2D)    (None, 14, 14, 256)  590080      conv4_block2_1_relu[0][0]        \n",
            "__________________________________________________________________________________________________\n",
            "conv4_block2_2_bn (BatchNormali (None, 14, 14, 256)  1024        conv4_block2_2_conv[0][0]        \n",
            "__________________________________________________________________________________________________\n",
            "conv4_block2_2_relu (Activation (None, 14, 14, 256)  0           conv4_block2_2_bn[0][0]          \n",
            "__________________________________________________________________________________________________\n",
            "conv4_block2_3_conv (Conv2D)    (None, 14, 14, 1024) 263168      conv4_block2_2_relu[0][0]        \n",
            "__________________________________________________________________________________________________\n",
            "conv4_block2_3_bn (BatchNormali (None, 14, 14, 1024) 4096        conv4_block2_3_conv[0][0]        \n",
            "__________________________________________________________________________________________________\n",
            "conv4_block2_add (Add)          (None, 14, 14, 1024) 0           conv4_block1_out[0][0]           \n",
            "                                                                 conv4_block2_3_bn[0][0]          \n",
            "__________________________________________________________________________________________________\n",
            "conv4_block2_out (Activation)   (None, 14, 14, 1024) 0           conv4_block2_add[0][0]           \n",
            "__________________________________________________________________________________________________\n",
            "conv4_block3_1_conv (Conv2D)    (None, 14, 14, 256)  262400      conv4_block2_out[0][0]           \n",
            "__________________________________________________________________________________________________\n",
            "conv4_block3_1_bn (BatchNormali (None, 14, 14, 256)  1024        conv4_block3_1_conv[0][0]        \n",
            "__________________________________________________________________________________________________\n",
            "conv4_block3_1_relu (Activation (None, 14, 14, 256)  0           conv4_block3_1_bn[0][0]          \n",
            "__________________________________________________________________________________________________\n",
            "conv4_block3_2_conv (Conv2D)    (None, 14, 14, 256)  590080      conv4_block3_1_relu[0][0]        \n",
            "__________________________________________________________________________________________________\n",
            "conv4_block3_2_bn (BatchNormali (None, 14, 14, 256)  1024        conv4_block3_2_conv[0][0]        \n",
            "__________________________________________________________________________________________________\n",
            "conv4_block3_2_relu (Activation (None, 14, 14, 256)  0           conv4_block3_2_bn[0][0]          \n",
            "__________________________________________________________________________________________________\n",
            "conv4_block3_3_conv (Conv2D)    (None, 14, 14, 1024) 263168      conv4_block3_2_relu[0][0]        \n",
            "__________________________________________________________________________________________________\n",
            "conv4_block3_3_bn (BatchNormali (None, 14, 14, 1024) 4096        conv4_block3_3_conv[0][0]        \n",
            "__________________________________________________________________________________________________\n",
            "conv4_block3_add (Add)          (None, 14, 14, 1024) 0           conv4_block2_out[0][0]           \n",
            "                                                                 conv4_block3_3_bn[0][0]          \n",
            "__________________________________________________________________________________________________\n",
            "conv4_block3_out (Activation)   (None, 14, 14, 1024) 0           conv4_block3_add[0][0]           \n",
            "__________________________________________________________________________________________________\n",
            "conv4_block4_1_conv (Conv2D)    (None, 14, 14, 256)  262400      conv4_block3_out[0][0]           \n",
            "__________________________________________________________________________________________________\n",
            "conv4_block4_1_bn (BatchNormali (None, 14, 14, 256)  1024        conv4_block4_1_conv[0][0]        \n",
            "__________________________________________________________________________________________________\n",
            "conv4_block4_1_relu (Activation (None, 14, 14, 256)  0           conv4_block4_1_bn[0][0]          \n",
            "__________________________________________________________________________________________________\n",
            "conv4_block4_2_conv (Conv2D)    (None, 14, 14, 256)  590080      conv4_block4_1_relu[0][0]        \n",
            "__________________________________________________________________________________________________\n",
            "conv4_block4_2_bn (BatchNormali (None, 14, 14, 256)  1024        conv4_block4_2_conv[0][0]        \n",
            "__________________________________________________________________________________________________\n",
            "conv4_block4_2_relu (Activation (None, 14, 14, 256)  0           conv4_block4_2_bn[0][0]          \n",
            "__________________________________________________________________________________________________\n",
            "conv4_block4_3_conv (Conv2D)    (None, 14, 14, 1024) 263168      conv4_block4_2_relu[0][0]        \n",
            "__________________________________________________________________________________________________\n",
            "conv4_block4_3_bn (BatchNormali (None, 14, 14, 1024) 4096        conv4_block4_3_conv[0][0]        \n",
            "__________________________________________________________________________________________________\n",
            "conv4_block4_add (Add)          (None, 14, 14, 1024) 0           conv4_block3_out[0][0]           \n",
            "                                                                 conv4_block4_3_bn[0][0]          \n",
            "__________________________________________________________________________________________________\n",
            "conv4_block4_out (Activation)   (None, 14, 14, 1024) 0           conv4_block4_add[0][0]           \n",
            "__________________________________________________________________________________________________\n",
            "conv4_block5_1_conv (Conv2D)    (None, 14, 14, 256)  262400      conv4_block4_out[0][0]           \n",
            "__________________________________________________________________________________________________\n",
            "conv4_block5_1_bn (BatchNormali (None, 14, 14, 256)  1024        conv4_block5_1_conv[0][0]        \n",
            "__________________________________________________________________________________________________\n",
            "conv4_block5_1_relu (Activation (None, 14, 14, 256)  0           conv4_block5_1_bn[0][0]          \n",
            "__________________________________________________________________________________________________\n",
            "conv4_block5_2_conv (Conv2D)    (None, 14, 14, 256)  590080      conv4_block5_1_relu[0][0]        \n",
            "__________________________________________________________________________________________________\n",
            "conv4_block5_2_bn (BatchNormali (None, 14, 14, 256)  1024        conv4_block5_2_conv[0][0]        \n",
            "__________________________________________________________________________________________________\n",
            "conv4_block5_2_relu (Activation (None, 14, 14, 256)  0           conv4_block5_2_bn[0][0]          \n",
            "__________________________________________________________________________________________________\n",
            "conv4_block5_3_conv (Conv2D)    (None, 14, 14, 1024) 263168      conv4_block5_2_relu[0][0]        \n",
            "__________________________________________________________________________________________________\n",
            "conv4_block5_3_bn (BatchNormali (None, 14, 14, 1024) 4096        conv4_block5_3_conv[0][0]        \n",
            "__________________________________________________________________________________________________\n",
            "conv4_block5_add (Add)          (None, 14, 14, 1024) 0           conv4_block4_out[0][0]           \n",
            "                                                                 conv4_block5_3_bn[0][0]          \n",
            "__________________________________________________________________________________________________\n",
            "conv4_block5_out (Activation)   (None, 14, 14, 1024) 0           conv4_block5_add[0][0]           \n",
            "__________________________________________________________________________________________________\n",
            "conv4_block6_1_conv (Conv2D)    (None, 14, 14, 256)  262400      conv4_block5_out[0][0]           \n",
            "__________________________________________________________________________________________________\n",
            "conv4_block6_1_bn (BatchNormali (None, 14, 14, 256)  1024        conv4_block6_1_conv[0][0]        \n",
            "__________________________________________________________________________________________________\n",
            "conv4_block6_1_relu (Activation (None, 14, 14, 256)  0           conv4_block6_1_bn[0][0]          \n",
            "__________________________________________________________________________________________________\n",
            "conv4_block6_2_conv (Conv2D)    (None, 14, 14, 256)  590080      conv4_block6_1_relu[0][0]        \n",
            "__________________________________________________________________________________________________\n",
            "conv4_block6_2_bn (BatchNormali (None, 14, 14, 256)  1024        conv4_block6_2_conv[0][0]        \n",
            "__________________________________________________________________________________________________\n",
            "conv4_block6_2_relu (Activation (None, 14, 14, 256)  0           conv4_block6_2_bn[0][0]          \n",
            "__________________________________________________________________________________________________\n",
            "conv4_block6_3_conv (Conv2D)    (None, 14, 14, 1024) 263168      conv4_block6_2_relu[0][0]        \n",
            "__________________________________________________________________________________________________\n",
            "conv4_block6_3_bn (BatchNormali (None, 14, 14, 1024) 4096        conv4_block6_3_conv[0][0]        \n",
            "__________________________________________________________________________________________________\n",
            "conv4_block6_add (Add)          (None, 14, 14, 1024) 0           conv4_block5_out[0][0]           \n",
            "                                                                 conv4_block6_3_bn[0][0]          \n",
            "__________________________________________________________________________________________________\n",
            "conv4_block6_out (Activation)   (None, 14, 14, 1024) 0           conv4_block6_add[0][0]           \n",
            "__________________________________________________________________________________________________\n",
            "conv5_block1_1_conv (Conv2D)    (None, 7, 7, 512)    524800      conv4_block6_out[0][0]           \n",
            "__________________________________________________________________________________________________\n",
            "conv5_block1_1_bn (BatchNormali (None, 7, 7, 512)    2048        conv5_block1_1_conv[0][0]        \n",
            "__________________________________________________________________________________________________\n",
            "conv5_block1_1_relu (Activation (None, 7, 7, 512)    0           conv5_block1_1_bn[0][0]          \n",
            "__________________________________________________________________________________________________\n",
            "conv5_block1_2_conv (Conv2D)    (None, 7, 7, 512)    2359808     conv5_block1_1_relu[0][0]        \n",
            "__________________________________________________________________________________________________\n",
            "conv5_block1_2_bn (BatchNormali (None, 7, 7, 512)    2048        conv5_block1_2_conv[0][0]        \n",
            "__________________________________________________________________________________________________\n",
            "conv5_block1_2_relu (Activation (None, 7, 7, 512)    0           conv5_block1_2_bn[0][0]          \n",
            "__________________________________________________________________________________________________\n",
            "conv5_block1_0_conv (Conv2D)    (None, 7, 7, 2048)   2099200     conv4_block6_out[0][0]           \n",
            "__________________________________________________________________________________________________\n",
            "conv5_block1_3_conv (Conv2D)    (None, 7, 7, 2048)   1050624     conv5_block1_2_relu[0][0]        \n",
            "__________________________________________________________________________________________________\n",
            "conv5_block1_0_bn (BatchNormali (None, 7, 7, 2048)   8192        conv5_block1_0_conv[0][0]        \n",
            "__________________________________________________________________________________________________\n",
            "conv5_block1_3_bn (BatchNormali (None, 7, 7, 2048)   8192        conv5_block1_3_conv[0][0]        \n",
            "__________________________________________________________________________________________________\n",
            "conv5_block1_add (Add)          (None, 7, 7, 2048)   0           conv5_block1_0_bn[0][0]          \n",
            "                                                                 conv5_block1_3_bn[0][0]          \n",
            "__________________________________________________________________________________________________\n",
            "conv5_block1_out (Activation)   (None, 7, 7, 2048)   0           conv5_block1_add[0][0]           \n",
            "__________________________________________________________________________________________________\n",
            "conv5_block2_1_conv (Conv2D)    (None, 7, 7, 512)    1049088     conv5_block1_out[0][0]           \n",
            "__________________________________________________________________________________________________\n",
            "conv5_block2_1_bn (BatchNormali (None, 7, 7, 512)    2048        conv5_block2_1_conv[0][0]        \n",
            "__________________________________________________________________________________________________\n",
            "conv5_block2_1_relu (Activation (None, 7, 7, 512)    0           conv5_block2_1_bn[0][0]          \n",
            "__________________________________________________________________________________________________\n",
            "conv5_block2_2_conv (Conv2D)    (None, 7, 7, 512)    2359808     conv5_block2_1_relu[0][0]        \n",
            "__________________________________________________________________________________________________\n",
            "conv5_block2_2_bn (BatchNormali (None, 7, 7, 512)    2048        conv5_block2_2_conv[0][0]        \n",
            "__________________________________________________________________________________________________\n",
            "conv5_block2_2_relu (Activation (None, 7, 7, 512)    0           conv5_block2_2_bn[0][0]          \n",
            "__________________________________________________________________________________________________\n",
            "conv5_block2_3_conv (Conv2D)    (None, 7, 7, 2048)   1050624     conv5_block2_2_relu[0][0]        \n",
            "__________________________________________________________________________________________________\n",
            "conv5_block2_3_bn (BatchNormali (None, 7, 7, 2048)   8192        conv5_block2_3_conv[0][0]        \n",
            "__________________________________________________________________________________________________\n",
            "conv5_block2_add (Add)          (None, 7, 7, 2048)   0           conv5_block1_out[0][0]           \n",
            "                                                                 conv5_block2_3_bn[0][0]          \n",
            "__________________________________________________________________________________________________\n",
            "conv5_block2_out (Activation)   (None, 7, 7, 2048)   0           conv5_block2_add[0][0]           \n",
            "__________________________________________________________________________________________________\n",
            "conv5_block3_1_conv (Conv2D)    (None, 7, 7, 512)    1049088     conv5_block2_out[0][0]           \n",
            "__________________________________________________________________________________________________\n",
            "conv5_block3_1_bn (BatchNormali (None, 7, 7, 512)    2048        conv5_block3_1_conv[0][0]        \n",
            "__________________________________________________________________________________________________\n",
            "conv5_block3_1_relu (Activation (None, 7, 7, 512)    0           conv5_block3_1_bn[0][0]          \n",
            "__________________________________________________________________________________________________\n",
            "conv5_block3_2_conv (Conv2D)    (None, 7, 7, 512)    2359808     conv5_block3_1_relu[0][0]        \n",
            "__________________________________________________________________________________________________\n",
            "conv5_block3_2_bn (BatchNormali (None, 7, 7, 512)    2048        conv5_block3_2_conv[0][0]        \n",
            "__________________________________________________________________________________________________\n",
            "conv5_block3_2_relu (Activation (None, 7, 7, 512)    0           conv5_block3_2_bn[0][0]          \n",
            "__________________________________________________________________________________________________\n",
            "conv5_block3_3_conv (Conv2D)    (None, 7, 7, 2048)   1050624     conv5_block3_2_relu[0][0]        \n",
            "__________________________________________________________________________________________________\n",
            "conv5_block3_3_bn (BatchNormali (None, 7, 7, 2048)   8192        conv5_block3_3_conv[0][0]        \n",
            "__________________________________________________________________________________________________\n",
            "conv5_block3_add (Add)          (None, 7, 7, 2048)   0           conv5_block2_out[0][0]           \n",
            "                                                                 conv5_block3_3_bn[0][0]          \n",
            "__________________________________________________________________________________________________\n",
            "conv5_block3_out (Activation)   (None, 7, 7, 2048)   0           conv5_block3_add[0][0]           \n",
            "__________________________________________________________________________________________________\n",
            "avg_pool (GlobalAveragePooling2 (None, 2048)         0           conv5_block3_out[0][0]           \n",
            "__________________________________________________________________________________________________\n",
            "predictions (Dense)             (None, 1000)         2049000     avg_pool[0][0]                   \n",
            "__________________________________________________________________________________________________\n",
            "salida (Dense)                  (None, 1)            1001        predictions[0][0]                \n",
            "==================================================================================================\n",
            "Total params: 25,637,713\n",
            "Trainable params: 25,584,593\n",
            "Non-trainable params: 53,120\n",
            "__________________________________________________________________________________________________\n"
          ],
          "name": "stdout"
        }
      ]
    },
    {
      "cell_type": "code",
      "metadata": {
        "id": "7fGtZsYu191T",
        "colab_type": "code",
        "colab": {}
      },
      "source": [
        "#SE CONGELAN LOS PESOS DE TODAS LAS CAPAS MENOS DE LAS cuatro ULTIMAS CAPAS\n",
        "for layer in model.layers[:-2]:\n",
        "  layer.trainable=False"
      ],
      "execution_count": 0,
      "outputs": []
    },
    {
      "cell_type": "code",
      "metadata": {
        "id": "HDSJgVPMUKoK",
        "colab_type": "code",
        "outputId": "ba9b2254-9fe6-4d5b-c709-53705a46ea43",
        "colab": {
          "base_uri": "https://localhost:8080/",
          "height": 1000
        }
      },
      "source": [
        "#SE VERIFICA QUE LAS CUATRO ULTIMAS CAPAS ESTE EN TRUE Y LAS DEMÁS EN FALSE\n",
        "for layer in model.layers:\n",
        "  layer, layer.trainable\n",
        "  print(layer, layer.trainable)"
      ],
      "execution_count": 16,
      "outputs": [
        {
          "output_type": "stream",
          "text": [
            "<tensorflow.python.keras.engine.input_layer.InputLayer object at 0x7f9060627898> False\n",
            "<tensorflow.python.keras.layers.convolutional.ZeroPadding2D object at 0x7f908b338898> False\n",
            "<tensorflow.python.keras.layers.convolutional.Conv2D object at 0x7f9060627278> False\n",
            "<tensorflow.python.keras.layers.normalization_v2.BatchNormalization object at 0x7f906061eef0> False\n",
            "<tensorflow.python.keras.layers.core.Activation object at 0x7f9060608b70> False\n",
            "<tensorflow.python.keras.layers.convolutional.ZeroPadding2D object at 0x7f9060630160> False\n",
            "<tensorflow.python.keras.layers.pooling.MaxPooling2D object at 0x7f9060557da0> False\n",
            "<tensorflow.python.keras.layers.convolutional.Conv2D object at 0x7f90605661d0> False\n",
            "<tensorflow.python.keras.layers.normalization_v2.BatchNormalization object at 0x7f906050ea90> False\n",
            "<tensorflow.python.keras.layers.core.Activation object at 0x7f9060514c18> False\n",
            "<tensorflow.python.keras.layers.convolutional.Conv2D object at 0x7f9060514400> False\n",
            "<tensorflow.python.keras.layers.normalization_v2.BatchNormalization object at 0x7f906053af60> False\n",
            "<tensorflow.python.keras.layers.core.Activation object at 0x7f90604c1f98> False\n",
            "<tensorflow.python.keras.layers.convolutional.Conv2D object at 0x7f9060561358> False\n",
            "<tensorflow.python.keras.layers.convolutional.Conv2D object at 0x7f90604e7da0> False\n",
            "<tensorflow.python.keras.layers.normalization_v2.BatchNormalization object at 0x7f9060561c88> False\n",
            "<tensorflow.python.keras.layers.normalization_v2.BatchNormalization object at 0x7f90604f1390> False\n",
            "<tensorflow.python.keras.layers.merge.Add object at 0x7f90604f18d0> False\n",
            "<tensorflow.python.keras.layers.core.Activation object at 0x7f90604f7470> False\n",
            "<tensorflow.python.keras.layers.convolutional.Conv2D object at 0x7f906049b978> False\n",
            "<tensorflow.python.keras.layers.normalization_v2.BatchNormalization object at 0x7f906049bcf8> False\n",
            "<tensorflow.python.keras.layers.core.Activation object at 0x7f90604a2eb8> False\n",
            "<tensorflow.python.keras.layers.convolutional.Conv2D object at 0x7f90604a2668> False\n",
            "<tensorflow.python.keras.layers.normalization_v2.BatchNormalization object at 0x7f9060454198> False\n",
            "<tensorflow.python.keras.layers.core.Activation object at 0x7f9060454a20> False\n",
            "<tensorflow.python.keras.layers.convolutional.Conv2D object at 0x7f906045d358> False\n",
            "<tensorflow.python.keras.layers.normalization_v2.BatchNormalization object at 0x7f9060402630> False\n",
            "<tensorflow.python.keras.layers.merge.Add object at 0x7f9060402b70> False\n",
            "<tensorflow.python.keras.layers.core.Activation object at 0x7f90604097b8> False\n",
            "<tensorflow.python.keras.layers.convolutional.Conv2D object at 0x7f9060430c18> False\n",
            "<tensorflow.python.keras.layers.normalization_v2.BatchNormalization object at 0x7f9060434470> False\n",
            "<tensorflow.python.keras.layers.core.Activation object at 0x7f9060434828> False\n",
            "<tensorflow.python.keras.layers.convolutional.Conv2D object at 0x7f906043a160> False\n",
            "<tensorflow.python.keras.layers.normalization_v2.BatchNormalization object at 0x7f90603e4438> False\n",
            "<tensorflow.python.keras.layers.core.Activation object at 0x7f90603e4cc0> False\n",
            "<tensorflow.python.keras.layers.convolutional.Conv2D object at 0x7f90603eb630> False\n",
            "<tensorflow.python.keras.layers.normalization_v2.BatchNormalization object at 0x7f90603928d0> False\n",
            "<tensorflow.python.keras.layers.merge.Add object at 0x7f9074d78cc0> False\n",
            "<tensorflow.python.keras.layers.core.Activation object at 0x7f906eec41d0> False\n",
            "<tensorflow.python.keras.layers.convolutional.Conv2D object at 0x7f906eed8da0> False\n",
            "<tensorflow.python.keras.layers.normalization_v2.BatchNormalization object at 0x7f906eefc550> False\n",
            "<tensorflow.python.keras.layers.core.Activation object at 0x7f906eefc390> False\n",
            "<tensorflow.python.keras.layers.convolutional.Conv2D object at 0x7f906ef9dc88> False\n",
            "<tensorflow.python.keras.layers.normalization_v2.BatchNormalization object at 0x7f906f40dcf8> False\n",
            "<tensorflow.python.keras.layers.core.Activation object at 0x7f906f415f28> False\n",
            "<tensorflow.python.keras.layers.convolutional.Conv2D object at 0x7f906eec47b8> False\n",
            "<tensorflow.python.keras.layers.convolutional.Conv2D object at 0x7f906f415940> False\n",
            "<tensorflow.python.keras.layers.normalization_v2.BatchNormalization object at 0x7f906eed8f28> False\n",
            "<tensorflow.python.keras.layers.normalization_v2.BatchNormalization object at 0x7f906ef4ca20> False\n",
            "<tensorflow.python.keras.layers.merge.Add object at 0x7f906ef806d8> False\n",
            "<tensorflow.python.keras.layers.core.Activation object at 0x7f906ef80e10> False\n",
            "<tensorflow.python.keras.layers.convolutional.Conv2D object at 0x7f906eec3e48> False\n",
            "<tensorflow.python.keras.layers.normalization_v2.BatchNormalization object at 0x7f906eec2438> False\n",
            "<tensorflow.python.keras.layers.core.Activation object at 0x7f906eec2cc0> False\n",
            "<tensorflow.python.keras.layers.convolutional.Conv2D object at 0x7f906eeba630> False\n",
            "<tensorflow.python.keras.layers.normalization_v2.BatchNormalization object at 0x7f906f458908> False\n",
            "<tensorflow.python.keras.layers.core.Activation object at 0x7f906f45eb00> False\n",
            "<tensorflow.python.keras.layers.convolutional.Conv2D object at 0x7f906f45e2e8> False\n",
            "<tensorflow.python.keras.layers.normalization_v2.BatchNormalization object at 0x7f906ef2be48> False\n",
            "<tensorflow.python.keras.layers.merge.Add object at 0x7f906ef49ef0> False\n",
            "<tensorflow.python.keras.layers.core.Activation object at 0x7f906ef49710> False\n",
            "<tensorflow.python.keras.layers.convolutional.Conv2D object at 0x7f90603674a8> False\n",
            "<tensorflow.python.keras.layers.normalization_v2.BatchNormalization object at 0x7f90603677f0> False\n",
            "<tensorflow.python.keras.layers.core.Activation object at 0x7f9060367f28> False\n",
            "<tensorflow.python.keras.layers.convolutional.Conv2D object at 0x7f906036c8d0> False\n",
            "<tensorflow.python.keras.layers.normalization_v2.BatchNormalization object at 0x7f906030fcf8> False\n",
            "<tensorflow.python.keras.layers.core.Activation object at 0x7f9060315eb8> False\n",
            "<tensorflow.python.keras.layers.convolutional.Conv2D object at 0x7f9060315668> False\n",
            "<tensorflow.python.keras.layers.normalization_v2.BatchNormalization object at 0x7f90602c4208> False\n",
            "<tensorflow.python.keras.layers.merge.Add object at 0x7f90602c4748> False\n",
            "<tensorflow.python.keras.layers.core.Activation object at 0x7f90602c82e8> False\n",
            "<tensorflow.python.keras.layers.convolutional.Conv2D object at 0x7f90602ef860> False\n",
            "<tensorflow.python.keras.layers.normalization_v2.BatchNormalization object at 0x7f90602efbe0> False\n",
            "<tensorflow.python.keras.layers.core.Activation object at 0x7f90602f5da0> False\n",
            "<tensorflow.python.keras.layers.convolutional.Conv2D object at 0x7f90602f5550> False\n",
            "<tensorflow.python.keras.layers.normalization_v2.BatchNormalization object at 0x7f90602a50b8> False\n",
            "<tensorflow.python.keras.layers.core.Activation object at 0x7f90602a5940> False\n",
            "<tensorflow.python.keras.layers.convolutional.Conv2D object at 0x7f90602ad278> False\n",
            "<tensorflow.python.keras.layers.normalization_v2.BatchNormalization object at 0x7f90602525c0> False\n",
            "<tensorflow.python.keras.layers.merge.Add object at 0x7f9060252b00> False\n",
            "<tensorflow.python.keras.layers.core.Activation object at 0x7f906025a748> False\n",
            "<tensorflow.python.keras.layers.convolutional.Conv2D object at 0x7f90602054e0> False\n",
            "<tensorflow.python.keras.layers.normalization_v2.BatchNormalization object at 0x7f90602331d0> False\n",
            "<tensorflow.python.keras.layers.core.Activation object at 0x7f9060233860> False\n",
            "<tensorflow.python.keras.layers.convolutional.Conv2D object at 0x7f90601bb198> False\n",
            "<tensorflow.python.keras.layers.normalization_v2.BatchNormalization object at 0x7f90601e24e0> False\n",
            "<tensorflow.python.keras.layers.core.Activation object at 0x7f90601e2d68> False\n",
            "<tensorflow.python.keras.layers.convolutional.Conv2D object at 0x7f90601ffc18> False\n",
            "<tensorflow.python.keras.layers.convolutional.Conv2D object at 0x7f90601ea6d8> False\n",
            "<tensorflow.python.keras.layers.normalization_v2.BatchNormalization object at 0x7f9060205470> False\n",
            "<tensorflow.python.keras.layers.normalization_v2.BatchNormalization object at 0x7f906018f9e8> False\n",
            "<tensorflow.python.keras.layers.merge.Add object at 0x7f9060194198> False\n",
            "<tensorflow.python.keras.layers.core.Activation object at 0x7f9060194b70> False\n",
            "<tensorflow.python.keras.layers.convolutional.Conv2D object at 0x7f906013ddd8> False\n",
            "<tensorflow.python.keras.layers.normalization_v2.BatchNormalization object at 0x7f90601453c8> False\n",
            "<tensorflow.python.keras.layers.core.Activation object at 0x7f9060145c50> False\n",
            "<tensorflow.python.keras.layers.convolutional.Conv2D object at 0x7f906014a5c0> False\n",
            "<tensorflow.python.keras.layers.normalization_v2.BatchNormalization object at 0x7f9060172898> False\n",
            "<tensorflow.python.keras.layers.core.Activation object at 0x7f9060177a58> False\n",
            "<tensorflow.python.keras.layers.convolutional.Conv2D object at 0x7f9060177080> False\n",
            "<tensorflow.python.keras.layers.normalization_v2.BatchNormalization object at 0x7f906011ddd8> False\n",
            "<tensorflow.python.keras.layers.merge.Add object at 0x7f9060127550> False\n",
            "<tensorflow.python.keras.layers.core.Activation object at 0x7f9060127f28> False\n",
            "<tensorflow.python.keras.layers.convolutional.Conv2D object at 0x7f90600d5438> False\n",
            "<tensorflow.python.keras.layers.normalization_v2.BatchNormalization object at 0x7f90600d5780> False\n",
            "<tensorflow.python.keras.layers.core.Activation object at 0x7f90600d5eb8> False\n",
            "<tensorflow.python.keras.layers.convolutional.Conv2D object at 0x7f90600dc358> False\n",
            "<tensorflow.python.keras.layers.normalization_v2.BatchNormalization object at 0x7f9060082c88> False\n",
            "<tensorflow.python.keras.layers.core.Activation object at 0x7f9060087e48> False\n",
            "<tensorflow.python.keras.layers.convolutional.Conv2D object at 0x7f90600875f8> False\n",
            "<tensorflow.python.keras.layers.normalization_v2.BatchNormalization object at 0x7f90600b7198> False\n",
            "<tensorflow.python.keras.layers.merge.Add object at 0x7f90600b76d8> False\n",
            "<tensorflow.python.keras.layers.core.Activation object at 0x7f906003f278> False\n",
            "<tensorflow.python.keras.layers.convolutional.Conv2D object at 0x7f90600677f0> False\n",
            "<tensorflow.python.keras.layers.normalization_v2.BatchNormalization object at 0x7f9060067b70> False\n",
            "<tensorflow.python.keras.layers.core.Activation object at 0x7f906006cd30> False\n",
            "<tensorflow.python.keras.layers.convolutional.Conv2D object at 0x7f906006c4e0> False\n",
            "<tensorflow.python.keras.layers.normalization_v2.BatchNormalization object at 0x7f9014896048> False\n",
            "<tensorflow.python.keras.layers.core.Activation object at 0x7f90148968d0> False\n",
            "<tensorflow.python.keras.layers.convolutional.Conv2D object at 0x7f901489f208> False\n",
            "<tensorflow.python.keras.layers.normalization_v2.BatchNormalization object at 0x7f9014844550> False\n",
            "<tensorflow.python.keras.layers.merge.Add object at 0x7f9014844a90> False\n",
            "<tensorflow.python.keras.layers.core.Activation object at 0x7f901484c630> False\n",
            "<tensorflow.python.keras.layers.convolutional.Conv2D object at 0x7f9014871ba8> False\n",
            "<tensorflow.python.keras.layers.normalization_v2.BatchNormalization object at 0x7f9014871f98> False\n",
            "<tensorflow.python.keras.layers.core.Activation object at 0x7f90147f9fd0> False\n",
            "<tensorflow.python.keras.layers.convolutional.Conv2D object at 0x7f9014821e10> False\n",
            "<tensorflow.python.keras.layers.normalization_v2.BatchNormalization object at 0x7f901482a400> False\n",
            "<tensorflow.python.keras.layers.core.Activation object at 0x7f901482ac88> False\n",
            "<tensorflow.python.keras.layers.convolutional.Conv2D object at 0x7f901482f5f8> False\n",
            "<tensorflow.python.keras.layers.normalization_v2.BatchNormalization object at 0x7f90147d6908> False\n",
            "<tensorflow.python.keras.layers.merge.Add object at 0x7f90147dd0f0> False\n",
            "<tensorflow.python.keras.layers.core.Activation object at 0x7f90147dda90> False\n",
            "<tensorflow.python.keras.layers.convolutional.Conv2D object at 0x7f9014781c18> False\n",
            "<tensorflow.python.keras.layers.normalization_v2.BatchNormalization object at 0x7f901478a2e8> False\n",
            "<tensorflow.python.keras.layers.core.Activation object at 0x7f901478ab70> False\n",
            "<tensorflow.python.keras.layers.convolutional.Conv2D object at 0x7f90147924e0> False\n",
            "<tensorflow.python.keras.layers.normalization_v2.BatchNormalization object at 0x7f90147397b8> False\n",
            "<tensorflow.python.keras.layers.core.Activation object at 0x7f9014739ef0> False\n",
            "<tensorflow.python.keras.layers.convolutional.Conv2D object at 0x7f901473e898> False\n",
            "<tensorflow.python.keras.layers.normalization_v2.BatchNormalization object at 0x7f9014764cf8> False\n",
            "<tensorflow.python.keras.layers.merge.Add object at 0x7f901476b470> False\n",
            "<tensorflow.python.keras.layers.core.Activation object at 0x7f901476be48> False\n",
            "<tensorflow.python.keras.layers.convolutional.Conv2D object at 0x7f901471aeb8> False\n",
            "<tensorflow.python.keras.layers.normalization_v2.BatchNormalization object at 0x7f90146c6748> False\n",
            "<tensorflow.python.keras.layers.core.Activation object at 0x7f90146c6eb8> False\n",
            "<tensorflow.python.keras.layers.convolutional.Conv2D object at 0x7f90146d08d0> False\n",
            "<tensorflow.python.keras.layers.normalization_v2.BatchNormalization object at 0x7f90146f5c18> False\n",
            "<tensorflow.python.keras.layers.core.Activation object at 0x7f901467cdd8> False\n",
            "<tensorflow.python.keras.layers.convolutional.Conv2D object at 0x7f901471a2e8> False\n",
            "<tensorflow.python.keras.layers.convolutional.Conv2D object at 0x7f901467c588> False\n",
            "<tensorflow.python.keras.layers.normalization_v2.BatchNormalization object at 0x7f901471a6a0> False\n",
            "<tensorflow.python.keras.layers.normalization_v2.BatchNormalization object at 0x7f90146ab128> False\n",
            "<tensorflow.python.keras.layers.merge.Add object at 0x7f90146ab668> False\n",
            "<tensorflow.python.keras.layers.core.Activation object at 0x7f90146b22b0> False\n",
            "<tensorflow.python.keras.layers.convolutional.Conv2D object at 0x7f9014657780> False\n",
            "<tensorflow.python.keras.layers.normalization_v2.BatchNormalization object at 0x7f9014657ac8> False\n",
            "<tensorflow.python.keras.layers.core.Activation object at 0x7f901465fcc0> False\n",
            "<tensorflow.python.keras.layers.convolutional.Conv2D object at 0x7f901465f470> False\n",
            "<tensorflow.python.keras.layers.normalization_v2.BatchNormalization object at 0x7f901460c4e0> False\n",
            "<tensorflow.python.keras.layers.core.Activation object at 0x7f901460c860> False\n",
            "<tensorflow.python.keras.layers.convolutional.Conv2D object at 0x7f9014615198> False\n",
            "<tensorflow.python.keras.layers.normalization_v2.BatchNormalization object at 0x7f90145b84e0> False\n",
            "<tensorflow.python.keras.layers.merge.Add object at 0x7f90145b8a20> False\n",
            "<tensorflow.python.keras.layers.core.Activation object at 0x7f90145be5c0> False\n",
            "<tensorflow.python.keras.layers.convolutional.Conv2D object at 0x7f90145e7b38> False\n",
            "<tensorflow.python.keras.layers.normalization_v2.BatchNormalization object at 0x7f90145e7f28> False\n",
            "<tensorflow.python.keras.layers.core.Activation object at 0x7f90145eff60> False\n",
            "<tensorflow.python.keras.layers.convolutional.Conv2D object at 0x7f9014595da0> False\n",
            "<tensorflow.python.keras.layers.normalization_v2.BatchNormalization object at 0x7f901459e390> False\n",
            "<tensorflow.python.keras.layers.core.Activation object at 0x7f901459ec18> False\n",
            "<tensorflow.python.keras.layers.convolutional.Conv2D object at 0x7f90145a3588> False\n",
            "<tensorflow.python.keras.layers.normalization_v2.BatchNormalization object at 0x7f901454a898> False\n",
            "<tensorflow.python.keras.layers.merge.Add object at 0x7f9014553a90> False\n",
            "<tensorflow.python.keras.layers.core.Activation object at 0x7f9014553a20> False\n",
            "<tensorflow.python.keras.layers.pooling.GlobalAveragePooling2D object at 0x7f9014576ba8> False\n",
            "<tensorflow.python.keras.layers.core.Dense object at 0x7f9014576c50> True\n",
            "<tensorflow.python.keras.layers.core.Dense object at 0x7f9060627c88> True\n"
          ],
          "name": "stdout"
        }
      ]
    },
    {
      "cell_type": "markdown",
      "metadata": {
        "id": "jEGBQQ8j7o1r",
        "colab_type": "text"
      },
      "source": [
        "##**6. Definir el optimizador para la funcion de costo, así como la funcion de pérdida y las metricas de evaluación del odelo a través de la compilacion del modelo.**\n",
        "\n",
        "Loss $\\hspace{1em} \\rightarrow \\hspace{1em}$ $-ylog(x)\\hat{y} + (1-y)log(1-\\hat{y}) $ \n"
      ]
    },
    {
      "cell_type": "code",
      "metadata": {
        "id": "n0VAt8V_1OvU",
        "colab_type": "code",
        "colab": {}
      },
      "source": [
        "#DEFINIR OPTIMIZADOR, FUNCIONES DE PERIDA Y METRICAS\n",
        "#optimizer = tf.keras.optimizers.SGD(learning_rate=0.001, momentum=0.9)\n",
        "optimizer = tf.keras.optimizers.Adam(learning_rate=0.001)#, beta_1=0.9, beta_2=0.999, epsilon=1e-07)\n",
        "#loss='mean_squared_logariic_errorthm'\n",
        "model.compile(loss='binary_crossentropy', optimizer=optimizer, metrics=['mse','mae','accuracy','Recall','Precision'])#,"
      ],
      "execution_count": 0,
      "outputs": []
    },
    {
      "cell_type": "markdown",
      "metadata": {
        "id": "7UUX2Kpy7Ya4",
        "colab_type": "text"
      },
      "source": [
        "##**7. Entrenar el modelo con XTRAIN como un array de 4 dimensiones.**\n",
        "\n",
        "---\n",
        "\n",
        "\n"
      ]
    },
    {
      "cell_type": "code",
      "metadata": {
        "id": "gegszIDZE3C0",
        "colab_type": "code",
        "outputId": "84883c7c-17a1-41fd-898f-5d519c42d72f",
        "colab": {
          "base_uri": "https://localhost:8080/",
          "height": 34
        }
      },
      "source": [
        "print(len(XTRAIN),len(YTRAIN))\n"
      ],
      "execution_count": 18,
      "outputs": [
        {
          "output_type": "stream",
          "text": [
            "1600 1600\n"
          ],
          "name": "stdout"
        }
      ]
    },
    {
      "cell_type": "code",
      "metadata": {
        "id": "WHXivSHN9b5_",
        "colab_type": "code",
        "outputId": "2cb437ac-d3d5-45bd-9b14-76c91a90ce71",
        "colab": {
          "base_uri": "https://localhost:8080/",
          "height": 1000
        }
      },
      "source": [
        "#ENTRENAR EL MODELO CREADO\n",
        "history=model.fit(XTRAIN,YTRAIN,epochs=250,batch_size=64)               "
      ],
      "execution_count": 19,
      "outputs": [
        {
          "output_type": "stream",
          "text": [
            "Epoch 1/250\n",
            "WARNING:tensorflow:From /usr/local/lib/python3.6/dist-packages/tensorflow/python/ops/resource_variable_ops.py:1817: calling BaseResourceVariable.__init__ (from tensorflow.python.ops.resource_variable_ops) with constraint is deprecated and will be removed in a future version.\n",
            "Instructions for updating:\n",
            "If using Keras pass *_constraint arguments to layers.\n",
            "25/25 [==============================] - 9s 377ms/step - loss: 0.6857 - mse: 0.2463 - mae: 0.4962 - accuracy: 0.6587 - recall: 0.6938 - precision: 0.6484\n",
            "Epoch 2/250\n",
            "25/25 [==============================] - 9s 379ms/step - loss: 0.6736 - mse: 0.2403 - mae: 0.4899 - accuracy: 0.7525 - recall: 0.8025 - precision: 0.7295\n",
            "Epoch 3/250\n",
            "25/25 [==============================] - 9s 380ms/step - loss: 0.6626 - mse: 0.2348 - mae: 0.4841 - accuracy: 0.7850 - recall: 0.8125 - precision: 0.7701\n",
            "Epoch 4/250\n",
            "25/25 [==============================] - 10s 381ms/step - loss: 0.6513 - mse: 0.2291 - mae: 0.4781 - accuracy: 0.8150 - recall: 0.8400 - precision: 0.8000\n",
            "Epoch 5/250\n",
            "25/25 [==============================] - 10s 381ms/step - loss: 0.6396 - mse: 0.2233 - mae: 0.4717 - accuracy: 0.8313 - recall: 0.8650 - precision: 0.8103\n",
            "Epoch 6/250\n",
            "25/25 [==============================] - 10s 382ms/step - loss: 0.6271 - mse: 0.2171 - mae: 0.4648 - accuracy: 0.8506 - recall: 0.8637 - precision: 0.8417\n",
            "Epoch 7/250\n",
            "25/25 [==============================] - 10s 382ms/step - loss: 0.6127 - mse: 0.2100 - mae: 0.4568 - accuracy: 0.8687 - recall: 0.8975 - precision: 0.8487\n",
            "Epoch 8/250\n",
            "25/25 [==============================] - 10s 384ms/step - loss: 0.5999 - mse: 0.2037 - mae: 0.4496 - accuracy: 0.8888 - recall: 0.9025 - precision: 0.8783\n",
            "Epoch 9/250\n",
            "25/25 [==============================] - 10s 383ms/step - loss: 0.5875 - mse: 0.1976 - mae: 0.4425 - accuracy: 0.8963 - recall: 0.9087 - precision: 0.8866\n",
            "Epoch 10/250\n",
            "25/25 [==============================] - 10s 385ms/step - loss: 0.5757 - mse: 0.1918 - mae: 0.4356 - accuracy: 0.9081 - recall: 0.9187 - precision: 0.8996\n",
            "Epoch 11/250\n",
            "25/25 [==============================] - 10s 383ms/step - loss: 0.5634 - mse: 0.1858 - mae: 0.4284 - accuracy: 0.9162 - recall: 0.9275 - precision: 0.9071\n",
            "Epoch 12/250\n",
            "25/25 [==============================] - 10s 384ms/step - loss: 0.5517 - mse: 0.1801 - mae: 0.4215 - accuracy: 0.9262 - recall: 0.9375 - precision: 0.9169\n",
            "Epoch 13/250\n",
            "25/25 [==============================] - 10s 383ms/step - loss: 0.5401 - mse: 0.1746 - mae: 0.4146 - accuracy: 0.9312 - recall: 0.9438 - precision: 0.9207\n",
            "Epoch 14/250\n",
            "25/25 [==============================] - 10s 384ms/step - loss: 0.5296 - mse: 0.1695 - mae: 0.4082 - accuracy: 0.9344 - recall: 0.9475 - precision: 0.9233\n",
            "Epoch 15/250\n",
            "25/25 [==============================] - 10s 386ms/step - loss: 0.5189 - mse: 0.1644 - mae: 0.4016 - accuracy: 0.9381 - recall: 0.9550 - precision: 0.9238\n",
            "Epoch 16/250\n",
            "25/25 [==============================] - 10s 385ms/step - loss: 0.5067 - mse: 0.1586 - mae: 0.3940 - accuracy: 0.9406 - recall: 0.9538 - precision: 0.9294\n",
            "Epoch 17/250\n",
            "25/25 [==============================] - 10s 386ms/step - loss: 0.4947 - mse: 0.1529 - mae: 0.3865 - accuracy: 0.9488 - recall: 0.9638 - precision: 0.9357\n",
            "Epoch 18/250\n",
            "25/25 [==============================] - 10s 385ms/step - loss: 0.4856 - mse: 0.1487 - mae: 0.3805 - accuracy: 0.9506 - recall: 0.9638 - precision: 0.9391\n",
            "Epoch 19/250\n",
            "25/25 [==============================] - 10s 385ms/step - loss: 0.4745 - mse: 0.1436 - mae: 0.3735 - accuracy: 0.9538 - recall: 0.9663 - precision: 0.9427\n",
            "Epoch 20/250\n",
            "25/25 [==============================] - 10s 384ms/step - loss: 0.4641 - mse: 0.1388 - mae: 0.3666 - accuracy: 0.9556 - recall: 0.9700 - precision: 0.9429\n",
            "Epoch 21/250\n",
            "25/25 [==============================] - 10s 384ms/step - loss: 0.4543 - mse: 0.1344 - mae: 0.3601 - accuracy: 0.9556 - recall: 0.9712 - precision: 0.9418\n",
            "Epoch 22/250\n",
            "25/25 [==============================] - 10s 384ms/step - loss: 0.4424 - mse: 0.1290 - mae: 0.3522 - accuracy: 0.9594 - recall: 0.9762 - precision: 0.9444\n",
            "Epoch 23/250\n",
            "25/25 [==============================] - 10s 385ms/step - loss: 0.4324 - mse: 0.1246 - mae: 0.3454 - accuracy: 0.9606 - recall: 0.9775 - precision: 0.9456\n",
            "Epoch 24/250\n",
            "25/25 [==============================] - 10s 386ms/step - loss: 0.4225 - mse: 0.1202 - mae: 0.3385 - accuracy: 0.9638 - recall: 0.9775 - precision: 0.9513\n",
            "Epoch 25/250\n",
            "25/25 [==============================] - 10s 386ms/step - loss: 0.4127 - mse: 0.1160 - mae: 0.3318 - accuracy: 0.9638 - recall: 0.9775 - precision: 0.9513\n",
            "Epoch 26/250\n",
            "25/25 [==============================] - 10s 386ms/step - loss: 0.4049 - mse: 0.1127 - mae: 0.3261 - accuracy: 0.9638 - recall: 0.9762 - precision: 0.9524\n",
            "Epoch 27/250\n",
            "25/25 [==============================] - 10s 386ms/step - loss: 0.3955 - mse: 0.1087 - mae: 0.3195 - accuracy: 0.9656 - recall: 0.9775 - precision: 0.9548\n",
            "Epoch 28/250\n",
            "25/25 [==============================] - 10s 385ms/step - loss: 0.3877 - mse: 0.1054 - mae: 0.3138 - accuracy: 0.9656 - recall: 0.9775 - precision: 0.9548\n",
            "Epoch 29/250\n",
            "25/25 [==============================] - 10s 386ms/step - loss: 0.3790 - mse: 0.1019 - mae: 0.3074 - accuracy: 0.9650 - recall: 0.9762 - precision: 0.9548\n",
            "Epoch 30/250\n",
            "25/25 [==============================] - 10s 385ms/step - loss: 0.3694 - mse: 0.0979 - mae: 0.3005 - accuracy: 0.9669 - recall: 0.9775 - precision: 0.9572\n",
            "Epoch 31/250\n",
            "25/25 [==============================] - 10s 384ms/step - loss: 0.3617 - mse: 0.0949 - mae: 0.2946 - accuracy: 0.9669 - recall: 0.9762 - precision: 0.9583\n",
            "Epoch 32/250\n",
            "25/25 [==============================] - 10s 383ms/step - loss: 0.3528 - mse: 0.0914 - mae: 0.2881 - accuracy: 0.9669 - recall: 0.9775 - precision: 0.9572\n",
            "Epoch 33/250\n",
            "25/25 [==============================] - 10s 384ms/step - loss: 0.3452 - mse: 0.0884 - mae: 0.2824 - accuracy: 0.9681 - recall: 0.9775 - precision: 0.9595\n",
            "Epoch 34/250\n",
            "25/25 [==============================] - 10s 386ms/step - loss: 0.3368 - mse: 0.0852 - mae: 0.2761 - accuracy: 0.9688 - recall: 0.9787 - precision: 0.9596\n",
            "Epoch 35/250\n",
            "25/25 [==============================] - 10s 385ms/step - loss: 0.3310 - mse: 0.0830 - mae: 0.2716 - accuracy: 0.9681 - recall: 0.9787 - precision: 0.9584\n",
            "Epoch 36/250\n",
            "25/25 [==============================] - 10s 386ms/step - loss: 0.3212 - mse: 0.0792 - mae: 0.2644 - accuracy: 0.9712 - recall: 0.9800 - precision: 0.9631\n",
            "Epoch 37/250\n",
            "25/25 [==============================] - 10s 385ms/step - loss: 0.3141 - mse: 0.0766 - mae: 0.2588 - accuracy: 0.9719 - recall: 0.9800 - precision: 0.9643\n",
            "Epoch 38/250\n",
            "25/25 [==============================] - 10s 385ms/step - loss: 0.3075 - mse: 0.0741 - mae: 0.2539 - accuracy: 0.9725 - recall: 0.9800 - precision: 0.9655\n",
            "Epoch 39/250\n",
            "25/25 [==============================] - 10s 386ms/step - loss: 0.3039 - mse: 0.0731 - mae: 0.2507 - accuracy: 0.9712 - recall: 0.9800 - precision: 0.9631\n",
            "Epoch 40/250\n",
            "25/25 [==============================] - 10s 385ms/step - loss: 0.2946 - mse: 0.0695 - mae: 0.2440 - accuracy: 0.9744 - recall: 0.9800 - precision: 0.9691\n",
            "Epoch 41/250\n",
            "25/25 [==============================] - 10s 385ms/step - loss: 0.2883 - mse: 0.0673 - mae: 0.2388 - accuracy: 0.9750 - recall: 0.9800 - precision: 0.9703\n",
            "Epoch 42/250\n",
            "25/25 [==============================] - 10s 385ms/step - loss: 0.2819 - mse: 0.0651 - mae: 0.2340 - accuracy: 0.9756 - recall: 0.9812 - precision: 0.9703\n",
            "Epoch 43/250\n",
            "25/25 [==============================] - 10s 386ms/step - loss: 0.2771 - mse: 0.0635 - mae: 0.2300 - accuracy: 0.9756 - recall: 0.9812 - precision: 0.9703\n",
            "Epoch 44/250\n",
            "25/25 [==============================] - 10s 385ms/step - loss: 0.2728 - mse: 0.0621 - mae: 0.2261 - accuracy: 0.9750 - recall: 0.9800 - precision: 0.9703\n",
            "Epoch 45/250\n",
            "25/25 [==============================] - 10s 386ms/step - loss: 0.2666 - mse: 0.0600 - mae: 0.2214 - accuracy: 0.9762 - recall: 0.9812 - precision: 0.9715\n",
            "Epoch 46/250\n",
            "25/25 [==============================] - 10s 386ms/step - loss: 0.2635 - mse: 0.0591 - mae: 0.2189 - accuracy: 0.9756 - recall: 0.9812 - precision: 0.9703\n",
            "Epoch 47/250\n",
            "25/25 [==============================] - 10s 386ms/step - loss: 0.2572 - mse: 0.0569 - mae: 0.2140 - accuracy: 0.9769 - recall: 0.9825 - precision: 0.9716\n",
            "Epoch 48/250\n",
            "25/25 [==============================] - 10s 385ms/step - loss: 0.2528 - mse: 0.0555 - mae: 0.2103 - accuracy: 0.9769 - recall: 0.9825 - precision: 0.9716\n",
            "Epoch 49/250\n",
            "25/25 [==============================] - 10s 385ms/step - loss: 0.2481 - mse: 0.0540 - mae: 0.2065 - accuracy: 0.9769 - recall: 0.9825 - precision: 0.9716\n",
            "Epoch 50/250\n",
            "25/25 [==============================] - 10s 386ms/step - loss: 0.2449 - mse: 0.0531 - mae: 0.2036 - accuracy: 0.9769 - recall: 0.9825 - precision: 0.9716\n",
            "Epoch 51/250\n",
            "25/25 [==============================] - 10s 386ms/step - loss: 0.2407 - mse: 0.0518 - mae: 0.2002 - accuracy: 0.9769 - recall: 0.9825 - precision: 0.9716\n",
            "Epoch 52/250\n",
            "25/25 [==============================] - 10s 385ms/step - loss: 0.2369 - mse: 0.0507 - mae: 0.1968 - accuracy: 0.9769 - recall: 0.9825 - precision: 0.9716\n",
            "Epoch 53/250\n",
            "25/25 [==============================] - 10s 383ms/step - loss: 0.2340 - mse: 0.0498 - mae: 0.1942 - accuracy: 0.9769 - recall: 0.9825 - precision: 0.9716\n",
            "Epoch 54/250\n",
            "25/25 [==============================] - 10s 384ms/step - loss: 0.2305 - mse: 0.0488 - mae: 0.1914 - accuracy: 0.9769 - recall: 0.9825 - precision: 0.9716\n",
            "Epoch 55/250\n",
            "25/25 [==============================] - 10s 385ms/step - loss: 0.2273 - mse: 0.0479 - mae: 0.1886 - accuracy: 0.9775 - recall: 0.9825 - precision: 0.9728\n",
            "Epoch 56/250\n",
            "25/25 [==============================] - 10s 385ms/step - loss: 0.2239 - mse: 0.0469 - mae: 0.1858 - accuracy: 0.9775 - recall: 0.9825 - precision: 0.9728\n",
            "Epoch 57/250\n",
            "25/25 [==============================] - 10s 386ms/step - loss: 0.2200 - mse: 0.0457 - mae: 0.1825 - accuracy: 0.9775 - recall: 0.9825 - precision: 0.9728\n",
            "Epoch 58/250\n",
            "25/25 [==============================] - 10s 385ms/step - loss: 0.2173 - mse: 0.0449 - mae: 0.1802 - accuracy: 0.9775 - recall: 0.9825 - precision: 0.9728\n",
            "Epoch 59/250\n",
            "25/25 [==============================] - 10s 385ms/step - loss: 0.2143 - mse: 0.0441 - mae: 0.1779 - accuracy: 0.9781 - recall: 0.9825 - precision: 0.9740\n",
            "Epoch 60/250\n",
            "25/25 [==============================] - 10s 383ms/step - loss: 0.2097 - mse: 0.0426 - mae: 0.1742 - accuracy: 0.9787 - recall: 0.9837 - precision: 0.9740\n",
            "Epoch 61/250\n",
            "25/25 [==============================] - 10s 384ms/step - loss: 0.2069 - mse: 0.0418 - mae: 0.1719 - accuracy: 0.9794 - recall: 0.9850 - precision: 0.9740\n",
            "Epoch 62/250\n",
            "25/25 [==============================] - 10s 386ms/step - loss: 0.2041 - mse: 0.0411 - mae: 0.1694 - accuracy: 0.9794 - recall: 0.9850 - precision: 0.9740\n",
            "Epoch 63/250\n",
            "25/25 [==============================] - 10s 383ms/step - loss: 0.2015 - mse: 0.0404 - mae: 0.1670 - accuracy: 0.9794 - recall: 0.9850 - precision: 0.9740\n",
            "Epoch 64/250\n",
            "25/25 [==============================] - 10s 385ms/step - loss: 0.1990 - mse: 0.0398 - mae: 0.1648 - accuracy: 0.9794 - recall: 0.9850 - precision: 0.9740\n",
            "Epoch 65/250\n",
            "25/25 [==============================] - 10s 385ms/step - loss: 0.1966 - mse: 0.0391 - mae: 0.1626 - accuracy: 0.9794 - recall: 0.9850 - precision: 0.9740\n",
            "Epoch 66/250\n",
            "25/25 [==============================] - 10s 385ms/step - loss: 0.1947 - mse: 0.0387 - mae: 0.1609 - accuracy: 0.9794 - recall: 0.9850 - precision: 0.9740\n",
            "Epoch 67/250\n",
            "25/25 [==============================] - 10s 386ms/step - loss: 0.1918 - mse: 0.0379 - mae: 0.1583 - accuracy: 0.9794 - recall: 0.9850 - precision: 0.9740\n",
            "Epoch 68/250\n",
            "25/25 [==============================] - 10s 385ms/step - loss: 0.1900 - mse: 0.0375 - mae: 0.1565 - accuracy: 0.9794 - recall: 0.9850 - precision: 0.9740\n",
            "Epoch 69/250\n",
            "25/25 [==============================] - 10s 385ms/step - loss: 0.1879 - mse: 0.0370 - mae: 0.1546 - accuracy: 0.9794 - recall: 0.9850 - precision: 0.9740\n",
            "Epoch 70/250\n",
            "25/25 [==============================] - 10s 386ms/step - loss: 0.1855 - mse: 0.0364 - mae: 0.1524 - accuracy: 0.9794 - recall: 0.9850 - precision: 0.9740\n",
            "Epoch 71/250\n",
            "25/25 [==============================] - 10s 386ms/step - loss: 0.1831 - mse: 0.0358 - mae: 0.1503 - accuracy: 0.9794 - recall: 0.9850 - precision: 0.9740\n",
            "Epoch 72/250\n",
            "25/25 [==============================] - 10s 385ms/step - loss: 0.1809 - mse: 0.0352 - mae: 0.1482 - accuracy: 0.9794 - recall: 0.9850 - precision: 0.9740\n",
            "Epoch 73/250\n",
            "25/25 [==============================] - 10s 384ms/step - loss: 0.1790 - mse: 0.0348 - mae: 0.1465 - accuracy: 0.9794 - recall: 0.9850 - precision: 0.9740\n",
            "Epoch 74/250\n",
            "25/25 [==============================] - 10s 384ms/step - loss: 0.1771 - mse: 0.0344 - mae: 0.1447 - accuracy: 0.9794 - recall: 0.9850 - precision: 0.9740\n",
            "Epoch 75/250\n",
            "25/25 [==============================] - 10s 384ms/step - loss: 0.1753 - mse: 0.0339 - mae: 0.1431 - accuracy: 0.9794 - recall: 0.9850 - precision: 0.9740\n",
            "Epoch 76/250\n",
            "25/25 [==============================] - 10s 385ms/step - loss: 0.1734 - mse: 0.0335 - mae: 0.1413 - accuracy: 0.9794 - recall: 0.9850 - precision: 0.9740\n",
            "Epoch 77/250\n",
            "25/25 [==============================] - 10s 386ms/step - loss: 0.1718 - mse: 0.0331 - mae: 0.1398 - accuracy: 0.9794 - recall: 0.9850 - precision: 0.9740\n",
            "Epoch 78/250\n",
            "25/25 [==============================] - 10s 386ms/step - loss: 0.1693 - mse: 0.0324 - mae: 0.1378 - accuracy: 0.9800 - recall: 0.9850 - precision: 0.9752\n",
            "Epoch 79/250\n",
            "25/25 [==============================] - 10s 386ms/step - loss: 0.1677 - mse: 0.0320 - mae: 0.1365 - accuracy: 0.9806 - recall: 0.9850 - precision: 0.9765\n",
            "Epoch 80/250\n",
            "25/25 [==============================] - 10s 386ms/step - loss: 0.1652 - mse: 0.0314 - mae: 0.1346 - accuracy: 0.9806 - recall: 0.9850 - precision: 0.9765\n",
            "Epoch 81/250\n",
            "25/25 [==============================] - 10s 386ms/step - loss: 0.1634 - mse: 0.0310 - mae: 0.1329 - accuracy: 0.9806 - recall: 0.9850 - precision: 0.9765\n",
            "Epoch 82/250\n",
            "25/25 [==============================] - 10s 386ms/step - loss: 0.1618 - mse: 0.0306 - mae: 0.1314 - accuracy: 0.9806 - recall: 0.9850 - precision: 0.9765\n",
            "Epoch 83/250\n",
            "25/25 [==============================] - 10s 385ms/step - loss: 0.1600 - mse: 0.0302 - mae: 0.1297 - accuracy: 0.9806 - recall: 0.9850 - precision: 0.9765\n",
            "Epoch 84/250\n",
            "25/25 [==============================] - 10s 385ms/step - loss: 0.1583 - mse: 0.0298 - mae: 0.1282 - accuracy: 0.9806 - recall: 0.9850 - precision: 0.9765\n",
            "Epoch 85/250\n",
            "25/25 [==============================] - 10s 385ms/step - loss: 0.1566 - mse: 0.0294 - mae: 0.1271 - accuracy: 0.9806 - recall: 0.9862 - precision: 0.9753\n",
            "Epoch 86/250\n",
            "25/25 [==============================] - 10s 386ms/step - loss: 0.1549 - mse: 0.0291 - mae: 0.1258 - accuracy: 0.9812 - recall: 0.9862 - precision: 0.9765\n",
            "Epoch 87/250\n",
            "25/25 [==============================] - 10s 382ms/step - loss: 0.1552 - mse: 0.0291 - mae: 0.1265 - accuracy: 0.9819 - recall: 0.9875 - precision: 0.9765\n",
            "Epoch 88/250\n",
            "25/25 [==============================] - 10s 385ms/step - loss: 0.1514 - mse: 0.0280 - mae: 0.1235 - accuracy: 0.9819 - recall: 0.9875 - precision: 0.9765\n",
            "Epoch 89/250\n",
            "25/25 [==============================] - 10s 386ms/step - loss: 0.1476 - mse: 0.0270 - mae: 0.1204 - accuracy: 0.9825 - recall: 0.9887 - precision: 0.9765\n",
            "Epoch 90/250\n",
            "25/25 [==============================] - 10s 384ms/step - loss: 0.1462 - mse: 0.0267 - mae: 0.1193 - accuracy: 0.9825 - recall: 0.9887 - precision: 0.9765\n",
            "Epoch 91/250\n",
            "25/25 [==============================] - 10s 385ms/step - loss: 0.1453 - mse: 0.0266 - mae: 0.1185 - accuracy: 0.9819 - recall: 0.9875 - precision: 0.9765\n",
            "Epoch 92/250\n",
            "25/25 [==============================] - 10s 384ms/step - loss: 0.1416 - mse: 0.0255 - mae: 0.1156 - accuracy: 0.9837 - recall: 0.9900 - precision: 0.9778\n",
            "Epoch 93/250\n",
            "25/25 [==============================] - 10s 385ms/step - loss: 0.1409 - mse: 0.0254 - mae: 0.1146 - accuracy: 0.9831 - recall: 0.9887 - precision: 0.9778\n",
            "Epoch 94/250\n",
            "25/25 [==============================] - 10s 386ms/step - loss: 0.1386 - mse: 0.0248 - mae: 0.1128 - accuracy: 0.9837 - recall: 0.9900 - precision: 0.9778\n",
            "Epoch 95/250\n",
            "25/25 [==============================] - 10s 384ms/step - loss: 0.1375 - mse: 0.0246 - mae: 0.1117 - accuracy: 0.9837 - recall: 0.9900 - precision: 0.9778\n",
            "Epoch 96/250\n",
            "25/25 [==============================] - 10s 384ms/step - loss: 0.1359 - mse: 0.0243 - mae: 0.1102 - accuracy: 0.9837 - recall: 0.9900 - precision: 0.9778\n",
            "Epoch 97/250\n",
            "25/25 [==============================] - 10s 385ms/step - loss: 0.1347 - mse: 0.0241 - mae: 0.1095 - accuracy: 0.9837 - recall: 0.9900 - precision: 0.9778\n",
            "Epoch 98/250\n",
            "25/25 [==============================] - 10s 386ms/step - loss: 0.1318 - mse: 0.0232 - mae: 0.1077 - accuracy: 0.9844 - recall: 0.9912 - precision: 0.9778\n",
            "Epoch 99/250\n",
            "25/25 [==============================] - 10s 385ms/step - loss: 0.1302 - mse: 0.0229 - mae: 0.1062 - accuracy: 0.9844 - recall: 0.9912 - precision: 0.9778\n",
            "Epoch 100/250\n",
            "25/25 [==============================] - 10s 386ms/step - loss: 0.1290 - mse: 0.0226 - mae: 0.1051 - accuracy: 0.9844 - recall: 0.9912 - precision: 0.9778\n",
            "Epoch 101/250\n",
            "25/25 [==============================] - 10s 385ms/step - loss: 0.1278 - mse: 0.0225 - mae: 0.1039 - accuracy: 0.9844 - recall: 0.9912 - precision: 0.9778\n",
            "Epoch 102/250\n",
            "25/25 [==============================] - 10s 386ms/step - loss: 0.1266 - mse: 0.0222 - mae: 0.1028 - accuracy: 0.9844 - recall: 0.9912 - precision: 0.9778\n",
            "Epoch 103/250\n",
            "25/25 [==============================] - 10s 386ms/step - loss: 0.1255 - mse: 0.0220 - mae: 0.1017 - accuracy: 0.9844 - recall: 0.9912 - precision: 0.9778\n",
            "Epoch 104/250\n",
            "25/25 [==============================] - 10s 385ms/step - loss: 0.1244 - mse: 0.0218 - mae: 0.1007 - accuracy: 0.9844 - recall: 0.9912 - precision: 0.9778\n",
            "Epoch 105/250\n",
            "25/25 [==============================] - 10s 385ms/step - loss: 0.1234 - mse: 0.0217 - mae: 0.0997 - accuracy: 0.9844 - recall: 0.9912 - precision: 0.9778\n",
            "Epoch 106/250\n",
            "25/25 [==============================] - 10s 386ms/step - loss: 0.1224 - mse: 0.0215 - mae: 0.0987 - accuracy: 0.9844 - recall: 0.9912 - precision: 0.9778\n",
            "Epoch 107/250\n",
            "25/25 [==============================] - 10s 385ms/step - loss: 0.1215 - mse: 0.0213 - mae: 0.0977 - accuracy: 0.9844 - recall: 0.9912 - precision: 0.9778\n",
            "Epoch 108/250\n",
            "25/25 [==============================] - 10s 386ms/step - loss: 0.1206 - mse: 0.0212 - mae: 0.0968 - accuracy: 0.9844 - recall: 0.9912 - precision: 0.9778\n",
            "Epoch 109/250\n",
            "25/25 [==============================] - 10s 385ms/step - loss: 0.1196 - mse: 0.0210 - mae: 0.0959 - accuracy: 0.9844 - recall: 0.9912 - precision: 0.9778\n",
            "Epoch 110/250\n",
            "25/25 [==============================] - 10s 386ms/step - loss: 0.1187 - mse: 0.0209 - mae: 0.0950 - accuracy: 0.9844 - recall: 0.9912 - precision: 0.9778\n",
            "Epoch 111/250\n",
            "25/25 [==============================] - 10s 385ms/step - loss: 0.1178 - mse: 0.0207 - mae: 0.0941 - accuracy: 0.9844 - recall: 0.9912 - precision: 0.9778\n",
            "Epoch 112/250\n",
            "25/25 [==============================] - 10s 386ms/step - loss: 0.1170 - mse: 0.0206 - mae: 0.0932 - accuracy: 0.9844 - recall: 0.9912 - precision: 0.9778\n",
            "Epoch 113/250\n",
            "25/25 [==============================] - 10s 385ms/step - loss: 0.1161 - mse: 0.0204 - mae: 0.0924 - accuracy: 0.9844 - recall: 0.9912 - precision: 0.9778\n",
            "Epoch 114/250\n",
            "25/25 [==============================] - 10s 385ms/step - loss: 0.1153 - mse: 0.0203 - mae: 0.0916 - accuracy: 0.9844 - recall: 0.9912 - precision: 0.9778\n",
            "Epoch 115/250\n",
            "25/25 [==============================] - 10s 386ms/step - loss: 0.1145 - mse: 0.0202 - mae: 0.0908 - accuracy: 0.9844 - recall: 0.9912 - precision: 0.9778\n",
            "Epoch 116/250\n",
            "25/25 [==============================] - 10s 385ms/step - loss: 0.1137 - mse: 0.0201 - mae: 0.0900 - accuracy: 0.9844 - recall: 0.9912 - precision: 0.9778\n",
            "Epoch 117/250\n",
            "25/25 [==============================] - 10s 386ms/step - loss: 0.1130 - mse: 0.0199 - mae: 0.0892 - accuracy: 0.9844 - recall: 0.9912 - precision: 0.9778\n",
            "Epoch 118/250\n",
            "25/25 [==============================] - 10s 385ms/step - loss: 0.1122 - mse: 0.0198 - mae: 0.0884 - accuracy: 0.9844 - recall: 0.9912 - precision: 0.9778\n",
            "Epoch 119/250\n",
            "25/25 [==============================] - 10s 385ms/step - loss: 0.1115 - mse: 0.0197 - mae: 0.0877 - accuracy: 0.9844 - recall: 0.9912 - precision: 0.9778\n",
            "Epoch 120/250\n",
            "25/25 [==============================] - 10s 384ms/step - loss: 0.1107 - mse: 0.0196 - mae: 0.0869 - accuracy: 0.9844 - recall: 0.9912 - precision: 0.9778\n",
            "Epoch 121/250\n",
            "25/25 [==============================] - 10s 384ms/step - loss: 0.1100 - mse: 0.0195 - mae: 0.0861 - accuracy: 0.9844 - recall: 0.9912 - precision: 0.9778\n",
            "Epoch 122/250\n",
            "25/25 [==============================] - 10s 385ms/step - loss: 0.1092 - mse: 0.0193 - mae: 0.0854 - accuracy: 0.9844 - recall: 0.9912 - precision: 0.9778\n",
            "Epoch 123/250\n",
            "25/25 [==============================] - 10s 385ms/step - loss: 0.1085 - mse: 0.0192 - mae: 0.0846 - accuracy: 0.9844 - recall: 0.9912 - precision: 0.9778\n",
            "Epoch 124/250\n",
            "25/25 [==============================] - 10s 386ms/step - loss: 0.1078 - mse: 0.0191 - mae: 0.0839 - accuracy: 0.9844 - recall: 0.9912 - precision: 0.9778\n",
            "Epoch 125/250\n",
            "25/25 [==============================] - 10s 385ms/step - loss: 0.1072 - mse: 0.0190 - mae: 0.0833 - accuracy: 0.9844 - recall: 0.9912 - precision: 0.9778\n",
            "Epoch 126/250\n",
            "25/25 [==============================] - 10s 385ms/step - loss: 0.1066 - mse: 0.0189 - mae: 0.0826 - accuracy: 0.9844 - recall: 0.9912 - precision: 0.9778\n",
            "Epoch 127/250\n",
            "25/25 [==============================] - 10s 386ms/step - loss: 0.1059 - mse: 0.0188 - mae: 0.0819 - accuracy: 0.9844 - recall: 0.9912 - precision: 0.9778\n",
            "Epoch 128/250\n",
            "25/25 [==============================] - 10s 385ms/step - loss: 0.1052 - mse: 0.0187 - mae: 0.0812 - accuracy: 0.9844 - recall: 0.9912 - precision: 0.9778\n",
            "Epoch 129/250\n",
            "25/25 [==============================] - 10s 386ms/step - loss: 0.1046 - mse: 0.0186 - mae: 0.0806 - accuracy: 0.9844 - recall: 0.9912 - precision: 0.9778\n",
            "Epoch 130/250\n",
            "25/25 [==============================] - 10s 385ms/step - loss: 0.1040 - mse: 0.0186 - mae: 0.0799 - accuracy: 0.9844 - recall: 0.9912 - precision: 0.9778\n",
            "Epoch 131/250\n",
            "25/25 [==============================] - 10s 386ms/step - loss: 0.1034 - mse: 0.0185 - mae: 0.0793 - accuracy: 0.9844 - recall: 0.9912 - precision: 0.9778\n",
            "Epoch 132/250\n",
            "25/25 [==============================] - 10s 385ms/step - loss: 0.1028 - mse: 0.0184 - mae: 0.0787 - accuracy: 0.9844 - recall: 0.9912 - precision: 0.9778\n",
            "Epoch 133/250\n",
            "25/25 [==============================] - 10s 385ms/step - loss: 0.1022 - mse: 0.0183 - mae: 0.0780 - accuracy: 0.9844 - recall: 0.9912 - precision: 0.9778\n",
            "Epoch 134/250\n",
            "25/25 [==============================] - 10s 386ms/step - loss: 0.1016 - mse: 0.0182 - mae: 0.0774 - accuracy: 0.9844 - recall: 0.9912 - precision: 0.9778\n",
            "Epoch 135/250\n",
            "25/25 [==============================] - 10s 386ms/step - loss: 0.1010 - mse: 0.0181 - mae: 0.0768 - accuracy: 0.9844 - recall: 0.9912 - precision: 0.9778\n",
            "Epoch 136/250\n",
            "25/25 [==============================] - 10s 385ms/step - loss: 0.1005 - mse: 0.0180 - mae: 0.0768 - accuracy: 0.9844 - recall: 0.9912 - precision: 0.9778\n",
            "Epoch 137/250\n",
            "25/25 [==============================] - 10s 385ms/step - loss: 0.0989 - mse: 0.0178 - mae: 0.0756 - accuracy: 0.9844 - recall: 0.9912 - precision: 0.9778\n",
            "Epoch 138/250\n",
            "25/25 [==============================] - 10s 385ms/step - loss: 0.0982 - mse: 0.0176 - mae: 0.0750 - accuracy: 0.9844 - recall: 0.9912 - precision: 0.9778\n",
            "Epoch 139/250\n",
            "25/25 [==============================] - 10s 385ms/step - loss: 0.0977 - mse: 0.0176 - mae: 0.0744 - accuracy: 0.9844 - recall: 0.9912 - precision: 0.9778\n",
            "Epoch 140/250\n",
            "25/25 [==============================] - 10s 385ms/step - loss: 0.0971 - mse: 0.0175 - mae: 0.0738 - accuracy: 0.9844 - recall: 0.9912 - precision: 0.9778\n",
            "Epoch 141/250\n",
            "25/25 [==============================] - 10s 386ms/step - loss: 0.0966 - mse: 0.0174 - mae: 0.0732 - accuracy: 0.9844 - recall: 0.9912 - precision: 0.9778\n",
            "Epoch 142/250\n",
            "25/25 [==============================] - 10s 386ms/step - loss: 0.0960 - mse: 0.0173 - mae: 0.0727 - accuracy: 0.9844 - recall: 0.9912 - precision: 0.9778\n",
            "Epoch 143/250\n",
            "25/25 [==============================] - 10s 385ms/step - loss: 0.0955 - mse: 0.0173 - mae: 0.0721 - accuracy: 0.9844 - recall: 0.9912 - precision: 0.9778\n",
            "Epoch 144/250\n",
            "25/25 [==============================] - 10s 386ms/step - loss: 0.0950 - mse: 0.0172 - mae: 0.0716 - accuracy: 0.9844 - recall: 0.9912 - precision: 0.9778\n",
            "Epoch 145/250\n",
            "25/25 [==============================] - 10s 386ms/step - loss: 0.0945 - mse: 0.0171 - mae: 0.0710 - accuracy: 0.9844 - recall: 0.9912 - precision: 0.9778\n",
            "Epoch 146/250\n",
            "25/25 [==============================] - 10s 385ms/step - loss: 0.0940 - mse: 0.0170 - mae: 0.0705 - accuracy: 0.9844 - recall: 0.9912 - precision: 0.9778\n",
            "Epoch 147/250\n",
            "25/25 [==============================] - 10s 386ms/step - loss: 0.0935 - mse: 0.0170 - mae: 0.0699 - accuracy: 0.9844 - recall: 0.9912 - precision: 0.9778\n",
            "Epoch 148/250\n",
            "25/25 [==============================] - 10s 386ms/step - loss: 0.0930 - mse: 0.0169 - mae: 0.0694 - accuracy: 0.9844 - recall: 0.9912 - precision: 0.9778\n",
            "Epoch 149/250\n",
            "25/25 [==============================] - 10s 384ms/step - loss: 0.0925 - mse: 0.0168 - mae: 0.0689 - accuracy: 0.9844 - recall: 0.9912 - precision: 0.9778\n",
            "Epoch 150/250\n",
            "25/25 [==============================] - 10s 385ms/step - loss: 0.0921 - mse: 0.0168 - mae: 0.0684 - accuracy: 0.9844 - recall: 0.9912 - precision: 0.9778\n",
            "Epoch 151/250\n",
            "25/25 [==============================] - 10s 385ms/step - loss: 0.0916 - mse: 0.0167 - mae: 0.0679 - accuracy: 0.9844 - recall: 0.9912 - precision: 0.9778\n",
            "Epoch 152/250\n",
            "25/25 [==============================] - 10s 384ms/step - loss: 0.0911 - mse: 0.0167 - mae: 0.0674 - accuracy: 0.9844 - recall: 0.9912 - precision: 0.9778\n",
            "Epoch 153/250\n",
            "25/25 [==============================] - 10s 385ms/step - loss: 0.0907 - mse: 0.0166 - mae: 0.0670 - accuracy: 0.9844 - recall: 0.9912 - precision: 0.9778\n",
            "Epoch 154/250\n",
            "25/25 [==============================] - 10s 386ms/step - loss: 0.0903 - mse: 0.0166 - mae: 0.0665 - accuracy: 0.9844 - recall: 0.9912 - precision: 0.9778\n",
            "Epoch 155/250\n",
            "25/25 [==============================] - 10s 385ms/step - loss: 0.0898 - mse: 0.0165 - mae: 0.0660 - accuracy: 0.9844 - recall: 0.9912 - precision: 0.9778\n",
            "Epoch 156/250\n",
            "25/25 [==============================] - 10s 386ms/step - loss: 0.0893 - mse: 0.0164 - mae: 0.0655 - accuracy: 0.9844 - recall: 0.9912 - precision: 0.9778\n",
            "Epoch 157/250\n",
            "25/25 [==============================] - 10s 386ms/step - loss: 0.0889 - mse: 0.0164 - mae: 0.0650 - accuracy: 0.9844 - recall: 0.9912 - precision: 0.9778\n",
            "Epoch 158/250\n",
            "25/25 [==============================] - 10s 385ms/step - loss: 0.0885 - mse: 0.0163 - mae: 0.0646 - accuracy: 0.9844 - recall: 0.9912 - precision: 0.9778\n",
            "Epoch 159/250\n",
            "25/25 [==============================] - 10s 385ms/step - loss: 0.0881 - mse: 0.0163 - mae: 0.0642 - accuracy: 0.9844 - recall: 0.9912 - precision: 0.9778\n",
            "Epoch 160/250\n",
            "25/25 [==============================] - 10s 386ms/step - loss: 0.0877 - mse: 0.0162 - mae: 0.0638 - accuracy: 0.9844 - recall: 0.9912 - precision: 0.9778\n",
            "Epoch 161/250\n",
            "25/25 [==============================] - 10s 385ms/step - loss: 0.0905 - mse: 0.0170 - mae: 0.0663 - accuracy: 0.9837 - recall: 0.9900 - precision: 0.9778\n",
            "Epoch 162/250\n",
            "25/25 [==============================] - 10s 385ms/step - loss: 0.0875 - mse: 0.0161 - mae: 0.0645 - accuracy: 0.9850 - recall: 0.9925 - precision: 0.9778\n",
            "Epoch 163/250\n",
            "25/25 [==============================] - 10s 385ms/step - loss: 0.0849 - mse: 0.0155 - mae: 0.0622 - accuracy: 0.9850 - recall: 0.9925 - precision: 0.9778\n",
            "Epoch 164/250\n",
            "25/25 [==============================] - 10s 386ms/step - loss: 0.0843 - mse: 0.0155 - mae: 0.0616 - accuracy: 0.9850 - recall: 0.9925 - precision: 0.9778\n",
            "Epoch 165/250\n",
            "25/25 [==============================] - 10s 386ms/step - loss: 0.0839 - mse: 0.0154 - mae: 0.0611 - accuracy: 0.9850 - recall: 0.9925 - precision: 0.9778\n",
            "Epoch 166/250\n",
            "25/25 [==============================] - 10s 385ms/step - loss: 0.0835 - mse: 0.0154 - mae: 0.0607 - accuracy: 0.9850 - recall: 0.9925 - precision: 0.9778\n",
            "Epoch 167/250\n",
            "25/25 [==============================] - 10s 384ms/step - loss: 0.0831 - mse: 0.0153 - mae: 0.0603 - accuracy: 0.9850 - recall: 0.9925 - precision: 0.9778\n",
            "Epoch 168/250\n",
            "25/25 [==============================] - 10s 384ms/step - loss: 0.0828 - mse: 0.0153 - mae: 0.0599 - accuracy: 0.9850 - recall: 0.9925 - precision: 0.9778\n",
            "Epoch 169/250\n",
            "25/25 [==============================] - 10s 385ms/step - loss: 0.0824 - mse: 0.0152 - mae: 0.0595 - accuracy: 0.9850 - recall: 0.9925 - precision: 0.9778\n",
            "Epoch 170/250\n",
            "25/25 [==============================] - 10s 384ms/step - loss: 0.0821 - mse: 0.0152 - mae: 0.0591 - accuracy: 0.9850 - recall: 0.9925 - precision: 0.9778\n",
            "Epoch 171/250\n",
            "25/25 [==============================] - 10s 386ms/step - loss: 0.0818 - mse: 0.0152 - mae: 0.0587 - accuracy: 0.9850 - recall: 0.9925 - precision: 0.9778\n",
            "Epoch 172/250\n",
            "25/25 [==============================] - 10s 385ms/step - loss: 0.0813 - mse: 0.0151 - mae: 0.0583 - accuracy: 0.9850 - recall: 0.9925 - precision: 0.9778\n",
            "Epoch 173/250\n",
            "25/25 [==============================] - 10s 384ms/step - loss: 0.0810 - mse: 0.0151 - mae: 0.0580 - accuracy: 0.9850 - recall: 0.9925 - precision: 0.9778\n",
            "Epoch 174/250\n",
            "25/25 [==============================] - 10s 386ms/step - loss: 0.0807 - mse: 0.0150 - mae: 0.0576 - accuracy: 0.9850 - recall: 0.9925 - precision: 0.9778\n",
            "Epoch 175/250\n",
            "25/25 [==============================] - 10s 386ms/step - loss: 0.0804 - mse: 0.0150 - mae: 0.0572 - accuracy: 0.9850 - recall: 0.9925 - precision: 0.9778\n",
            "Epoch 176/250\n",
            "25/25 [==============================] - 10s 386ms/step - loss: 0.0801 - mse: 0.0149 - mae: 0.0569 - accuracy: 0.9850 - recall: 0.9925 - precision: 0.9778\n",
            "Epoch 177/250\n",
            "25/25 [==============================] - 10s 385ms/step - loss: 0.0798 - mse: 0.0149 - mae: 0.0565 - accuracy: 0.9850 - recall: 0.9925 - precision: 0.9778\n",
            "Epoch 178/250\n",
            "25/25 [==============================] - 10s 385ms/step - loss: 0.0795 - mse: 0.0149 - mae: 0.0562 - accuracy: 0.9850 - recall: 0.9925 - precision: 0.9778\n",
            "Epoch 179/250\n",
            "25/25 [==============================] - 10s 385ms/step - loss: 0.0792 - mse: 0.0148 - mae: 0.0559 - accuracy: 0.9850 - recall: 0.9925 - precision: 0.9778\n",
            "Epoch 180/250\n",
            "25/25 [==============================] - 10s 386ms/step - loss: 0.0789 - mse: 0.0148 - mae: 0.0555 - accuracy: 0.9850 - recall: 0.9925 - precision: 0.9778\n",
            "Epoch 181/250\n",
            "25/25 [==============================] - 10s 386ms/step - loss: 0.0786 - mse: 0.0148 - mae: 0.0552 - accuracy: 0.9850 - recall: 0.9925 - precision: 0.9778\n",
            "Epoch 182/250\n",
            "25/25 [==============================] - 10s 385ms/step - loss: 0.0783 - mse: 0.0147 - mae: 0.0549 - accuracy: 0.9850 - recall: 0.9925 - precision: 0.9778\n",
            "Epoch 183/250\n",
            "25/25 [==============================] - 10s 385ms/step - loss: 0.0780 - mse: 0.0147 - mae: 0.0545 - accuracy: 0.9850 - recall: 0.9925 - precision: 0.9778\n",
            "Epoch 184/250\n",
            "25/25 [==============================] - 10s 385ms/step - loss: 0.0777 - mse: 0.0147 - mae: 0.0542 - accuracy: 0.9850 - recall: 0.9925 - precision: 0.9778\n",
            "Epoch 185/250\n",
            "25/25 [==============================] - 10s 386ms/step - loss: 0.0774 - mse: 0.0146 - mae: 0.0539 - accuracy: 0.9850 - recall: 0.9925 - precision: 0.9778\n",
            "Epoch 186/250\n",
            "25/25 [==============================] - 10s 386ms/step - loss: 0.0771 - mse: 0.0146 - mae: 0.0535 - accuracy: 0.9850 - recall: 0.9925 - precision: 0.9778\n",
            "Epoch 187/250\n",
            "25/25 [==============================] - 10s 386ms/step - loss: 0.0769 - mse: 0.0146 - mae: 0.0532 - accuracy: 0.9850 - recall: 0.9925 - precision: 0.9778\n",
            "Epoch 188/250\n",
            "25/25 [==============================] - 10s 385ms/step - loss: 0.0766 - mse: 0.0145 - mae: 0.0529 - accuracy: 0.9850 - recall: 0.9925 - precision: 0.9778\n",
            "Epoch 189/250\n",
            "25/25 [==============================] - 10s 386ms/step - loss: 0.0762 - mse: 0.0145 - mae: 0.0525 - accuracy: 0.9850 - recall: 0.9925 - precision: 0.9778\n",
            "Epoch 190/250\n",
            "25/25 [==============================] - 10s 385ms/step - loss: 0.0759 - mse: 0.0144 - mae: 0.0522 - accuracy: 0.9850 - recall: 0.9925 - precision: 0.9778\n",
            "Epoch 191/250\n",
            "25/25 [==============================] - 10s 385ms/step - loss: 0.0757 - mse: 0.0144 - mae: 0.0519 - accuracy: 0.9850 - recall: 0.9925 - precision: 0.9778\n",
            "Epoch 192/250\n",
            "25/25 [==============================] - 10s 385ms/step - loss: 0.0755 - mse: 0.0144 - mae: 0.0516 - accuracy: 0.9850 - recall: 0.9925 - precision: 0.9778\n",
            "Epoch 193/250\n",
            "25/25 [==============================] - 10s 384ms/step - loss: 0.0752 - mse: 0.0144 - mae: 0.0513 - accuracy: 0.9850 - recall: 0.9925 - precision: 0.9778\n",
            "Epoch 194/250\n",
            "25/25 [==============================] - 10s 384ms/step - loss: 0.0749 - mse: 0.0143 - mae: 0.0510 - accuracy: 0.9850 - recall: 0.9925 - precision: 0.9778\n",
            "Epoch 195/250\n",
            "25/25 [==============================] - 10s 384ms/step - loss: 0.0747 - mse: 0.0143 - mae: 0.0508 - accuracy: 0.9850 - recall: 0.9925 - precision: 0.9778\n",
            "Epoch 196/250\n",
            "25/25 [==============================] - 10s 386ms/step - loss: 0.0745 - mse: 0.0143 - mae: 0.0505 - accuracy: 0.9850 - recall: 0.9925 - precision: 0.9778\n",
            "Epoch 197/250\n",
            "25/25 [==============================] - 10s 385ms/step - loss: 0.0742 - mse: 0.0142 - mae: 0.0502 - accuracy: 0.9850 - recall: 0.9925 - precision: 0.9778\n",
            "Epoch 198/250\n",
            "25/25 [==============================] - 10s 386ms/step - loss: 0.0740 - mse: 0.0142 - mae: 0.0499 - accuracy: 0.9850 - recall: 0.9925 - precision: 0.9778\n",
            "Epoch 199/250\n",
            "25/25 [==============================] - 10s 386ms/step - loss: 0.0738 - mse: 0.0142 - mae: 0.0497 - accuracy: 0.9850 - recall: 0.9925 - precision: 0.9778\n",
            "Epoch 200/250\n",
            "25/25 [==============================] - 10s 385ms/step - loss: 0.0736 - mse: 0.0142 - mae: 0.0494 - accuracy: 0.9850 - recall: 0.9925 - precision: 0.9778\n",
            "Epoch 201/250\n",
            "25/25 [==============================] - 10s 385ms/step - loss: 0.0733 - mse: 0.0141 - mae: 0.0492 - accuracy: 0.9850 - recall: 0.9925 - precision: 0.9778\n",
            "Epoch 202/250\n",
            "25/25 [==============================] - 10s 385ms/step - loss: 0.0731 - mse: 0.0141 - mae: 0.0489 - accuracy: 0.9850 - recall: 0.9925 - precision: 0.9778\n",
            "Epoch 203/250\n",
            "25/25 [==============================] - 10s 385ms/step - loss: 0.0743 - mse: 0.0145 - mae: 0.0494 - accuracy: 0.9850 - recall: 0.9925 - precision: 0.9778\n",
            "Epoch 204/250\n",
            "25/25 [==============================] - 10s 386ms/step - loss: 0.0799 - mse: 0.0158 - mae: 0.0544 - accuracy: 0.9837 - recall: 0.9900 - precision: 0.9778\n",
            "Epoch 205/250\n",
            "25/25 [==============================] - 10s 385ms/step - loss: 0.0759 - mse: 0.0150 - mae: 0.0506 - accuracy: 0.9837 - recall: 0.9900 - precision: 0.9778\n",
            "Epoch 206/250\n",
            "25/25 [==============================] - 10s 386ms/step - loss: 0.0725 - mse: 0.0139 - mae: 0.0483 - accuracy: 0.9856 - recall: 0.9925 - precision: 0.9790\n",
            "Epoch 207/250\n",
            "25/25 [==============================] - 10s 386ms/step - loss: 0.0716 - mse: 0.0137 - mae: 0.0475 - accuracy: 0.9856 - recall: 0.9925 - precision: 0.9790\n",
            "Epoch 208/250\n",
            "25/25 [==============================] - 10s 386ms/step - loss: 0.0713 - mse: 0.0137 - mae: 0.0471 - accuracy: 0.9856 - recall: 0.9925 - precision: 0.9790\n",
            "Epoch 209/250\n",
            "25/25 [==============================] - 10s 385ms/step - loss: 0.0711 - mse: 0.0137 - mae: 0.0468 - accuracy: 0.9856 - recall: 0.9925 - precision: 0.9790\n",
            "Epoch 210/250\n",
            "25/25 [==============================] - 10s 385ms/step - loss: 0.0709 - mse: 0.0137 - mae: 0.0466 - accuracy: 0.9856 - recall: 0.9925 - precision: 0.9790\n",
            "Epoch 211/250\n",
            "25/25 [==============================] - 10s 385ms/step - loss: 0.0707 - mse: 0.0136 - mae: 0.0463 - accuracy: 0.9856 - recall: 0.9925 - precision: 0.9790\n",
            "Epoch 212/250\n",
            "25/25 [==============================] - 10s 386ms/step - loss: 0.0705 - mse: 0.0136 - mae: 0.0461 - accuracy: 0.9856 - recall: 0.9925 - precision: 0.9790\n",
            "Epoch 213/250\n",
            "25/25 [==============================] - 10s 385ms/step - loss: 0.0703 - mse: 0.0136 - mae: 0.0459 - accuracy: 0.9856 - recall: 0.9925 - precision: 0.9790\n",
            "Epoch 214/250\n",
            "25/25 [==============================] - 10s 386ms/step - loss: 0.0701 - mse: 0.0136 - mae: 0.0456 - accuracy: 0.9856 - recall: 0.9925 - precision: 0.9790\n",
            "Epoch 215/250\n",
            "25/25 [==============================] - 10s 386ms/step - loss: 0.0700 - mse: 0.0136 - mae: 0.0454 - accuracy: 0.9856 - recall: 0.9925 - precision: 0.9790\n",
            "Epoch 216/250\n",
            "25/25 [==============================] - 10s 385ms/step - loss: 0.0698 - mse: 0.0135 - mae: 0.0452 - accuracy: 0.9856 - recall: 0.9925 - precision: 0.9790\n",
            "Epoch 217/250\n",
            "25/25 [==============================] - 10s 385ms/step - loss: 0.0696 - mse: 0.0135 - mae: 0.0450 - accuracy: 0.9856 - recall: 0.9925 - precision: 0.9790\n",
            "Epoch 218/250\n",
            "25/25 [==============================] - 10s 386ms/step - loss: 0.0694 - mse: 0.0135 - mae: 0.0448 - accuracy: 0.9856 - recall: 0.9925 - precision: 0.9790\n",
            "Epoch 219/250\n",
            "25/25 [==============================] - 10s 386ms/step - loss: 0.0693 - mse: 0.0135 - mae: 0.0446 - accuracy: 0.9856 - recall: 0.9925 - precision: 0.9790\n",
            "Epoch 220/250\n",
            "25/25 [==============================] - 10s 385ms/step - loss: 0.0691 - mse: 0.0135 - mae: 0.0443 - accuracy: 0.9856 - recall: 0.9925 - precision: 0.9790\n",
            "Epoch 221/250\n",
            "25/25 [==============================] - 10s 384ms/step - loss: 0.0689 - mse: 0.0134 - mae: 0.0441 - accuracy: 0.9856 - recall: 0.9925 - precision: 0.9790\n",
            "Epoch 222/250\n",
            "25/25 [==============================] - 10s 386ms/step - loss: 0.0688 - mse: 0.0134 - mae: 0.0439 - accuracy: 0.9856 - recall: 0.9925 - precision: 0.9790\n",
            "Epoch 223/250\n",
            "25/25 [==============================] - 10s 386ms/step - loss: 0.0686 - mse: 0.0134 - mae: 0.0437 - accuracy: 0.9856 - recall: 0.9925 - precision: 0.9790\n",
            "Epoch 224/250\n",
            "25/25 [==============================] - 10s 385ms/step - loss: 0.0685 - mse: 0.0134 - mae: 0.0435 - accuracy: 0.9856 - recall: 0.9925 - precision: 0.9790\n",
            "Epoch 225/250\n",
            "25/25 [==============================] - 10s 386ms/step - loss: 0.0683 - mse: 0.0134 - mae: 0.0433 - accuracy: 0.9856 - recall: 0.9925 - precision: 0.9790\n",
            "Epoch 226/250\n",
            "25/25 [==============================] - 10s 385ms/step - loss: 0.0682 - mse: 0.0134 - mae: 0.0431 - accuracy: 0.9856 - recall: 0.9925 - precision: 0.9790\n",
            "Epoch 227/250\n",
            "25/25 [==============================] - 10s 386ms/step - loss: 0.0680 - mse: 0.0134 - mae: 0.0429 - accuracy: 0.9856 - recall: 0.9925 - precision: 0.9790\n",
            "Epoch 228/250\n",
            "25/25 [==============================] - 10s 386ms/step - loss: 0.0679 - mse: 0.0133 - mae: 0.0427 - accuracy: 0.9856 - recall: 0.9925 - precision: 0.9790\n",
            "Epoch 229/250\n",
            "25/25 [==============================] - 10s 385ms/step - loss: 0.0677 - mse: 0.0133 - mae: 0.0425 - accuracy: 0.9856 - recall: 0.9925 - precision: 0.9790\n",
            "Epoch 230/250\n",
            "25/25 [==============================] - 10s 386ms/step - loss: 0.0676 - mse: 0.0133 - mae: 0.0423 - accuracy: 0.9856 - recall: 0.9925 - precision: 0.9790\n",
            "Epoch 231/250\n",
            "25/25 [==============================] - 10s 385ms/step - loss: 0.0674 - mse: 0.0133 - mae: 0.0422 - accuracy: 0.9856 - recall: 0.9925 - precision: 0.9790\n",
            "Epoch 232/250\n",
            "25/25 [==============================] - 10s 385ms/step - loss: 0.0673 - mse: 0.0133 - mae: 0.0420 - accuracy: 0.9856 - recall: 0.9925 - precision: 0.9790\n",
            "Epoch 233/250\n",
            "25/25 [==============================] - 10s 386ms/step - loss: 0.0671 - mse: 0.0133 - mae: 0.0418 - accuracy: 0.9856 - recall: 0.9925 - precision: 0.9790\n",
            "Epoch 234/250\n",
            "25/25 [==============================] - 10s 385ms/step - loss: 0.0670 - mse: 0.0132 - mae: 0.0416 - accuracy: 0.9856 - recall: 0.9925 - precision: 0.9790\n",
            "Epoch 235/250\n",
            "25/25 [==============================] - 10s 385ms/step - loss: 0.0688 - mse: 0.0138 - mae: 0.0427 - accuracy: 0.9844 - recall: 0.9912 - precision: 0.9778\n",
            "Epoch 236/250\n",
            "25/25 [==============================] - 10s 386ms/step - loss: 0.0661 - mse: 0.0129 - mae: 0.0409 - accuracy: 0.9862 - recall: 0.9925 - precision: 0.9802\n",
            "Epoch 237/250\n",
            "25/25 [==============================] - 10s 386ms/step - loss: 0.0659 - mse: 0.0129 - mae: 0.0407 - accuracy: 0.9862 - recall: 0.9925 - precision: 0.9802\n",
            "Epoch 238/250\n",
            "25/25 [==============================] - 10s 385ms/step - loss: 0.0657 - mse: 0.0129 - mae: 0.0405 - accuracy: 0.9862 - recall: 0.9925 - precision: 0.9802\n",
            "Epoch 239/250\n",
            "25/25 [==============================] - 10s 386ms/step - loss: 0.0656 - mse: 0.0129 - mae: 0.0403 - accuracy: 0.9862 - recall: 0.9925 - precision: 0.9802\n",
            "Epoch 240/250\n",
            "25/25 [==============================] - 10s 385ms/step - loss: 0.0655 - mse: 0.0128 - mae: 0.0402 - accuracy: 0.9862 - recall: 0.9925 - precision: 0.9802\n",
            "Epoch 241/250\n",
            "25/25 [==============================] - 10s 386ms/step - loss: 0.0653 - mse: 0.0128 - mae: 0.0400 - accuracy: 0.9862 - recall: 0.9925 - precision: 0.9802\n",
            "Epoch 242/250\n",
            "25/25 [==============================] - 10s 384ms/step - loss: 0.0652 - mse: 0.0128 - mae: 0.0398 - accuracy: 0.9862 - recall: 0.9925 - precision: 0.9802\n",
            "Epoch 243/250\n",
            "25/25 [==============================] - 10s 386ms/step - loss: 0.0651 - mse: 0.0128 - mae: 0.0396 - accuracy: 0.9862 - recall: 0.9925 - precision: 0.9802\n",
            "Epoch 244/250\n",
            "25/25 [==============================] - 10s 385ms/step - loss: 0.0650 - mse: 0.0128 - mae: 0.0395 - accuracy: 0.9862 - recall: 0.9925 - precision: 0.9802\n",
            "Epoch 245/250\n",
            "25/25 [==============================] - 10s 386ms/step - loss: 0.0648 - mse: 0.0128 - mae: 0.0393 - accuracy: 0.9862 - recall: 0.9925 - precision: 0.9802\n",
            "Epoch 246/250\n",
            "25/25 [==============================] - 10s 386ms/step - loss: 0.0647 - mse: 0.0128 - mae: 0.0392 - accuracy: 0.9862 - recall: 0.9925 - precision: 0.9802\n",
            "Epoch 247/250\n",
            "25/25 [==============================] - 10s 386ms/step - loss: 0.0646 - mse: 0.0128 - mae: 0.0390 - accuracy: 0.9862 - recall: 0.9925 - precision: 0.9802\n",
            "Epoch 248/250\n",
            "25/25 [==============================] - 10s 386ms/step - loss: 0.0645 - mse: 0.0127 - mae: 0.0388 - accuracy: 0.9862 - recall: 0.9925 - precision: 0.9802\n",
            "Epoch 249/250\n",
            "25/25 [==============================] - 10s 386ms/step - loss: 0.0644 - mse: 0.0127 - mae: 0.0387 - accuracy: 0.9862 - recall: 0.9925 - precision: 0.9802\n",
            "Epoch 250/250\n",
            "25/25 [==============================] - 10s 386ms/step - loss: 0.0643 - mse: 0.0127 - mae: 0.0385 - accuracy: 0.9862 - recall: 0.9925 - precision: 0.9802\n"
          ],
          "name": "stdout"
        }
      ]
    },
    {
      "cell_type": "markdown",
      "metadata": {
        "id": "-CkMlUhY7WRU",
        "colab_type": "text"
      },
      "source": [
        "##**8. Generar gráfica de: loss(pérdida) y accuracy(acierto) en cada época realizada.**"
      ]
    },
    {
      "cell_type": "code",
      "metadata": {
        "id": "PwSQTQbUoe14",
        "colab_type": "code",
        "outputId": "e93de6e3-b19e-495b-f2c5-1bc9edeb574a",
        "colab": {
          "base_uri": "https://localhost:8080/",
          "height": 377
        }
      },
      "source": [
        "import pandas as pd\n",
        "\n",
        "pd.DataFrame(history.history).plot(figsize=(8, 6))\n",
        "plt.grid(True)\n",
        "plt.gca().set_ylim(0, 1)\n",
        "plt.show()"
      ],
      "execution_count": 20,
      "outputs": [
        {
          "output_type": "display_data",
          "data": {
            "image/png": "[encoded data removed]",
            "text/plain": [
              "<Figure size 576x432 with 1 Axes>"
            ]
          },
          "metadata": {
            "tags": [],
            "needs_background": "light"
          }
        }
      ]
    },
    {
      "cell_type": "markdown",
      "metadata": {
        "id": "axoYkzoOANpI",
        "colab_type": "text"
      },
      "source": [
        "##**9. Predecir con el modelo, la clasificación de cada imagen del conjunto de Test**"
      ]
    },
    {
      "cell_type": "code",
      "metadata": {
        "id": "F2_13iEblUh6",
        "colab_type": "code",
        "colab": {}
      },
      "source": [
        "#SE EVALÚA EL MODELO\n",
        "Valores=(model.predict(XTEST))\n",
        "#Valores"
      ],
      "execution_count": 0,
      "outputs": []
    },
    {
      "cell_type": "code",
      "metadata": {
        "id": "w6t9lnP3lglW",
        "colab_type": "code",
        "outputId": "6545d459-8738-430b-f910-45954aad9ba3",
        "colab": {
          "base_uri": "https://localhost:8080/",
          "height": 34
        }
      },
      "source": [
        "#Valores_label=np.argmax(Valores, axis=1)\n",
        "#Valores_label\n",
        "Valores_label=np.around(Valores)\n",
        "Valores_label.shape"
      ],
      "execution_count": 22,
      "outputs": [
        {
          "output_type": "execute_result",
          "data": {
            "text/plain": [
              "(400, 1)"
            ]
          },
          "metadata": {
            "tags": []
          },
          "execution_count": 22
        }
      ]
    },
    {
      "cell_type": "markdown",
      "metadata": {
        "id": "EhL8DHRdDG_v",
        "colab_type": "text"
      },
      "source": [
        "##**10. Sacar métricas de evaluación, para mirar el rendimiento del modelo.**"
      ]
    },
    {
      "cell_type": "markdown",
      "metadata": {
        "id": "UCkpLdoUDSHP",
        "colab_type": "text"
      },
      "source": [
        "> **A. Matriz de confusión simple.**"
      ]
    },
    {
      "cell_type": "code",
      "metadata": {
        "id": "3sU-M00HmyWR",
        "colab_type": "code",
        "outputId": "22995d89-c34f-41c0-f3ea-abe73266e4b3",
        "colab": {
          "base_uri": "https://localhost:8080/",
          "height": 70
        }
      },
      "source": [
        "from sklearn.metrics import confusion_matrix, accuracy_score\n",
        "\n",
        "#YTEST=YTEST.reshape(len(Ytest),1)\n",
        "\n",
        "acc = accuracy_score(YTEST,Valores_label)\n",
        "print('acierto: ',acc)\n",
        "cm=confusion_matrix(YTEST,Valores_label)\n",
        "cm"
      ],
      "execution_count": 23,
      "outputs": [
        {
          "output_type": "stream",
          "text": [
            "acierto:  0.75\n"
          ],
          "name": "stdout"
        },
        {
          "output_type": "execute_result",
          "data": {
            "text/plain": [
              "array([[153,  47],\n",
              "       [ 53, 147]])"
            ]
          },
          "metadata": {
            "tags": []
          },
          "execution_count": 23
        }
      ]
    },
    {
      "cell_type": "markdown",
      "metadata": {
        "id": "rEBXCc4TDjCE",
        "colab_type": "text"
      },
      "source": [
        "\n",
        ">**B. Matriz de confusión, con porcentjes de acierto.**"
      ]
    },
    {
      "cell_type": "code",
      "metadata": {
        "id": "EejIKKgBDjlP",
        "colab_type": "code",
        "outputId": "10c65b4f-b7a0-46b6-b617-49b72662e3c8",
        "colab": {
          "base_uri": "https://localhost:8080/",
          "height": 365
        }
      },
      "source": [
        "from sklearn.utils.multiclass import unique_labels\n",
        "\n",
        "\n",
        "def plot_confusion_matrix(matrix,Ytest,Valores_label,acc,Valores2):\n",
        "    fig = plt.figure(figsize=(5,5))\n",
        "    ax = fig.add_subplot(111)\n",
        "    cmap=plt.cm.Blues\n",
        "    matrix = 100*matrix.astype('float') / cm.sum(axis=1)[:, np.newaxis]\n",
        "    cax = ax.matshow(matrix, interpolation='nearest', cmap=cmap)\n",
        "    fig.colorbar(cax)\n",
        "    classes = unique_labels(Ytest,Valores_label)\n",
        "    classes1= Valores2\n",
        "    ax.set(xticks=np.arange(matrix.shape[1]),\n",
        "           yticks=np.arange(matrix.shape[0]),\n",
        "           xticklabels=classes1, yticklabels=classes1,\n",
        "           title='ACC = %.1f %%' % (100*acc),\n",
        "           ylabel='True label',\n",
        "           xlabel='Predicted label')\n",
        "    fmt = '.1f'\n",
        "    thresh = matrix.max() / 2.\n",
        "    for i in range(matrix.shape[0]):\n",
        "        for j in range(matrix.shape[1]):\n",
        "            ax.text(j, i, format(matrix[i, j], fmt),\n",
        "                    ha=\"center\", va=\"center\",\n",
        "                    color=\"black\",fontsize=14)\n",
        "    fig.tight_layout()\n",
        "\n",
        "#Valores_label_texto=convertir_salida_texto(Valores_label)\n",
        "plot_confusion_matrix(cm,YTEST,Valores_label,acc,Valores2=[\"Perro\",\"Gato\"])\n",
        "\n"
      ],
      "execution_count": 24,
      "outputs": [
        {
          "output_type": "display_data",
          "data": {
            "image/png": "[encoded data removed]",
            "text/plain": [
              "<Figure size 360x360 with 2 Axes>"
            ]
          },
          "metadata": {
            "tags": [],
            "needs_background": "light"
          }
        }
      ]
    },
    {
      "cell_type": "markdown",
      "metadata": {
        "id": "IZk9eJ4YDwed",
        "colab_type": "text"
      },
      "source": [
        "\n",
        "> **C. Reporte de algunas métricas: Precisión, recall, F1 y Support, para el umbral de clasificación 0,5(por defecto usado por keras).**\n"
      ]
    },
    {
      "cell_type": "code",
      "metadata": {
        "id": "W88lTS1WDxsY",
        "colab_type": "code",
        "outputId": "044072b4-2379-481d-f6b9-08e9d636d2ae",
        "colab": {
          "base_uri": "https://localhost:8080/",
          "height": 176
        }
      },
      "source": [
        "from sklearn.metrics import classification_report\n",
        "\n",
        "target_names = ['Perro', 'Gato']\n",
        "cr=classification_report(YTEST, Valores_label,labels=range(len(target_names)),target_names=target_names)\n",
        "print(cr) "
      ],
      "execution_count": 25,
      "outputs": [
        {
          "output_type": "stream",
          "text": [
            "              precision    recall  f1-score   support\n",
            "\n",
            "       Perro       0.74      0.77      0.75       200\n",
            "        Gato       0.76      0.73      0.75       200\n",
            "\n",
            "    accuracy                           0.75       400\n",
            "   macro avg       0.75      0.75      0.75       400\n",
            "weighted avg       0.75      0.75      0.75       400\n",
            "\n"
          ],
          "name": "stdout"
        }
      ]
    },
    {
      "cell_type": "markdown",
      "metadata": {
        "id": "ilniZmtTD39E",
        "colab_type": "text"
      },
      "source": [
        ">**D. Curva ROC, para cada clase, variando los umbrales de decisión(Thresold) o, en este caso con la probabilidad de que pertenezca a una de las salidas.**"
      ]
    },
    {
      "cell_type": "code",
      "metadata": {
        "id": "6HRo5uaTml1w",
        "colab_type": "code",
        "outputId": "0139a6bf-2c07-4e7d-c263-d79b59a7cdf7",
        "colab": {
          "base_uri": "https://localhost:8080/",
          "height": 404
        }
      },
      "source": [
        "from sklearn.preprocessing import label_binarize\n",
        "from sklearn.metrics import roc_curve, auc\n",
        "\n",
        "\n",
        "\n",
        "Ytest_Bin= label_binarize(YTEST, classes=[0,1])\n",
        "Valores_Bin= label_binarize(Valores_label, classes=[0,1])\n",
        "roc_auc, fpr, tpr, n_classes = roc_multiclass(Ytest_Bin,Valores_Bin,colum=1)\n",
        "roc_auc_mc(roc_auc,fpr,tpr,n_classes,'ROC curve ')\n",
        "\n"
      ],
      "execution_count": 26,
      "outputs": [
        {
          "output_type": "display_data",
          "data": {
            "image/png": "[encoded data removed]",
            "text/plain": [
              "<Figure size 432x432 with 1 Axes>"
            ]
          },
          "metadata": {
            "tags": [],
            "needs_background": "light"
          }
        }
      ]
    },
    {
      "cell_type": "code",
      "metadata": {
        "id": "Xe4ek79vGG-B",
        "colab_type": "code",
        "outputId": "747588b8-aa52-43ae-aceb-0d088c937e45",
        "colab": {
          "base_uri": "https://localhost:8080/",
          "height": 426
        }
      },
      "source": [
        "#GRAFICAR LAS PRIMERAS 10 CLASES\n",
        "tam=10\n",
        "index=0\n",
        "plt.figure(figsize=(tam*2, 7))\n",
        "for i in range(1,tam):\n",
        "  index += 1\n",
        "  plt.subplot((tam//10)+1, 5, index)\n",
        "  plt.imshow(XTEST[i-1])\n",
        "  plt.title(\"Class: {}\".format(Valores_label[i-1]))\n",
        "  plt.axis(\"off\")\n",
        "plt.show() "
      ],
      "execution_count": 27,
      "outputs": [
        {
          "output_type": "display_data",
          "data": {
            "image/png": "[encoded data removed]",
            "text/plain": [
              "<Figure size 1440x504 with 9 Axes>"
            ]
          },
          "metadata": {
            "tags": [],
            "needs_background": "light"
          }
        }
      ]
    },
    {
      "cell_type": "code",
      "metadata": {
        "id": "rCfjxCMLriBd",
        "colab_type": "code",
        "colab": {}
      },
      "source": [
        "\n"
      ],
      "execution_count": 0,
      "outputs": []
    },
    {
      "cell_type": "code",
      "metadata": {
        "id": "78qXclPMu2t8",
        "colab_type": "code",
        "colab": {}
      },
      "source": [
        ""
      ],
      "execution_count": 0,
      "outputs": []
    }
  ]
}
